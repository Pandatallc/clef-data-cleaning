{
 "cells": [
  {
   "cell_type": "code",
   "execution_count": 1,
   "metadata": {},
   "outputs": [],
   "source": [
    "# environment\n",
    "import os\n",
    "import sys\n",
    "root_path = os.path.abspath(\"../\")\n",
    "sys.path.append(root_path)"
   ]
  },
  {
   "cell_type": "code",
   "execution_count": 2,
   "metadata": {},
   "outputs": [],
   "source": [
    "import pandas as pd"
   ]
  },
  {
   "cell_type": "code",
   "execution_count": 3,
   "metadata": {},
   "outputs": [],
   "source": [
    "from etls.sheets.pat_pop import PatpopScrub\n",
    "from etls.sheets.va_cols import VARuleReader, get_occs\n",
    "from etls.etl_helpers import try_strip\n",
    "from etls.instructions import instructions"
   ]
  },
  {
   "cell_type": "code",
   "execution_count": 4,
   "metadata": {},
   "outputs": [],
   "source": [
    "def display_check(result):\n",
    "    old_col = result[0]\n",
    "    new_cols = result[1]\n",
    "    diff = old_col.compare(\n",
    "        new_cols[0], result_names=(f\"old_{old_col.name}\", new_cols[0].name)\n",
    "    )\n",
    "    if len(new_cols) > 1:\n",
    "        idx = list(diff.index)\n",
    "        cols = [old_col] + new_cols\n",
    "        return pd.DataFrame(cols).T.loc[idx]\n",
    "    return diff"
   ]
  },
  {
   "cell_type": "code",
   "execution_count": 5,
   "metadata": {},
   "outputs": [
    {
     "name": "stderr",
     "output_type": "stream",
     "text": [
      "C:\\Users\\PANDA15-User\\AppData\\Local\\Temp\\ipykernel_27868\\1523278632.py:1: DtypeWarning: Columns (6,10,11,28,32,40,42,46,48) have mixed types. Specify dtype option on import or set low_memory=False.\n",
      "  df = pd.read_csv(\"../data/interim/ophthafterdxdate.csv\")\n"
     ]
    }
   ],
   "source": [
    "df = pd.read_csv(\"../data/interim/ophthafterdxdate.csv\")"
   ]
  },
  {
   "cell_type": "markdown",
   "metadata": {},
   "source": [
    "# We need to account for .xlsx to .csv conversion when reconciling with our data cleaning summary\n",
    "- \"n/a\" is converted to NaN when we convert .xlsx to .csv (already handled; subtract from expected)\n",
    "- leading and trailing spaces are removed when we convert .xlsx to .csv (the diff between actual and expected should be added)\n"
   ]
  },
  {
   "cell_type": "code",
   "execution_count": 6,
   "metadata": {},
   "outputs": [],
   "source": [
    "col_name = \"VA_Right_Pressure\""
   ]
  },
  {
   "cell_type": "code",
   "execution_count": 7,
   "metadata": {},
   "outputs": [],
   "source": [
    "df[col_name] = [try_strip(x) for x in df[col_name]]"
   ]
  },
  {
   "cell_type": "code",
   "execution_count": 8,
   "metadata": {},
   "outputs": [],
   "source": [
    "col = df[col_name]"
   ]
  },
  {
   "cell_type": "code",
   "execution_count": 9,
   "metadata": {},
   "outputs": [],
   "source": [
    "ins = instructions[\"ophthafterdxdate\"][col_name]"
   ]
  },
  {
   "cell_type": "code",
   "execution_count": 10,
   "metadata": {},
   "outputs": [],
   "source": [
    "result = PatpopScrub(col, ins).clean()"
   ]
  },
  {
   "cell_type": "code",
   "execution_count": 15,
   "metadata": {},
   "outputs": [],
   "source": [
    "rules = get_occs(ins[\"args\"])"
   ]
  },
  {
   "cell_type": "code",
   "execution_count": 16,
   "metadata": {},
   "outputs": [],
   "source": [
    "rules = pd.DataFrame(rules.groupby([\"Value\", \"Rule (to be defined by CCF team)\"])[\"Occurences\"].sum()).reset_index()"
   ]
  },
  {
   "cell_type": "code",
   "execution_count": 17,
   "metadata": {},
   "outputs": [],
   "source": [
    "def mod_expected(df, col_name, rules, expected):\n",
    "    rules_merge = pd.merge(rules, df[[col_name]], left_on=[\"Value\"], right_on=[col_name], how=\"left\")\n",
    "    rules_merge[\"actual_occurences\"] = rules_merge.groupby(col_name)[col_name].transform(\"size\")\n",
    "    mis_match = rules_merge[rules_merge[\"Occurences\"] != rules_merge[\"actual_occurences\"]]\n",
    "    dups_dropped = mis_match.drop_duplicates(subset=[\"Value\"])\n",
    "    nan_count = sum(dups_dropped[dups_dropped[\"Value\"].isnull()][\"Occurences\"])\n",
    "    occ_diff = dups_dropped[~dups_dropped[\"Value\"].isnull()]\n",
    "    act_minus_exp = sum(occ_diff[\"actual_occurences\"]) - sum(occ_diff[\"Occurences\"])\n",
    "\n",
    "    return expected - nan_count + act_minus_exp\n",
    "    \n",
    "\n",
    "\n"
   ]
  },
  {
   "cell_type": "code",
   "execution_count": 18,
   "metadata": {},
   "outputs": [],
   "source": [
    "rules_merge = pd.merge(rules, df[[col_name]], left_on=[\"Value\"], right_on=[col_name], how=\"left\")"
   ]
  },
  {
   "cell_type": "code",
   "execution_count": 25,
   "metadata": {},
   "outputs": [
    {
     "data": {
      "text/html": [
       "<div>\n",
       "<style scoped>\n",
       "    .dataframe tbody tr th:only-of-type {\n",
       "        vertical-align: middle;\n",
       "    }\n",
       "\n",
       "    .dataframe tbody tr th {\n",
       "        vertical-align: top;\n",
       "    }\n",
       "\n",
       "    .dataframe thead th {\n",
       "        text-align: right;\n",
       "    }\n",
       "</style>\n",
       "<table border=\"1\" class=\"dataframe\">\n",
       "  <thead>\n",
       "    <tr style=\"text-align: right;\">\n",
       "      <th></th>\n",
       "      <th>Value</th>\n",
       "      <th>Rule (to be defined by CCF team)</th>\n",
       "      <th>Occurences</th>\n",
       "      <th>VA_Right_Pressure</th>\n",
       "      <th>actual_occurences</th>\n",
       "    </tr>\n",
       "  </thead>\n",
       "  <tbody>\n",
       "    <tr>\n",
       "      <th>0</th>\n",
       "      <td>-</td>\n",
       "      <td>Replace with blank</td>\n",
       "      <td>2</td>\n",
       "      <td>-</td>\n",
       "      <td>2</td>\n",
       "    </tr>\n",
       "    <tr>\n",
       "      <th>1</th>\n",
       "      <td>-</td>\n",
       "      <td>Replace with blank</td>\n",
       "      <td>2</td>\n",
       "      <td>-</td>\n",
       "      <td>2</td>\n",
       "    </tr>\n",
       "    <tr>\n",
       "      <th>2</th>\n",
       "      <td>--</td>\n",
       "      <td>Replace with blank</td>\n",
       "      <td>10</td>\n",
       "      <td>--</td>\n",
       "      <td>10</td>\n",
       "    </tr>\n",
       "    <tr>\n",
       "      <th>3</th>\n",
       "      <td>--</td>\n",
       "      <td>Replace with blank</td>\n",
       "      <td>10</td>\n",
       "      <td>--</td>\n",
       "      <td>10</td>\n",
       "    </tr>\n",
       "    <tr>\n",
       "      <th>4</th>\n",
       "      <td>--</td>\n",
       "      <td>Replace with blank</td>\n",
       "      <td>10</td>\n",
       "      <td>--</td>\n",
       "      <td>10</td>\n",
       "    </tr>\n",
       "    <tr>\n",
       "      <th>...</th>\n",
       "      <td>...</td>\n",
       "      <td>...</td>\n",
       "      <td>...</td>\n",
       "      <td>...</td>\n",
       "      <td>...</td>\n",
       "    </tr>\n",
       "    <tr>\n",
       "      <th>127</th>\n",
       "      <td>x</td>\n",
       "      <td>Replace with blank</td>\n",
       "      <td>9</td>\n",
       "      <td>x</td>\n",
       "      <td>9</td>\n",
       "    </tr>\n",
       "    <tr>\n",
       "      <th>128</th>\n",
       "      <td>x</td>\n",
       "      <td>Replace with blank</td>\n",
       "      <td>9</td>\n",
       "      <td>x</td>\n",
       "      <td>9</td>\n",
       "    </tr>\n",
       "    <tr>\n",
       "      <th>129</th>\n",
       "      <td>x</td>\n",
       "      <td>Replace with blank</td>\n",
       "      <td>9</td>\n",
       "      <td>x</td>\n",
       "      <td>9</td>\n",
       "    </tr>\n",
       "    <tr>\n",
       "      <th>130</th>\n",
       "      <td>x</td>\n",
       "      <td>Replace with blank</td>\n",
       "      <td>9</td>\n",
       "      <td>x</td>\n",
       "      <td>9</td>\n",
       "    </tr>\n",
       "    <tr>\n",
       "      <th>131</th>\n",
       "      <td>x</td>\n",
       "      <td>Replace with blank</td>\n",
       "      <td>9</td>\n",
       "      <td>x</td>\n",
       "      <td>9</td>\n",
       "    </tr>\n",
       "  </tbody>\n",
       "</table>\n",
       "<p>132 rows × 5 columns</p>\n",
       "</div>"
      ],
      "text/plain": [
       "    Value Rule (to be defined by CCF team)  Occurences VA_Right_Pressure  \\\n",
       "0       -               Replace with blank           2                 -   \n",
       "1       -               Replace with blank           2                 -   \n",
       "2      --               Replace with blank          10                --   \n",
       "3      --               Replace with blank          10                --   \n",
       "4      --               Replace with blank          10                --   \n",
       "..    ...                              ...         ...               ...   \n",
       "127     x               Replace with blank           9                 x   \n",
       "128     x               Replace with blank           9                 x   \n",
       "129     x               Replace with blank           9                 x   \n",
       "130     x               Replace with blank           9                 x   \n",
       "131     x               Replace with blank           9                 x   \n",
       "\n",
       "     actual_occurences  \n",
       "0                    2  \n",
       "1                    2  \n",
       "2                   10  \n",
       "3                   10  \n",
       "4                   10  \n",
       "..                 ...  \n",
       "127                  9  \n",
       "128                  9  \n",
       "129                  9  \n",
       "130                  9  \n",
       "131                  9  \n",
       "\n",
       "[132 rows x 5 columns]"
      ]
     },
     "execution_count": 25,
     "metadata": {},
     "output_type": "execute_result"
    }
   ],
   "source": [
    "rules_merge"
   ]
  },
  {
   "cell_type": "code",
   "execution_count": 19,
   "metadata": {},
   "outputs": [],
   "source": [
    "rules_merge[\"actual_occurences\"] = rules_merge.groupby(col_name)[col_name].transform(\"size\")"
   ]
  },
  {
   "cell_type": "code",
   "execution_count": 41,
   "metadata": {},
   "outputs": [
    {
     "data": {
      "text/html": [
       "<div>\n",
       "<style scoped>\n",
       "    .dataframe tbody tr th:only-of-type {\n",
       "        vertical-align: middle;\n",
       "    }\n",
       "\n",
       "    .dataframe tbody tr th {\n",
       "        vertical-align: top;\n",
       "    }\n",
       "\n",
       "    .dataframe thead th {\n",
       "        text-align: right;\n",
       "    }\n",
       "</style>\n",
       "<table border=\"1\" class=\"dataframe\">\n",
       "  <thead>\n",
       "    <tr style=\"text-align: right;\">\n",
       "      <th></th>\n",
       "      <th>Value</th>\n",
       "      <th>Rule (to be defined by CCF team)</th>\n",
       "      <th>Occurences</th>\n",
       "      <th>VA_Right_Pressure</th>\n",
       "      <th>actual_occurences</th>\n",
       "    </tr>\n",
       "  </thead>\n",
       "  <tbody>\n",
       "    <tr>\n",
       "      <th>0</th>\n",
       "      <td>-</td>\n",
       "      <td>Replace with blank</td>\n",
       "      <td>2</td>\n",
       "      <td>-</td>\n",
       "      <td>2</td>\n",
       "    </tr>\n",
       "    <tr>\n",
       "      <th>1</th>\n",
       "      <td>-</td>\n",
       "      <td>Replace with blank</td>\n",
       "      <td>2</td>\n",
       "      <td>-</td>\n",
       "      <td>2</td>\n",
       "    </tr>\n",
       "    <tr>\n",
       "      <th>2</th>\n",
       "      <td>--</td>\n",
       "      <td>Replace with blank</td>\n",
       "      <td>10</td>\n",
       "      <td>--</td>\n",
       "      <td>10</td>\n",
       "    </tr>\n",
       "    <tr>\n",
       "      <th>3</th>\n",
       "      <td>--</td>\n",
       "      <td>Replace with blank</td>\n",
       "      <td>10</td>\n",
       "      <td>--</td>\n",
       "      <td>10</td>\n",
       "    </tr>\n",
       "    <tr>\n",
       "      <th>4</th>\n",
       "      <td>--</td>\n",
       "      <td>Replace with blank</td>\n",
       "      <td>10</td>\n",
       "      <td>--</td>\n",
       "      <td>10</td>\n",
       "    </tr>\n",
       "    <tr>\n",
       "      <th>...</th>\n",
       "      <td>...</td>\n",
       "      <td>...</td>\n",
       "      <td>...</td>\n",
       "      <td>...</td>\n",
       "      <td>...</td>\n",
       "    </tr>\n",
       "    <tr>\n",
       "      <th>127</th>\n",
       "      <td>x</td>\n",
       "      <td>Replace with blank</td>\n",
       "      <td>9</td>\n",
       "      <td>x</td>\n",
       "      <td>9</td>\n",
       "    </tr>\n",
       "    <tr>\n",
       "      <th>128</th>\n",
       "      <td>x</td>\n",
       "      <td>Replace with blank</td>\n",
       "      <td>9</td>\n",
       "      <td>x</td>\n",
       "      <td>9</td>\n",
       "    </tr>\n",
       "    <tr>\n",
       "      <th>129</th>\n",
       "      <td>x</td>\n",
       "      <td>Replace with blank</td>\n",
       "      <td>9</td>\n",
       "      <td>x</td>\n",
       "      <td>9</td>\n",
       "    </tr>\n",
       "    <tr>\n",
       "      <th>130</th>\n",
       "      <td>x</td>\n",
       "      <td>Replace with blank</td>\n",
       "      <td>9</td>\n",
       "      <td>x</td>\n",
       "      <td>9</td>\n",
       "    </tr>\n",
       "    <tr>\n",
       "      <th>131</th>\n",
       "      <td>x</td>\n",
       "      <td>Replace with blank</td>\n",
       "      <td>9</td>\n",
       "      <td>x</td>\n",
       "      <td>9</td>\n",
       "    </tr>\n",
       "  </tbody>\n",
       "</table>\n",
       "<p>132 rows × 5 columns</p>\n",
       "</div>"
      ],
      "text/plain": [
       "    Value Rule (to be defined by CCF team)  Occurences VA_Right_Pressure  \\\n",
       "0       -               Replace with blank           2                 -   \n",
       "1       -               Replace with blank           2                 -   \n",
       "2      --               Replace with blank          10                --   \n",
       "3      --               Replace with blank          10                --   \n",
       "4      --               Replace with blank          10                --   \n",
       "..    ...                              ...         ...               ...   \n",
       "127     x               Replace with blank           9                 x   \n",
       "128     x               Replace with blank           9                 x   \n",
       "129     x               Replace with blank           9                 x   \n",
       "130     x               Replace with blank           9                 x   \n",
       "131     x               Replace with blank           9                 x   \n",
       "\n",
       "     actual_occurences  \n",
       "0                    2  \n",
       "1                    2  \n",
       "2                   10  \n",
       "3                   10  \n",
       "4                   10  \n",
       "..                 ...  \n",
       "127                  9  \n",
       "128                  9  \n",
       "129                  9  \n",
       "130                  9  \n",
       "131                  9  \n",
       "\n",
       "[132 rows x 5 columns]"
      ]
     },
     "execution_count": 41,
     "metadata": {},
     "output_type": "execute_result"
    }
   ],
   "source": [
    "rules_merge"
   ]
  },
  {
   "cell_type": "code",
   "execution_count": 42,
   "metadata": {},
   "outputs": [
    {
     "data": {
      "text/html": [
       "<div>\n",
       "<style scoped>\n",
       "    .dataframe tbody tr th:only-of-type {\n",
       "        vertical-align: middle;\n",
       "    }\n",
       "\n",
       "    .dataframe tbody tr th {\n",
       "        vertical-align: top;\n",
       "    }\n",
       "\n",
       "    .dataframe thead th {\n",
       "        text-align: right;\n",
       "    }\n",
       "</style>\n",
       "<table border=\"1\" class=\"dataframe\">\n",
       "  <thead>\n",
       "    <tr style=\"text-align: right;\">\n",
       "      <th></th>\n",
       "      <th>Value</th>\n",
       "      <th>Rule (to be defined by CCF team)</th>\n",
       "      <th>Occurences</th>\n",
       "      <th>VA_Right_Pressure</th>\n",
       "      <th>actual_occurences</th>\n",
       "    </tr>\n",
       "  </thead>\n",
       "  <tbody>\n",
       "  </tbody>\n",
       "</table>\n",
       "</div>"
      ],
      "text/plain": [
       "Empty DataFrame\n",
       "Columns: [Value, Rule (to be defined by CCF team), Occurences, VA_Right_Pressure, actual_occurences]\n",
       "Index: []"
      ]
     },
     "execution_count": 42,
     "metadata": {},
     "output_type": "execute_result"
    }
   ],
   "source": [
    "rules_merge[rules_merge[\"Value\"].isna()]"
   ]
  },
  {
   "cell_type": "code",
   "execution_count": 38,
   "metadata": {},
   "outputs": [],
   "source": [
    "mis_match = rules_merge[rules_merge[\"Occurences\"] != rules_merge[\"actual_occurences\"]]"
   ]
  },
  {
   "cell_type": "code",
   "execution_count": 39,
   "metadata": {},
   "outputs": [
    {
     "data": {
      "text/html": [
       "<div>\n",
       "<style scoped>\n",
       "    .dataframe tbody tr th:only-of-type {\n",
       "        vertical-align: middle;\n",
       "    }\n",
       "\n",
       "    .dataframe tbody tr th {\n",
       "        vertical-align: top;\n",
       "    }\n",
       "\n",
       "    .dataframe thead th {\n",
       "        text-align: right;\n",
       "    }\n",
       "</style>\n",
       "<table border=\"1\" class=\"dataframe\">\n",
       "  <thead>\n",
       "    <tr style=\"text-align: right;\">\n",
       "      <th></th>\n",
       "      <th>Value</th>\n",
       "      <th>Rule (to be defined by CCF team)</th>\n",
       "      <th>Occurences</th>\n",
       "      <th>VA_Right_Pressure</th>\n",
       "      <th>actual_occurences</th>\n",
       "    </tr>\n",
       "  </thead>\n",
       "  <tbody>\n",
       "  </tbody>\n",
       "</table>\n",
       "</div>"
      ],
      "text/plain": [
       "Empty DataFrame\n",
       "Columns: [Value, Rule (to be defined by CCF team), Occurences, VA_Right_Pressure, actual_occurences]\n",
       "Index: []"
      ]
     },
     "execution_count": 39,
     "metadata": {},
     "output_type": "execute_result"
    }
   ],
   "source": [
    "mis_match"
   ]
  },
  {
   "cell_type": "code",
   "execution_count": 27,
   "metadata": {},
   "outputs": [],
   "source": [
    "dups_dropped =mis_match.drop_duplicates(subset=[\"Value\"])"
   ]
  },
  {
   "cell_type": "code",
   "execution_count": 28,
   "metadata": {},
   "outputs": [
    {
     "data": {
      "text/html": [
       "<div>\n",
       "<style scoped>\n",
       "    .dataframe tbody tr th:only-of-type {\n",
       "        vertical-align: middle;\n",
       "    }\n",
       "\n",
       "    .dataframe tbody tr th {\n",
       "        vertical-align: top;\n",
       "    }\n",
       "\n",
       "    .dataframe thead th {\n",
       "        text-align: right;\n",
       "    }\n",
       "</style>\n",
       "<table border=\"1\" class=\"dataframe\">\n",
       "  <thead>\n",
       "    <tr style=\"text-align: right;\">\n",
       "      <th></th>\n",
       "      <th>Value</th>\n",
       "      <th>Rule (to be defined by CCF team)</th>\n",
       "      <th>Occurences</th>\n",
       "      <th>VA_Right_Pressure</th>\n",
       "      <th>actual_occurences</th>\n",
       "    </tr>\n",
       "  </thead>\n",
       "  <tbody>\n",
       "  </tbody>\n",
       "</table>\n",
       "</div>"
      ],
      "text/plain": [
       "Empty DataFrame\n",
       "Columns: [Value, Rule (to be defined by CCF team), Occurences, VA_Right_Pressure, actual_occurences]\n",
       "Index: []"
      ]
     },
     "execution_count": 28,
     "metadata": {},
     "output_type": "execute_result"
    }
   ],
   "source": [
    "dups_dropped"
   ]
  },
  {
   "cell_type": "code",
   "execution_count": 29,
   "metadata": {},
   "outputs": [],
   "source": [
    "nan_count = sum(dups_dropped[dups_dropped[\"Value\"].isnull()][\"Occurences\"])"
   ]
  },
  {
   "cell_type": "code",
   "execution_count": 30,
   "metadata": {},
   "outputs": [
    {
     "data": {
      "text/plain": [
       "0"
      ]
     },
     "execution_count": 30,
     "metadata": {},
     "output_type": "execute_result"
    }
   ],
   "source": [
    "nan_count"
   ]
  },
  {
   "cell_type": "code",
   "execution_count": 31,
   "metadata": {},
   "outputs": [],
   "source": [
    "occ_diff = dups_dropped[~dups_dropped[\"Value\"].isnull() & ~dups_dropped['actual_occurences'].isnull()]"
   ]
  },
  {
   "cell_type": "code",
   "execution_count": 33,
   "metadata": {},
   "outputs": [
    {
     "ename": "NameError",
     "evalue": "name 'cc_diff' is not defined",
     "output_type": "error",
     "traceback": [
      "\u001b[1;31m---------------------------------------------------------------------------\u001b[0m",
      "\u001b[1;31mNameError\u001b[0m                                 Traceback (most recent call last)",
      "Cell \u001b[1;32mIn[33], line 1\u001b[0m\n\u001b[1;32m----> 1\u001b[0m \u001b[43mcc_diff\u001b[49m\n",
      "\u001b[1;31mNameError\u001b[0m: name 'cc_diff' is not defined"
     ]
    }
   ],
   "source": [
    "cc_diff"
   ]
  },
  {
   "cell_type": "code",
   "execution_count": 32,
   "metadata": {},
   "outputs": [
    {
     "data": {
      "text/html": [
       "<div>\n",
       "<style scoped>\n",
       "    .dataframe tbody tr th:only-of-type {\n",
       "        vertical-align: middle;\n",
       "    }\n",
       "\n",
       "    .dataframe tbody tr th {\n",
       "        vertical-align: top;\n",
       "    }\n",
       "\n",
       "    .dataframe thead th {\n",
       "        text-align: right;\n",
       "    }\n",
       "</style>\n",
       "<table border=\"1\" class=\"dataframe\">\n",
       "  <thead>\n",
       "    <tr style=\"text-align: right;\">\n",
       "      <th></th>\n",
       "      <th>Value</th>\n",
       "      <th>Rule (to be defined by CCF team)</th>\n",
       "      <th>Occurences</th>\n",
       "      <th>VA_Right_Pressure</th>\n",
       "      <th>actual_occurences</th>\n",
       "    </tr>\n",
       "  </thead>\n",
       "  <tbody>\n",
       "  </tbody>\n",
       "</table>\n",
       "</div>"
      ],
      "text/plain": [
       "Empty DataFrame\n",
       "Columns: [Value, Rule (to be defined by CCF team), Occurences, VA_Right_Pressure, actual_occurences]\n",
       "Index: []"
      ]
     },
     "execution_count": 32,
     "metadata": {},
     "output_type": "execute_result"
    }
   ],
   "source": [
    "occ_diff"
   ]
  },
  {
   "cell_type": "code",
   "execution_count": 34,
   "metadata": {},
   "outputs": [
    {
     "data": {
      "text/plain": [
       "0"
      ]
     },
     "execution_count": 34,
     "metadata": {},
     "output_type": "execute_result"
    }
   ],
   "source": [
    "sum(occ_diff[\"actual_occurences\"])"
   ]
  },
  {
   "cell_type": "code",
   "execution_count": 35,
   "metadata": {},
   "outputs": [
    {
     "data": {
      "text/plain": [
       "0"
      ]
     },
     "execution_count": 35,
     "metadata": {},
     "output_type": "execute_result"
    }
   ],
   "source": [
    "sum(occ_diff[\"Occurences\"])"
   ]
  },
  {
   "cell_type": "code",
   "execution_count": 36,
   "metadata": {},
   "outputs": [
    {
     "data": {
      "text/plain": [
       "0"
      ]
     },
     "execution_count": 36,
     "metadata": {},
     "output_type": "execute_result"
    }
   ],
   "source": [
    "sum(occ_diff[\"actual_occurences\"]) - sum(occ_diff[\"Occurences\"])"
   ]
  },
  {
   "cell_type": "markdown",
   "metadata": {},
   "source": [
    "***"
   ]
  },
  {
   "cell_type": "code",
   "execution_count": null,
   "metadata": {},
   "outputs": [],
   "source": [
    "occ_diff = "
   ]
  },
  {
   "cell_type": "code",
   "execution_count": 46,
   "metadata": {},
   "outputs": [
    {
     "data": {
      "text/plain": [
       "Value\n",
       "--              20\n",
       "x               13\n",
       "soft            12\n",
       "UTO             11\n",
       "X                9\n",
       "---              8\n",
       "uto              6\n",
       "CL               6\n",
       "dfr              5\n",
       "unab             4\n",
       "defe             4\n",
       "NT               4\n",
       "Soft             3\n",
       "sft              3\n",
       "Pros             2\n",
       "Dfr              2\n",
       "Prosthetic       1\n",
       "nl               1\n",
       "Unable           1\n",
       "pros             1\n",
       "16?              1\n",
       "STP              1\n",
       "20?              1\n",
       "18-1             1\n",
       "`18              1\n",
       "21-2             1\n",
       "stp              1\n",
       "22, 24           1\n",
       "BCL in place     1\n",
       "BCL              1\n",
       "DEF              1\n",
       "-                1\n",
       "err              1\n",
       "0-10             1\n",
       "<5               1\n",
       "DFR              1\n",
       "NTT              1\n",
       "Name: count, dtype: int64"
      ]
     },
     "execution_count": 46,
     "metadata": {},
     "output_type": "execute_result"
    }
   ],
   "source": [
    "rules_merge[\"Value\"].value_counts()"
   ]
  },
  {
   "cell_type": "code",
   "execution_count": 59,
   "metadata": {},
   "outputs": [],
   "source": [
    "str_rule_count = str_rules.rules[\"Occurences\"]\n"
   ]
  },
  {
   "cell_type": "code",
   "execution_count": 61,
   "metadata": {},
   "outputs": [],
   "source": [
    "str_rule_count.name = \"Occurences\""
   ]
  },
  {
   "cell_type": "code",
   "execution_count": 64,
   "metadata": {},
   "outputs": [
    {
     "data": {
      "text/plain": [
       "0     20\n",
       "1     13\n",
       "2     12\n",
       "3     11\n",
       "4      9\n",
       "5      8\n",
       "6      6\n",
       "7      5\n",
       "8      4\n",
       "9      4\n",
       "10     4\n",
       "11     3\n",
       "12     3\n",
       "13     3\n",
       "14     2\n",
       "15     2\n",
       "16     1\n",
       "17     1\n",
       "18     1\n",
       "19     1\n",
       "20     1\n",
       "21     1\n",
       "22     1\n",
       "23     1\n",
       "24     1\n",
       "25     1\n",
       "26     1\n",
       "27     1\n",
       "28     1\n",
       "29     1\n",
       "30     1\n",
       "31     1\n",
       "32     1\n",
       "33     1\n",
       "34     1\n",
       "35     1\n",
       "36     1\n",
       "37     1\n",
       "38     1\n",
       "39     1\n",
       "Name: Occurences, dtype: int64"
      ]
     },
     "execution_count": 64,
     "metadata": {},
     "output_type": "execute_result"
    }
   ],
   "source": [
    "str_rule_count"
   ]
  },
  {
   "cell_type": "code",
   "execution_count": 65,
   "metadata": {},
   "outputs": [
    {
     "data": {
      "text/plain": [
       "0     20\n",
       "1     13\n",
       "2     12\n",
       "3     11\n",
       "4      9\n",
       "5      8\n",
       "6      6\n",
       "7      6\n",
       "8      5\n",
       "9      4\n",
       "10     4\n",
       "11     4\n",
       "12     3\n",
       "13     3\n",
       "14     2\n",
       "15     2\n",
       "16     1\n",
       "17     1\n",
       "18     1\n",
       "19     1\n",
       "20     1\n",
       "21     1\n",
       "22     1\n",
       "23     1\n",
       "24     1\n",
       "25     1\n",
       "26     1\n",
       "27     1\n",
       "28     1\n",
       "29     1\n",
       "30     1\n",
       "31     1\n",
       "32     1\n",
       "33     1\n",
       "34     1\n",
       "35     1\n",
       "36     1\n",
       "Name: Occurences, dtype: int64"
      ]
     },
     "execution_count": 65,
     "metadata": {},
     "output_type": "execute_result"
    }
   ],
   "source": [
    "pd.Series(rules_merge[\"Value\"].value_counts().values, name=\"Occurences\")"
   ]
  },
  {
   "cell_type": "code",
   "execution_count": null,
   "metadata": {},
   "outputs": [],
   "source": [
    "from etls.sheets.va_cols import VARuleReader\n",
    "\n",
    "\n",
    "rules= VARuleReader()"
   ]
  },
  {
   "cell_type": "code",
   "execution_count": 23,
   "metadata": {},
   "outputs": [
    {
     "data": {
      "text/html": [
       "<div>\n",
       "<style scoped>\n",
       "    .dataframe tbody tr th:only-of-type {\n",
       "        vertical-align: middle;\n",
       "    }\n",
       "\n",
       "    .dataframe tbody tr th {\n",
       "        vertical-align: top;\n",
       "    }\n",
       "\n",
       "    .dataframe thead th {\n",
       "        text-align: right;\n",
       "    }\n",
       "</style>\n",
       "<table border=\"1\" class=\"dataframe\">\n",
       "  <thead>\n",
       "    <tr style=\"text-align: right;\">\n",
       "      <th></th>\n",
       "      <th>old_VA_Left_Pressure</th>\n",
       "      <th>VA_Left_Pressure</th>\n",
       "    </tr>\n",
       "  </thead>\n",
       "  <tbody>\n",
       "    <tr>\n",
       "      <th>2679</th>\n",
       "      <td>soft</td>\n",
       "      <td>NaN</td>\n",
       "    </tr>\n",
       "    <tr>\n",
       "      <th>2680</th>\n",
       "      <td>soft</td>\n",
       "      <td>NaN</td>\n",
       "    </tr>\n",
       "    <tr>\n",
       "      <th>2689</th>\n",
       "      <td>X</td>\n",
       "      <td>NaN</td>\n",
       "    </tr>\n",
       "    <tr>\n",
       "      <th>5004</th>\n",
       "      <td>--</td>\n",
       "      <td>NaN</td>\n",
       "    </tr>\n",
       "    <tr>\n",
       "      <th>6277</th>\n",
       "      <td>Soft</td>\n",
       "      <td>NaN</td>\n",
       "    </tr>\n",
       "    <tr>\n",
       "      <th>...</th>\n",
       "      <td>...</td>\n",
       "      <td>...</td>\n",
       "    </tr>\n",
       "    <tr>\n",
       "      <th>105684</th>\n",
       "      <td>UTO</td>\n",
       "      <td>NaN</td>\n",
       "    </tr>\n",
       "    <tr>\n",
       "      <th>105685</th>\n",
       "      <td>UTO</td>\n",
       "      <td>NaN</td>\n",
       "    </tr>\n",
       "    <tr>\n",
       "      <th>105861</th>\n",
       "      <td>---</td>\n",
       "      <td>NaN</td>\n",
       "    </tr>\n",
       "    <tr>\n",
       "      <th>107253</th>\n",
       "      <td>defe</td>\n",
       "      <td>NaN</td>\n",
       "    </tr>\n",
       "    <tr>\n",
       "      <th>108011</th>\n",
       "      <td>x</td>\n",
       "      <td>NaN</td>\n",
       "    </tr>\n",
       "  </tbody>\n",
       "</table>\n",
       "<p>129 rows × 2 columns</p>\n",
       "</div>"
      ],
      "text/plain": [
       "       old_VA_Left_Pressure VA_Left_Pressure\n",
       "2679                   soft              NaN\n",
       "2680                   soft              NaN\n",
       "2689                      X              NaN\n",
       "5004                     --              NaN\n",
       "6277                   Soft              NaN\n",
       "...                     ...              ...\n",
       "105684                  UTO              NaN\n",
       "105685                  UTO              NaN\n",
       "105861                  ---              NaN\n",
       "107253                 defe              NaN\n",
       "108011                    x              NaN\n",
       "\n",
       "[129 rows x 2 columns]"
      ]
     },
     "execution_count": 23,
     "metadata": {},
     "output_type": "execute_result"
    }
   ],
   "source": [
    "display_check(result)"
   ]
  },
  {
   "cell_type": "code",
   "execution_count": 19,
   "metadata": {},
   "outputs": [
    {
     "data": {
      "text/plain": [
       "4"
      ]
     },
     "execution_count": 19,
     "metadata": {},
     "output_type": "execute_result"
    }
   ],
   "source": [
    "133-129"
   ]
  },
  {
   "cell_type": "code",
   "execution_count": 13,
   "metadata": {},
   "outputs": [
    {
     "data": {
      "text/plain": [
       "0         NaN\n",
       "1         NaN\n",
       "2          19\n",
       "3          15\n",
       "4         NaN\n",
       "         ... \n",
       "108369    NaN\n",
       "108370     17\n",
       "108371     16\n",
       "108372    NaN\n",
       "108373    NaN\n",
       "Name: VA_Left_Pressure, Length: 108374, dtype: object"
      ]
     },
     "execution_count": 13,
     "metadata": {},
     "output_type": "execute_result"
    }
   ],
   "source": [
    "orig"
   ]
  },
  {
   "cell_type": "code",
   "execution_count": 14,
   "metadata": {},
   "outputs": [
    {
     "data": {
      "text/plain": [
       "[0         NaN\n",
       " 1         NaN\n",
       " 2          19\n",
       " 3          15\n",
       " 4         NaN\n",
       "          ... \n",
       " 108369    NaN\n",
       " 108370     17\n",
       " 108371     16\n",
       " 108372    NaN\n",
       " 108373    NaN\n",
       " Name: VA_Left_Pressure, Length: 108374, dtype: object]"
      ]
     },
     "execution_count": 14,
     "metadata": {},
     "output_type": "execute_result"
    }
   ],
   "source": [
    "ammend"
   ]
  },
  {
   "cell_type": "code",
   "execution_count": null,
   "metadata": {},
   "outputs": [],
   "source": []
  }
 ],
 "metadata": {
  "kernelspec": {
   "display_name": ".venv",
   "language": "python",
   "name": "python3"
  },
  "language_info": {
   "codemirror_mode": {
    "name": "ipython",
    "version": 3
   },
   "file_extension": ".py",
   "mimetype": "text/x-python",
   "name": "python",
   "nbconvert_exporter": "python",
   "pygments_lexer": "ipython3",
   "version": "3.11.6"
  }
 },
 "nbformat": 4,
 "nbformat_minor": 2
}
