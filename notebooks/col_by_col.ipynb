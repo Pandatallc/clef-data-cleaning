{
 "cells": [
  {
   "cell_type": "code",
   "execution_count": 1,
   "metadata": {},
   "outputs": [],
   "source": [
    "# environment\n",
    "import os\n",
    "import sys\n",
    "root_path = os.path.abspath(\"../\")\n",
    "sys.path.append(root_path)"
   ]
  },
  {
   "cell_type": "code",
   "execution_count": 2,
   "metadata": {},
   "outputs": [],
   "source": [
    "import pandas as pd"
   ]
  },
  {
   "cell_type": "code",
   "execution_count": 3,
   "metadata": {},
   "outputs": [],
   "source": [
    "from etls.sheets.pat_pop import PatpopScrub\n",
    "from etls.sheets.va_cols import VARuleReader, get_col_map_all, get_all_rules\n",
    "from etls.etl_helpers import try_strip, try_int_to_str\n",
    "from etls.instructions import instructions"
   ]
  },
  {
   "cell_type": "code",
   "execution_count": 4,
   "metadata": {},
   "outputs": [],
   "source": [
    "def display_check(result):\n",
    "    old_col = result[0]\n",
    "    new_cols = result[1]\n",
    "    diff = old_col.compare(\n",
    "        new_cols[0], result_names=(f\"{old_col.name}\", new_cols[0].name)\n",
    "    )\n",
    "    if len(new_cols) > 1:\n",
    "        idx = list(diff.index)\n",
    "        cols = [old_col] + new_cols\n",
    "        return pd.DataFrame(cols).T.loc[idx]\n",
    "    return diff"
   ]
  },
  {
   "cell_type": "code",
   "execution_count": 1,
   "metadata": {},
   "outputs": [
    {
     "ename": "SyntaxError",
     "evalue": "invalid decimal literal (3828878315.py, line 1)",
     "output_type": "error",
     "traceback": [
      "\u001b[1;36m  Cell \u001b[1;32mIn[1], line 1\u001b[1;36m\u001b[0m\n\u001b[1;33m    3.str.contains(\"hi\")\u001b[0m\n\u001b[1;37m     ^\u001b[0m\n\u001b[1;31mSyntaxError\u001b[0m\u001b[1;31m:\u001b[0m invalid decimal literal\n"
     ]
    }
   ],
   "source": [
    "3.str.contains(\"hi\")"
   ]
  },
  {
   "cell_type": "code",
   "execution_count": 5,
   "metadata": {},
   "outputs": [
    {
     "name": "stderr",
     "output_type": "stream",
     "text": [
      "C:\\Users\\PANDA15-User\\AppData\\Local\\Temp\\ipykernel_35024\\1523278632.py:1: DtypeWarning: Columns (6,10,11,28,32,40,42,46,48) have mixed types. Specify dtype option on import or set low_memory=False.\n",
      "  df = pd.read_csv(\"../data/interim/ophthafterdxdate.csv\")\n"
     ]
    }
   ],
   "source": [
    "df = pd.read_csv(\"../data/interim/ophthafterdxdate.csv\")"
   ]
  },
  {
   "cell_type": "markdown",
   "metadata": {},
   "source": [
    "## Going through each Visual Accuity column one by one and checking the edits. \n",
    "- \"n/a\" is converted to NaN when we convert .xlsx to .csv (already handled; subtract from expected)\n",
    "- leading and trailing spaces are removed when we convert .xlsx to .csv (the diff between actual and expected should be added)\n"
   ]
  },
  {
   "cell_type": "code",
   "execution_count": 6,
   "metadata": {},
   "outputs": [],
   "source": [
    "col_name = \"VA_Right_Distance_SC\""
   ]
  },
  {
   "cell_type": "code",
   "execution_count": 7,
   "metadata": {},
   "outputs": [],
   "source": [
    "col = df[col_name]\n",
    "ins = instructions[\"ophthafterdxdate\"][col_name]"
   ]
  },
  {
   "cell_type": "code",
   "execution_count": 8,
   "metadata": {},
   "outputs": [],
   "source": [
    "result = PatpopScrub(col, ins).clean()"
   ]
  },
  {
   "cell_type": "code",
   "execution_count": 9,
   "metadata": {},
   "outputs": [],
   "source": [
    "old = result[0]"
   ]
  },
  {
   "cell_type": "code",
   "execution_count": 10,
   "metadata": {},
   "outputs": [],
   "source": [
    "new=result[1][0]"
   ]
  },
  {
   "cell_type": "code",
   "execution_count": 11,
   "metadata": {},
   "outputs": [],
   "source": [
    "old_new = pd.DataFrame([old, new]).T\n",
    "old_new.columns = [\"old\", \"new\"]"
   ]
  },
  {
   "cell_type": "code",
   "execution_count": 22,
   "metadata": {},
   "outputs": [
    {
     "data": {
      "text/html": [
       "<div>\n",
       "<style scoped>\n",
       "    .dataframe tbody tr th:only-of-type {\n",
       "        vertical-align: middle;\n",
       "    }\n",
       "\n",
       "    .dataframe tbody tr th {\n",
       "        vertical-align: top;\n",
       "    }\n",
       "\n",
       "    .dataframe thead th {\n",
       "        text-align: right;\n",
       "    }\n",
       "</style>\n",
       "<table border=\"1\" class=\"dataframe\">\n",
       "  <thead>\n",
       "    <tr style=\"text-align: right;\">\n",
       "      <th></th>\n",
       "      <th>old</th>\n",
       "      <th>new</th>\n",
       "    </tr>\n",
       "  </thead>\n",
       "  <tbody>\n",
       "  </tbody>\n",
       "</table>\n",
       "</div>"
      ],
      "text/plain": [
       "Empty DataFrame\n",
       "Columns: [old, new]\n",
       "Index: []"
      ]
     },
     "execution_count": 22,
     "metadata": {},
     "output_type": "execute_result"
    }
   ],
   "source": [
    "old_new[~old_new[\"old\"].isna() & old_new[\"old\"].str.contains(\"no_lookup\")]"
   ]
  },
  {
   "cell_type": "code",
   "execution_count": 13,
   "metadata": {},
   "outputs": [],
   "source": [
    "on_str = old_new[~old_new[\"old\"].isna() \n",
    "        & (old_new[\"old\"].apply(type) == str)\n",
    "        ]"
   ]
  },
  {
   "cell_type": "code",
   "execution_count": 14,
   "metadata": {},
   "outputs": [
    {
     "data": {
      "text/plain": [
       "old\n",
       "HM     226\n",
       "LP      82\n",
       "NLP     57\n",
       "CF      40\n",
       "NT      12\n",
       "cf       6\n",
       "hm       4\n",
       "UTO      3\n",
       "72       2\n",
       "X        2\n",
       "nlp      1\n",
       "200      1\n",
       "Name: count, dtype: int64"
      ]
     },
     "execution_count": 14,
     "metadata": {},
     "output_type": "execute_result"
    }
   ],
   "source": [
    "on_str[on_str[\"old\"].apply(len) <=3][\"old\"].value_counts()"
   ]
  },
  {
   "cell_type": "code",
   "execution_count": 13,
   "metadata": {},
   "outputs": [
    {
     "data": {
      "text/html": [
       "<div>\n",
       "<style scoped>\n",
       "    .dataframe tbody tr th:only-of-type {\n",
       "        vertical-align: middle;\n",
       "    }\n",
       "\n",
       "    .dataframe tbody tr th {\n",
       "        vertical-align: top;\n",
       "    }\n",
       "\n",
       "    .dataframe thead th {\n",
       "        text-align: right;\n",
       "    }\n",
       "</style>\n",
       "<table border=\"1\" class=\"dataframe\">\n",
       "  <thead>\n",
       "    <tr style=\"text-align: right;\">\n",
       "      <th></th>\n",
       "      <th>old_VA_Right_Distance_SC</th>\n",
       "      <th>VA_Right_Distance_SC</th>\n",
       "    </tr>\n",
       "  </thead>\n",
       "  <tbody>\n",
       "    <tr>\n",
       "      <th>20</th>\n",
       "      <td>20/70</td>\n",
       "      <td>20/70</td>\n",
       "    </tr>\n",
       "    <tr>\n",
       "      <th>21</th>\n",
       "      <td>20/70</td>\n",
       "      <td>20/70</td>\n",
       "    </tr>\n",
       "    <tr>\n",
       "      <th>22</th>\n",
       "      <td>20/50-</td>\n",
       "      <td>20/50</td>\n",
       "    </tr>\n",
       "    <tr>\n",
       "      <th>77</th>\n",
       "      <td>New glasses Rx</td>\n",
       "      <td>NaN</td>\n",
       "    </tr>\n",
       "    <tr>\n",
       "      <th>120</th>\n",
       "      <td>20/60</td>\n",
       "      <td>20/60</td>\n",
       "    </tr>\n",
       "    <tr>\n",
       "      <th>...</th>\n",
       "      <td>...</td>\n",
       "      <td>...</td>\n",
       "    </tr>\n",
       "    <tr>\n",
       "      <th>108360</th>\n",
       "      <td>20/60</td>\n",
       "      <td>20/60</td>\n",
       "    </tr>\n",
       "    <tr>\n",
       "      <th>108361</th>\n",
       "      <td>20/60</td>\n",
       "      <td>20/60</td>\n",
       "    </tr>\n",
       "    <tr>\n",
       "      <th>108362</th>\n",
       "      <td>20/50</td>\n",
       "      <td>20/50</td>\n",
       "    </tr>\n",
       "    <tr>\n",
       "      <th>108363</th>\n",
       "      <td>20/70</td>\n",
       "      <td>20/70</td>\n",
       "    </tr>\n",
       "    <tr>\n",
       "      <th>108364</th>\n",
       "      <td>20/200</td>\n",
       "      <td>20/200</td>\n",
       "    </tr>\n",
       "  </tbody>\n",
       "</table>\n",
       "<p>18871 rows × 2 columns</p>\n",
       "</div>"
      ],
      "text/plain": [
       "       old_VA_Right_Distance_SC VA_Right_Distance_SC\n",
       "20                        20/70                20/70\n",
       "21                        20/70                20/70\n",
       "22                       20/50-                20/50\n",
       "77               New glasses Rx                  NaN\n",
       "120                       20/60                20/60\n",
       "...                         ...                  ...\n",
       "108360                    20/60                20/60\n",
       "108361                    20/60                20/60\n",
       "108362                    20/50                20/50\n",
       "108363                    20/70                20/70\n",
       "108364                   20/200               20/200\n",
       "\n",
       "[18871 rows x 2 columns]"
      ]
     },
     "execution_count": 13,
     "metadata": {},
     "output_type": "execute_result"
    }
   ],
   "source": [
    "old_new[~old_new[\"old_VA_Right_Distance_SC\"].isnull()]"
   ]
  },
  {
   "cell_type": "code",
   "execution_count": 15,
   "metadata": {},
   "outputs": [],
   "source": [
    "check = display_check(result)"
   ]
  },
  {
   "cell_type": "code",
   "execution_count": 16,
   "metadata": {},
   "outputs": [
    {
     "data": {
      "text/plain": [
       "2537"
      ]
     },
     "execution_count": 16,
     "metadata": {},
     "output_type": "execute_result"
    }
   ],
   "source": [
    "len(check)"
   ]
  },
  {
   "cell_type": "code",
   "execution_count": 39,
   "metadata": {},
   "outputs": [
    {
     "data": {
      "text/plain": [
       "'9'"
      ]
     },
     "execution_count": 39,
     "metadata": {},
     "output_type": "execute_result"
    }
   ],
   "source": [
    "try_int_to_str(9)"
   ]
  },
  {
   "cell_type": "code",
   "execution_count": 41,
   "metadata": {},
   "outputs": [
    {
     "data": {
      "text/plain": [
       "'Count fingers'"
      ]
     },
     "execution_count": 41,
     "metadata": {},
     "output_type": "execute_result"
    }
   ],
   "source": [
    "get_col_map_all(ins[\"args\"])[\"CF @ 2 feet\"]"
   ]
  },
  {
   "cell_type": "code",
   "execution_count": 47,
   "metadata": {},
   "outputs": [],
   "source": [
    "def try_strip(x):\n",
    "    \"\"\"strip white space around strings, and convert solely whitespace to np.nan\"\"\"\n",
    "    try:\n",
    "        res = x.strip()\n",
    "    except:\n",
    "        res = x\n",
    "    return np.nan if res == \"\" else res"
   ]
  },
  {
   "cell_type": "code",
   "execution_count": 48,
   "metadata": {},
   "outputs": [
    {
     "data": {
      "text/plain": [
       "'CF @ 2 feet'"
      ]
     },
     "execution_count": 48,
     "metadata": {},
     "output_type": "execute_result"
    }
   ],
   "source": [
    "try_strip(check[~check[\"VA_Right_Distance_SC\"].isna() & check[\"VA_Right_Distance_SC\"].str.contains(\"no_lookup\")][\"old_VA_Right_Distance_SC\"][1402])"
   ]
  },
  {
   "cell_type": "code",
   "execution_count": 10,
   "metadata": {},
   "outputs": [
    {
     "data": {
      "text/plain": [
       "False"
      ]
     },
     "execution_count": 10,
     "metadata": {},
     "output_type": "execute_result"
    }
   ],
   "source": [
    "len(check) == 2541"
   ]
  },
  {
   "cell_type": "markdown",
   "metadata": {},
   "source": [
    "### VA Left Distance_SC"
   ]
  },
  {
   "cell_type": "code",
   "execution_count": 18,
   "metadata": {},
   "outputs": [],
   "source": [
    "col_name = \"VA_Left_Distance_SC\"\n",
    "col = df[col_name]\n",
    "ins = instructions[\"ophthafterdxdate\"][col_name]"
   ]
  },
  {
   "cell_type": "code",
   "execution_count": 21,
   "metadata": {},
   "outputs": [],
   "source": [
    "result = PatpopScrub(col, ins).clean()\n",
    "check = display_check(result)"
   ]
  },
  {
   "cell_type": "code",
   "execution_count": 23,
   "metadata": {},
   "outputs": [
    {
     "data": {
      "text/html": [
       "<div>\n",
       "<style scoped>\n",
       "    .dataframe tbody tr th:only-of-type {\n",
       "        vertical-align: middle;\n",
       "    }\n",
       "\n",
       "    .dataframe tbody tr th {\n",
       "        vertical-align: top;\n",
       "    }\n",
       "\n",
       "    .dataframe thead th {\n",
       "        text-align: right;\n",
       "    }\n",
       "</style>\n",
       "<table border=\"1\" class=\"dataframe\">\n",
       "  <thead>\n",
       "    <tr style=\"text-align: right;\">\n",
       "      <th></th>\n",
       "      <th>old_old_VA_Left_Distance_SC</th>\n",
       "      <th>VA_Left_Distance_SC</th>\n",
       "    </tr>\n",
       "  </thead>\n",
       "  <tbody>\n",
       "    <tr>\n",
       "      <th>476</th>\n",
       "      <td>20/60-2</td>\n",
       "      <td>20/60</td>\n",
       "    </tr>\n",
       "    <tr>\n",
       "      <th>525</th>\n",
       "      <td>CF at 3'</td>\n",
       "      <td>Count fingers</td>\n",
       "    </tr>\n",
       "    <tr>\n",
       "      <th>526</th>\n",
       "      <td>CF at 2'</td>\n",
       "      <td>Count fingers</td>\n",
       "    </tr>\n",
       "    <tr>\n",
       "      <th>527</th>\n",
       "      <td>CF @ 6'</td>\n",
       "      <td>Count fingers</td>\n",
       "    </tr>\n",
       "    <tr>\n",
       "      <th>528</th>\n",
       "      <td>CF at 7'</td>\n",
       "      <td>Count fingers</td>\n",
       "    </tr>\n",
       "    <tr>\n",
       "      <th>...</th>\n",
       "      <td>...</td>\n",
       "      <td>...</td>\n",
       "    </tr>\n",
       "    <tr>\n",
       "      <th>108220</th>\n",
       "      <td>CF at 3'</td>\n",
       "      <td>Count fingers</td>\n",
       "    </tr>\n",
       "    <tr>\n",
       "      <th>108223</th>\n",
       "      <td>20/300-turns eye to the right</td>\n",
       "      <td>20/300</td>\n",
       "    </tr>\n",
       "    <tr>\n",
       "      <th>108335</th>\n",
       "      <td>CF at 3'</td>\n",
       "      <td>Count fingers</td>\n",
       "    </tr>\n",
       "    <tr>\n",
       "      <th>108337</th>\n",
       "      <td>20/300 eccentric</td>\n",
       "      <td>20/300</td>\n",
       "    </tr>\n",
       "    <tr>\n",
       "      <th>108340</th>\n",
       "      <td>CF at 3'</td>\n",
       "      <td>Count fingers</td>\n",
       "    </tr>\n",
       "  </tbody>\n",
       "</table>\n",
       "<p>2782 rows × 2 columns</p>\n",
       "</div>"
      ],
      "text/plain": [
       "          old_old_VA_Left_Distance_SC VA_Left_Distance_SC\n",
       "476                           20/60-2               20/60\n",
       "525                          CF at 3'       Count fingers\n",
       "526                          CF at 2'       Count fingers\n",
       "527                           CF @ 6'       Count fingers\n",
       "528                          CF at 7'       Count fingers\n",
       "...                               ...                 ...\n",
       "108220                       CF at 3'       Count fingers\n",
       "108223  20/300-turns eye to the right              20/300\n",
       "108335                       CF at 3'       Count fingers\n",
       "108337               20/300 eccentric              20/300\n",
       "108340                       CF at 3'       Count fingers\n",
       "\n",
       "[2782 rows x 2 columns]"
      ]
     },
     "execution_count": 23,
     "metadata": {},
     "output_type": "execute_result"
    }
   ],
   "source": [
    "check"
   ]
  },
  {
   "cell_type": "markdown",
   "metadata": {},
   "source": [
    "### VA_Right_Distance_CC"
   ]
  },
  {
   "cell_type": "code",
   "execution_count": 24,
   "metadata": {},
   "outputs": [],
   "source": [
    "col_name = \"VA_Right_Distance_CC\""
   ]
  },
  {
   "cell_type": "code",
   "execution_count": 26,
   "metadata": {},
   "outputs": [],
   "source": [
    "col = df[col_name]\n",
    "ins = instructions[\"ophthafterdxdate\"][col_name]"
   ]
  },
  {
   "cell_type": "code",
   "execution_count": 27,
   "metadata": {},
   "outputs": [],
   "source": [
    "result = PatpopScrub(col, ins).clean()\n",
    "check = display_check(result)"
   ]
  },
  {
   "cell_type": "code",
   "execution_count": 28,
   "metadata": {},
   "outputs": [
    {
     "data": {
      "text/html": [
       "<div>\n",
       "<style scoped>\n",
       "    .dataframe tbody tr th:only-of-type {\n",
       "        vertical-align: middle;\n",
       "    }\n",
       "\n",
       "    .dataframe tbody tr th {\n",
       "        vertical-align: top;\n",
       "    }\n",
       "\n",
       "    .dataframe thead th {\n",
       "        text-align: right;\n",
       "    }\n",
       "</style>\n",
       "<table border=\"1\" class=\"dataframe\">\n",
       "  <thead>\n",
       "    <tr style=\"text-align: right;\">\n",
       "      <th></th>\n",
       "      <th>old_old_VA_Right_Distance_CC</th>\n",
       "      <th>VA_Right_Distance_CC</th>\n",
       "    </tr>\n",
       "  </thead>\n",
       "  <tbody>\n",
       "    <tr>\n",
       "      <th>2</th>\n",
       "      <td>CF at 3'</td>\n",
       "      <td>Count fingers</td>\n",
       "    </tr>\n",
       "    <tr>\n",
       "      <th>3</th>\n",
       "      <td>CF at 1'</td>\n",
       "      <td>Count fingers</td>\n",
       "    </tr>\n",
       "    <tr>\n",
       "      <th>5</th>\n",
       "      <td>20/800 with near card</td>\n",
       "      <td>20/800</td>\n",
       "    </tr>\n",
       "    <tr>\n",
       "      <th>10</th>\n",
       "      <td>CF at 3'</td>\n",
       "      <td>Count fingers</td>\n",
       "    </tr>\n",
       "    <tr>\n",
       "      <th>11</th>\n",
       "      <td>CF at 3'</td>\n",
       "      <td>Count fingers</td>\n",
       "    </tr>\n",
       "    <tr>\n",
       "      <th>...</th>\n",
       "      <td>...</td>\n",
       "      <td>...</td>\n",
       "    </tr>\n",
       "    <tr>\n",
       "      <th>108239</th>\n",
       "      <td>CF at 2'</td>\n",
       "      <td>Count fingers</td>\n",
       "    </tr>\n",
       "    <tr>\n",
       "      <th>108242</th>\n",
       "      <td>CF at 4</td>\n",
       "      <td>Count fingers</td>\n",
       "    </tr>\n",
       "    <tr>\n",
       "      <th>108367</th>\n",
       "      <td>CF at 1-2'</td>\n",
       "      <td>Count fingers</td>\n",
       "    </tr>\n",
       "    <tr>\n",
       "      <th>108370</th>\n",
       "      <td>CF at 1-2'</td>\n",
       "      <td>Count fingers</td>\n",
       "    </tr>\n",
       "    <tr>\n",
       "      <th>108371</th>\n",
       "      <td>CF at 3'</td>\n",
       "      <td>Count fingers</td>\n",
       "    </tr>\n",
       "  </tbody>\n",
       "</table>\n",
       "<p>4871 rows × 2 columns</p>\n",
       "</div>"
      ],
      "text/plain": [
       "       old_old_VA_Right_Distance_CC VA_Right_Distance_CC\n",
       "2                          CF at 3'        Count fingers\n",
       "3                          CF at 1'        Count fingers\n",
       "5             20/800 with near card               20/800\n",
       "10                         CF at 3'        Count fingers\n",
       "11                         CF at 3'        Count fingers\n",
       "...                             ...                  ...\n",
       "108239                     CF at 2'        Count fingers\n",
       "108242                      CF at 4        Count fingers\n",
       "108367                   CF at 1-2'        Count fingers\n",
       "108370                   CF at 1-2'        Count fingers\n",
       "108371                     CF at 3'        Count fingers\n",
       "\n",
       "[4871 rows x 2 columns]"
      ]
     },
     "execution_count": 28,
     "metadata": {},
     "output_type": "execute_result"
    }
   ],
   "source": [
    "check"
   ]
  },
  {
   "cell_type": "markdown",
   "metadata": {},
   "source": [
    "### VA_Left_Distance_CC"
   ]
  },
  {
   "cell_type": "code",
   "execution_count": 11,
   "metadata": {},
   "outputs": [],
   "source": [
    "col_name = \"VA_Left_Distance_CC\""
   ]
  },
  {
   "cell_type": "code",
   "execution_count": 12,
   "metadata": {},
   "outputs": [],
   "source": [
    "col = df[col_name]\n",
    "ins = instructions[\"ophthafterdxdate\"][col_name]"
   ]
  },
  {
   "cell_type": "code",
   "execution_count": 13,
   "metadata": {},
   "outputs": [],
   "source": [
    "result = PatpopScrub(col, ins).clean()\n",
    "check = display_check(result)"
   ]
  },
  {
   "cell_type": "code",
   "execution_count": 17,
   "metadata": {},
   "outputs": [],
   "source": [
    "ch  = check[~check[\"VA_Left_Distance_CC\"].isna() & check[\"VA_Left_Distance_CC\"].str.contains(\"not found\")]"
   ]
  },
  {
   "cell_type": "code",
   "execution_count": 20,
   "metadata": {},
   "outputs": [
    {
     "data": {
      "text/plain": [
       "True"
      ]
     },
     "execution_count": 20,
     "metadata": {},
     "output_type": "execute_result"
    }
   ],
   "source": [
    "ch[\"old_VA_Left_Distance_CC\"][11974] == \"\""
   ]
  },
  {
   "cell_type": "markdown",
   "metadata": {},
   "source": [
    "### VA_Right_Pressure"
   ]
  },
  {
   "cell_type": "code",
   "execution_count": 23,
   "metadata": {},
   "outputs": [],
   "source": [
    "col_name = \"VA_Right_Pressure\""
   ]
  },
  {
   "cell_type": "code",
   "execution_count": 24,
   "metadata": {},
   "outputs": [],
   "source": [
    "col = df[col_name]\n",
    "ins = instructions[\"ophthafterdxdate\"][col_name]"
   ]
  },
  {
   "cell_type": "code",
   "execution_count": 25,
   "metadata": {},
   "outputs": [],
   "source": [
    "result = PatpopScrub(col, ins).clean()\n",
    "check = display_check(result)"
   ]
  },
  {
   "cell_type": "code",
   "execution_count": 31,
   "metadata": {},
   "outputs": [],
   "source": [
    "\n",
    "old, new = result[0], result[1][0]\n",
    "old_new=pd.DataFrame([old, new]).T\n",
    "old_new.columns=[\"old\", \"new\"]"
   ]
  },
  {
   "cell_type": "code",
   "execution_count": 32,
   "metadata": {},
   "outputs": [
    {
     "data": {
      "text/html": [
       "<div>\n",
       "<style scoped>\n",
       "    .dataframe tbody tr th:only-of-type {\n",
       "        vertical-align: middle;\n",
       "    }\n",
       "\n",
       "    .dataframe tbody tr th {\n",
       "        vertical-align: top;\n",
       "    }\n",
       "\n",
       "    .dataframe thead th {\n",
       "        text-align: right;\n",
       "    }\n",
       "</style>\n",
       "<table border=\"1\" class=\"dataframe\">\n",
       "  <thead>\n",
       "    <tr style=\"text-align: right;\">\n",
       "      <th></th>\n",
       "      <th>old</th>\n",
       "      <th>new</th>\n",
       "    </tr>\n",
       "  </thead>\n",
       "  <tbody>\n",
       "    <tr>\n",
       "      <th>0</th>\n",
       "      <td>NaN</td>\n",
       "      <td>NaN</td>\n",
       "    </tr>\n",
       "    <tr>\n",
       "      <th>1</th>\n",
       "      <td>NaN</td>\n",
       "      <td>NaN</td>\n",
       "    </tr>\n",
       "    <tr>\n",
       "      <th>2</th>\n",
       "      <td>18</td>\n",
       "      <td>no_lookup</td>\n",
       "    </tr>\n",
       "    <tr>\n",
       "      <th>3</th>\n",
       "      <td>17</td>\n",
       "      <td>no_lookup</td>\n",
       "    </tr>\n",
       "    <tr>\n",
       "      <th>4</th>\n",
       "      <td>NaN</td>\n",
       "      <td>NaN</td>\n",
       "    </tr>\n",
       "    <tr>\n",
       "      <th>...</th>\n",
       "      <td>...</td>\n",
       "      <td>...</td>\n",
       "    </tr>\n",
       "    <tr>\n",
       "      <th>108369</th>\n",
       "      <td>NaN</td>\n",
       "      <td>NaN</td>\n",
       "    </tr>\n",
       "    <tr>\n",
       "      <th>108370</th>\n",
       "      <td>17</td>\n",
       "      <td>no_lookup</td>\n",
       "    </tr>\n",
       "    <tr>\n",
       "      <th>108371</th>\n",
       "      <td>19</td>\n",
       "      <td>no_lookup</td>\n",
       "    </tr>\n",
       "    <tr>\n",
       "      <th>108372</th>\n",
       "      <td>NaN</td>\n",
       "      <td>NaN</td>\n",
       "    </tr>\n",
       "    <tr>\n",
       "      <th>108373</th>\n",
       "      <td>NaN</td>\n",
       "      <td>NaN</td>\n",
       "    </tr>\n",
       "  </tbody>\n",
       "</table>\n",
       "<p>108374 rows × 2 columns</p>\n",
       "</div>"
      ],
      "text/plain": [
       "        old        new\n",
       "0       NaN        NaN\n",
       "1       NaN        NaN\n",
       "2        18  no_lookup\n",
       "3        17  no_lookup\n",
       "4       NaN        NaN\n",
       "...     ...        ...\n",
       "108369  NaN        NaN\n",
       "108370   17  no_lookup\n",
       "108371   19  no_lookup\n",
       "108372  NaN        NaN\n",
       "108373  NaN        NaN\n",
       "\n",
       "[108374 rows x 2 columns]"
      ]
     },
     "execution_count": 32,
     "metadata": {},
     "output_type": "execute_result"
    }
   ],
   "source": [
    "old_new[]"
   ]
  },
  {
   "cell_type": "code",
   "execution_count": 29,
   "metadata": {},
   "outputs": [
    {
     "data": {
      "text/html": [
       "<div>\n",
       "<style scoped>\n",
       "    .dataframe tbody tr th:only-of-type {\n",
       "        vertical-align: middle;\n",
       "    }\n",
       "\n",
       "    .dataframe tbody tr th {\n",
       "        vertical-align: top;\n",
       "    }\n",
       "\n",
       "    .dataframe thead th {\n",
       "        text-align: right;\n",
       "    }\n",
       "</style>\n",
       "<table border=\"1\" class=\"dataframe\">\n",
       "  <thead>\n",
       "    <tr style=\"text-align: right;\">\n",
       "      <th></th>\n",
       "      <th>old_VA_Right_Pressure</th>\n",
       "      <th>VA_Right_Pressure</th>\n",
       "    </tr>\n",
       "  </thead>\n",
       "  <tbody>\n",
       "    <tr>\n",
       "      <th>2516</th>\n",
       "      <td>---</td>\n",
       "      <td>NaN</td>\n",
       "    </tr>\n",
       "    <tr>\n",
       "      <th>2679</th>\n",
       "      <td>soft</td>\n",
       "      <td>NaN</td>\n",
       "    </tr>\n",
       "    <tr>\n",
       "      <th>2680</th>\n",
       "      <td>soft</td>\n",
       "      <td>NaN</td>\n",
       "    </tr>\n",
       "    <tr>\n",
       "      <th>3934</th>\n",
       "      <td>x</td>\n",
       "      <td>NaN</td>\n",
       "    </tr>\n",
       "    <tr>\n",
       "      <th>6277</th>\n",
       "      <td>Soft</td>\n",
       "      <td>NaN</td>\n",
       "    </tr>\n",
       "    <tr>\n",
       "      <th>...</th>\n",
       "      <td>...</td>\n",
       "      <td>...</td>\n",
       "    </tr>\n",
       "    <tr>\n",
       "      <th>105685</th>\n",
       "      <td>UTO</td>\n",
       "      <td>NaN</td>\n",
       "    </tr>\n",
       "    <tr>\n",
       "      <th>107396</th>\n",
       "      <td>x</td>\n",
       "      <td>NaN</td>\n",
       "    </tr>\n",
       "    <tr>\n",
       "      <th>108027</th>\n",
       "      <td>X</td>\n",
       "      <td>NaN</td>\n",
       "    </tr>\n",
       "    <tr>\n",
       "      <th>108028</th>\n",
       "      <td>X</td>\n",
       "      <td>NaN</td>\n",
       "    </tr>\n",
       "    <tr>\n",
       "      <th>108347</th>\n",
       "      <td>DFR</td>\n",
       "      <td>NaN</td>\n",
       "    </tr>\n",
       "  </tbody>\n",
       "</table>\n",
       "<p>132 rows × 2 columns</p>\n",
       "</div>"
      ],
      "text/plain": [
       "       old_VA_Right_Pressure VA_Right_Pressure\n",
       "2516                     ---               NaN\n",
       "2679                    soft               NaN\n",
       "2680                    soft               NaN\n",
       "3934                       x               NaN\n",
       "6277                    Soft               NaN\n",
       "...                      ...               ...\n",
       "105685                   UTO               NaN\n",
       "107396                     x               NaN\n",
       "108027                     X               NaN\n",
       "108028                     X               NaN\n",
       "108347                   DFR               NaN\n",
       "\n",
       "[132 rows x 2 columns]"
      ]
     },
     "execution_count": 29,
     "metadata": {},
     "output_type": "execute_result"
    }
   ],
   "source": [
    "check[check[\"VA_Right_Pressure\"]!=\"no_lookup\"]"
   ]
  },
  {
   "cell_type": "markdown",
   "metadata": {},
   "source": [
    "***"
   ]
  },
  {
   "cell_type": "code",
   "execution_count": 35,
   "metadata": {},
   "outputs": [],
   "source": [
    "old_new = pd.DataFrame([result[0], result[1][0]]).T\n",
    "old_new.columns = [\"old\", \"new\"]"
   ]
  },
  {
   "cell_type": "code",
   "execution_count": 37,
   "metadata": {},
   "outputs": [
    {
     "data": {
      "text/html": [
       "<div>\n",
       "<style scoped>\n",
       "    .dataframe tbody tr th:only-of-type {\n",
       "        vertical-align: middle;\n",
       "    }\n",
       "\n",
       "    .dataframe tbody tr th {\n",
       "        vertical-align: top;\n",
       "    }\n",
       "\n",
       "    .dataframe thead th {\n",
       "        text-align: right;\n",
       "    }\n",
       "</style>\n",
       "<table border=\"1\" class=\"dataframe\">\n",
       "  <thead>\n",
       "    <tr style=\"text-align: right;\">\n",
       "      <th></th>\n",
       "      <th>old</th>\n",
       "      <th>new</th>\n",
       "    </tr>\n",
       "  </thead>\n",
       "  <tbody>\n",
       "    <tr>\n",
       "      <th>0</th>\n",
       "      <td>NaN</td>\n",
       "      <td>NaN</td>\n",
       "    </tr>\n",
       "    <tr>\n",
       "      <th>1</th>\n",
       "      <td>NaN</td>\n",
       "      <td>NaN</td>\n",
       "    </tr>\n",
       "    <tr>\n",
       "      <th>2</th>\n",
       "      <td>CF at 3'</td>\n",
       "      <td>Count fingers</td>\n",
       "    </tr>\n",
       "    <tr>\n",
       "      <th>3</th>\n",
       "      <td>CF at 1'</td>\n",
       "      <td>Count fingers</td>\n",
       "    </tr>\n",
       "    <tr>\n",
       "      <th>4</th>\n",
       "      <td>NaN</td>\n",
       "      <td>NaN</td>\n",
       "    </tr>\n",
       "    <tr>\n",
       "      <th>...</th>\n",
       "      <td>...</td>\n",
       "      <td>...</td>\n",
       "    </tr>\n",
       "    <tr>\n",
       "      <th>108369</th>\n",
       "      <td>NaN</td>\n",
       "      <td>NaN</td>\n",
       "    </tr>\n",
       "    <tr>\n",
       "      <th>108370</th>\n",
       "      <td>CF at 1-2'</td>\n",
       "      <td>Count fingers</td>\n",
       "    </tr>\n",
       "    <tr>\n",
       "      <th>108371</th>\n",
       "      <td>CF at 3'</td>\n",
       "      <td>Count fingers</td>\n",
       "    </tr>\n",
       "    <tr>\n",
       "      <th>108372</th>\n",
       "      <td>NaN</td>\n",
       "      <td>NaN</td>\n",
       "    </tr>\n",
       "    <tr>\n",
       "      <th>108373</th>\n",
       "      <td>NaN</td>\n",
       "      <td>NaN</td>\n",
       "    </tr>\n",
       "  </tbody>\n",
       "</table>\n",
       "<p>108374 rows × 2 columns</p>\n",
       "</div>"
      ],
      "text/plain": [
       "               old            new\n",
       "0              NaN            NaN\n",
       "1              NaN            NaN\n",
       "2         CF at 3'  Count fingers\n",
       "3         CF at 1'  Count fingers\n",
       "4              NaN            NaN\n",
       "...            ...            ...\n",
       "108369         NaN            NaN\n",
       "108370  CF at 1-2'  Count fingers\n",
       "108371    CF at 3'  Count fingers\n",
       "108372         NaN            NaN\n",
       "108373         NaN            NaN\n",
       "\n",
       "[108374 rows x 2 columns]"
      ]
     },
     "execution_count": 37,
     "metadata": {},
     "output_type": "execute_result"
    }
   ],
   "source": [
    "old_new"
   ]
  },
  {
   "cell_type": "code",
   "execution_count": null,
   "metadata": {},
   "outputs": [],
   "source": []
  },
  {
   "cell_type": "code",
   "execution_count": 36,
   "metadata": {},
   "outputs": [
    {
     "data": {
      "text/plain": [
       "new\n",
       "20/30      5874\n",
       "20/25      5695\n",
       "20/40      5208\n",
       "20/20      4654\n",
       "20/50      3725\n",
       "20/60      2361\n",
       "20/70      1388\n",
       "20/100     1117\n",
       "20/80       924\n",
       "20/200      790\n",
       "20/400      682\n",
       "20/150      590\n",
       "20/125      569\n",
       "20/300      314\n",
       "20/500      314\n",
       "20/250      176\n",
       "20/63        50\n",
       "20/600       43\n",
       "20/16        40\n",
       "20/32        32\n",
       "20/160       31\n",
       "20/800       30\n",
       "20/1000      18\n",
       "20/15        17\n",
       "20/320       10\n",
       "20/700        1\n",
       "20/350        1\n",
       "Name: count, dtype: int64"
      ]
     },
     "execution_count": 36,
     "metadata": {},
     "output_type": "execute_result"
    }
   ],
   "source": [
    "old_new[(old_new[\"old\"] == old_new[\"new\"])][\"new\"].value_counts()"
   ]
  },
  {
   "cell_type": "code",
   "execution_count": 9,
   "metadata": {},
   "outputs": [],
   "source": [
    "old_new = pd.DataFrame([result[0], result[1][0]]).T\n",
    "old_new.columns = [\"old\", \"new\"]"
   ]
  },
  {
   "cell_type": "code",
   "execution_count": 10,
   "metadata": {},
   "outputs": [],
   "source": [
    "rules = get_all_rules(ins[\"args\"])"
   ]
  },
  {
   "cell_type": "code",
   "execution_count": 14,
   "metadata": {},
   "outputs": [
    {
     "data": {
      "text/html": [
       "<div>\n",
       "<style scoped>\n",
       "    .dataframe tbody tr th:only-of-type {\n",
       "        vertical-align: middle;\n",
       "    }\n",
       "\n",
       "    .dataframe tbody tr th {\n",
       "        vertical-align: top;\n",
       "    }\n",
       "\n",
       "    .dataframe thead th {\n",
       "        text-align: right;\n",
       "    }\n",
       "</style>\n",
       "<table border=\"1\" class=\"dataframe\">\n",
       "  <thead>\n",
       "    <tr style=\"text-align: right;\">\n",
       "      <th></th>\n",
       "      <th>Value</th>\n",
       "      <th>Rule (to be defined by CCF team)</th>\n",
       "      <th>Occurences</th>\n",
       "    </tr>\n",
       "  </thead>\n",
       "  <tbody>\n",
       "    <tr>\n",
       "      <th>100</th>\n",
       "      <td>20/30</td>\n",
       "      <td>20/30</td>\n",
       "      <td>2574</td>\n",
       "    </tr>\n",
       "    <tr>\n",
       "      <th>71</th>\n",
       "      <td>20/25</td>\n",
       "      <td>20/25</td>\n",
       "      <td>2488</td>\n",
       "    </tr>\n",
       "    <tr>\n",
       "      <th>131</th>\n",
       "      <td>20/40</td>\n",
       "      <td>20/40</td>\n",
       "      <td>2448</td>\n",
       "    </tr>\n",
       "    <tr>\n",
       "      <th>43</th>\n",
       "      <td>20/20</td>\n",
       "      <td>20/20</td>\n",
       "      <td>1997</td>\n",
       "    </tr>\n",
       "    <tr>\n",
       "      <th>177</th>\n",
       "      <td>20/50</td>\n",
       "      <td>20/50</td>\n",
       "      <td>1702</td>\n",
       "    </tr>\n",
       "    <tr>\n",
       "      <th>...</th>\n",
       "      <td>...</td>\n",
       "      <td>...</td>\n",
       "      <td>...</td>\n",
       "    </tr>\n",
       "    <tr>\n",
       "      <th>237</th>\n",
       "      <td>20/70+2</td>\n",
       "      <td>20/70</td>\n",
       "      <td>1</td>\n",
       "    </tr>\n",
       "    <tr>\n",
       "      <th>233</th>\n",
       "      <td>20/70 first letter only the rest is clumped to...</td>\n",
       "      <td>20/70</td>\n",
       "      <td>1</td>\n",
       "    </tr>\n",
       "    <tr>\n",
       "      <th>231</th>\n",
       "      <td>20/70 blurry</td>\n",
       "      <td>20/70</td>\n",
       "      <td>1</td>\n",
       "    </tr>\n",
       "    <tr>\n",
       "      <th>230</th>\n",
       "      <td>20/70 Push</td>\n",
       "      <td>20/70</td>\n",
       "      <td>1</td>\n",
       "    </tr>\n",
       "    <tr>\n",
       "      <th>265</th>\n",
       "      <td>200 E @ face</td>\n",
       "      <td>Count fingers</td>\n",
       "      <td>1</td>\n",
       "    </tr>\n",
       "  </tbody>\n",
       "</table>\n",
       "<p>531 rows × 3 columns</p>\n",
       "</div>"
      ],
      "text/plain": [
       "                                                 Value  \\\n",
       "100                                              20/30   \n",
       "71                                               20/25   \n",
       "131                                              20/40   \n",
       "43                                               20/20   \n",
       "177                                              20/50   \n",
       "..                                                 ...   \n",
       "237                                            20/70+2   \n",
       "233  20/70 first letter only the rest is clumped to...   \n",
       "231                                       20/70 blurry   \n",
       "230                                         20/70 Push   \n",
       "265                                       200 E @ face   \n",
       "\n",
       "    Rule (to be defined by CCF team) Occurences  \n",
       "100                            20/30       2574  \n",
       "71                             20/25       2488  \n",
       "131                            20/40       2448  \n",
       "43                             20/20       1997  \n",
       "177                            20/50       1702  \n",
       "..                               ...        ...  \n",
       "237                            20/70          1  \n",
       "233                            20/70          1  \n",
       "231                            20/70          1  \n",
       "230                            20/70          1  \n",
       "265                    Count fingers          1  \n",
       "\n",
       "[531 rows x 3 columns]"
      ]
     },
     "execution_count": 14,
     "metadata": {},
     "output_type": "execute_result"
    }
   ],
   "source": [
    "rules.sort_values(\"Occurences\", ascending=False)"
   ]
  },
  {
   "cell_type": "code",
   "execution_count": 12,
   "metadata": {},
   "outputs": [],
   "source": [
    "args= ins[\"args\"]"
   ]
  },
  {
   "cell_type": "code",
   "execution_count": 13,
   "metadata": {},
   "outputs": [],
   "source": [
    "num_rules = VARuleReader(\n",
    "            args[\"sheet_name\"],\n",
    "            args[\"num_head\"],\n",
    "            args[\"num_tail\"],\n",
    "            args[\"num_cols\"],\n",
    "        )"
   ]
  },
  {
   "cell_type": "code",
   "execution_count": 30,
   "metadata": {},
   "outputs": [
    {
     "data": {
      "text/plain": [
       "0     200\n",
       "1    2030\n",
       "2    2040\n",
       "3      72\n",
       "Name: Value, dtype: object"
      ]
     },
     "execution_count": 30,
     "metadata": {},
     "output_type": "execute_result"
    }
   ],
   "source": [
    "num_rules.rules[\"Value\"]"
   ]
  },
  {
   "cell_type": "code",
   "execution_count": 29,
   "metadata": {},
   "outputs": [
    {
     "data": {
      "text/plain": [
       "Value                                              200\n",
       "Rule (to be defined by CCF team)    Replace with blank\n",
       "Occurences                                           1\n",
       "Name: 0, dtype: object"
      ]
     },
     "execution_count": 29,
     "metadata": {},
     "output_type": "execute_result"
    }
   ],
   "source": [
    "num_rules.rules.iloc[0]"
   ]
  },
  {
   "cell_type": "code",
   "execution_count": 44,
   "metadata": {},
   "outputs": [
    {
     "data": {
      "text/plain": [
       "{'200': 'Replace with blank',\n",
       " '2030': '20/30',\n",
       " '2040': '20/40',\n",
       " '72': 'Replace with blank',\n",
       " \"2'/200\": 'Count fingers',\n",
       " '2/200': 'Count fingers',\n",
       " '20//60': '20/60',\n",
       " '20/100': '20/100',\n",
       " '20/100 -1': '20/100',\n",
       " '20/100 diverted': '20/100',\n",
       " '20/100 looking up': '20/100',\n",
       " '20/100 periph': '20/100',\n",
       " '20/100 peripherally': '20/100',\n",
       " '20/100 slow': '20/100',\n",
       " '20/100+': '20/100',\n",
       " '20/100+1': '20/100',\n",
       " '20/100-1': '20/100',\n",
       " '20/100-cloudy': '20/100',\n",
       " '20/1000': '20/1000',\n",
       " '20/100BCL': '20/100',\n",
       " '20/120': '20/120',\n",
       " '20/125': '20/125',\n",
       " '20/125 ecc fixation': '20/125',\n",
       " '20/125 eccentric': '20/125',\n",
       " '20/125 eccntrically': '20/125',\n",
       " '20/125 peripherally': '20/125',\n",
       " '20/125 searching': '20/125',\n",
       " '20/125 single letter': '20/125',\n",
       " '20/125-': '20/125',\n",
       " '20/125-1': '20/125',\n",
       " '20/1250': 'Replace with blank',\n",
       " '20/15': '20/15',\n",
       " '20/15 slow': '20/15',\n",
       " '20/15-2': '20/15',\n",
       " '20/150': '20/150',\n",
       " '20/150 CLB': '20/150',\n",
       " '20/150 blurred': '20/150',\n",
       " '20/150 eccentric': '20/150',\n",
       " '20/150 eye slightly turned': '20/150',\n",
       " '20/150 peripherally': '20/150',\n",
       " '20/150 searching': '20/150',\n",
       " '20/150- mono': '20/150',\n",
       " '20/150/ eye turned': '20/150',\n",
       " '20/150BCL': '20/150',\n",
       " '20/150searching': '20/150',\n",
       " '20/16': '20/16',\n",
       " '20/160': '20/160',\n",
       " '20/20': '20/20',\n",
       " '20/20 \"Blurry\"': '20/20',\n",
       " '20/20 -': '20/20',\n",
       " '20/20 Blurry': '20/20',\n",
       " '20/20 Slow': '20/20',\n",
       " '20/20 blurry': '20/20',\n",
       " '20/20 fuzzy': '20/20',\n",
       " '20/20 push': '20/20',\n",
       " '20/20 slow': '20/20',\n",
       " '20/20 squinting': '20/20',\n",
       " '20/20 with effort': '20/20',\n",
       " '20/20+2': '20/20',\n",
       " '20/20-': '20/20',\n",
       " '20/20-1': '20/20',\n",
       " '20/20-2': '20/20',\n",
       " '20/20-3': '20/25',\n",
       " '20/200': '20/200',\n",
       " '20/200 (peripheral)': '20/200',\n",
       " '20/200 BCL': '20/200',\n",
       " '20/200 eccentric': '20/200',\n",
       " '20/200 periph': '20/200',\n",
       " '20/200 periph va': '20/200',\n",
       " '20/200 peripherally': '20/200',\n",
       " '20/200 periphery': '20/200',\n",
       " '20/200 searching': '20/200',\n",
       " '20/200 smokey': '20/200',\n",
       " '20/200- slow': '20/200',\n",
       " '20/200/eye turned': '20/200',\n",
       " '20/25': '20/25',\n",
       " '20/25 +': '20/25',\n",
       " '20/25 -': '20/25',\n",
       " '20/25 -1': '20/25',\n",
       " '20/25 -2': '20/25',\n",
       " '20/25 blurry': '20/25',\n",
       " '20/25 push': '20/25',\n",
       " '20/25 slow': '20/25',\n",
       " '20/25 squinting': '20/25',\n",
       " '20/25+': '20/205',\n",
       " '20/25+-': '20/25',\n",
       " '20/25+1': '20/25',\n",
       " '20/25+2': '20/25',\n",
       " '20/25-': '20/25',\n",
       " '20/25-1': '20/25',\n",
       " '20/25-1+2': '20/25',\n",
       " '20/25-2': '20/25',\n",
       " '20/25-2 push': '20/25',\n",
       " '20/25-2+2': '20/25',\n",
       " '20/25-2+3': '20/25',\n",
       " '20/25-3': '20/30',\n",
       " '20/25-3+2': '20/25',\n",
       " '20/25-slow': '20/25',\n",
       " '20/250': '20/250',\n",
       " '20/250 / eye turned slighly': '20/250',\n",
       " '20/250 eccentric': '20/250',\n",
       " '20/250 perif': '20/250',\n",
       " '20/250 peripherally': '20/250',\n",
       " '20/25blurry': '20/25',\n",
       " '20/30': '20/30',\n",
       " '20/30  blurry': '20/30',\n",
       " '20/30 -1': '20/30',\n",
       " '20/30 -2': '20/30',\n",
       " '20/30 Push': '20/30',\n",
       " '20/30 fuzzy': '20/30',\n",
       " '20/30 push': '20/30',\n",
       " '20/30 searching perif': '20/30',\n",
       " '20/30 slow': '20/30',\n",
       " '20/30+': '20/30',\n",
       " '20/30+1': '20/30',\n",
       " '20/30+2': '20/30',\n",
       " '20/30+3': '20/25',\n",
       " '20/30, has a fog over her eyes': '20/30',\n",
       " '20/30-': '20/30',\n",
       " '20/30-+': '20/30',\n",
       " '20/30-1': '20/30',\n",
       " '20/30-2': '20/30',\n",
       " '20/30-2+1': '20/30',\n",
       " '20/30-3': '20/40',\n",
       " '20/300': '20/300',\n",
       " '20/300 eccentric': '20/300',\n",
       " '20/300 fishing around center': '20/300',\n",
       " '20/300 peripheral': '20/300',\n",
       " '20/300 peripherally': '20/300',\n",
       " '20/300 searching': '20/300',\n",
       " '20/300 side': '20/300',\n",
       " '20/30searching': '20/30',\n",
       " '20/30slow': '20/30',\n",
       " '20/32': '20/32',\n",
       " '20/320': '20/320',\n",
       " '20/40': '20/40',\n",
       " '20/40 \"fishing\"': '20/40',\n",
       " '20/40 -1': '20/40',\n",
       " '20/40 -1+1': '20/40',\n",
       " '20/40 -2': '20/40',\n",
       " '20/40 Push': '20/40',\n",
       " '20/40 blurry': '20/40',\n",
       " '20/40 mono vision': '20/40',\n",
       " '20/40 peripherally': '20/40',\n",
       " '20/40 push': '20/40',\n",
       " '20/40 searching': '20/40',\n",
       " '20/40 slow': '20/40',\n",
       " '20/40 slowly': '20/40',\n",
       " '20/40 with difficulty': '20/40',\n",
       " '20/40+': '20/40',\n",
       " '20/40+1': '20/40',\n",
       " '20/40+2': '20/40',\n",
       " '20/40-': '20/40',\n",
       " '20/40-1': '20/40',\n",
       " '20/40-1 slow': '20/40',\n",
       " '20/40-1+2': '20/40',\n",
       " '20/40-2': '20/40',\n",
       " '20/40-2 slow': '20/40',\n",
       " '20/40-2 squinting': '20/40',\n",
       " '20/40-2+1': '20/40',\n",
       " '20/40-eccentric': '20/40',\n",
       " '20/400': '20/400',\n",
       " '20/400 - CLB': '20/400',\n",
       " '20/400 Eccentric': '20/400',\n",
       " '20/400 PUSH': '20/400',\n",
       " '20/400 barely': '20/400',\n",
       " '20/400 blurred': '20/400',\n",
       " '20/400 ecccentraically': '20/400',\n",
       " '20/400 eccentrally': '20/400',\n",
       " '20/400 eccentric': '20/400',\n",
       " '20/400 eccentric fixation': '20/400',\n",
       " '20/400 eccentrically': '20/400',\n",
       " '20/400 hazy': '20/400',\n",
       " '20/400 perif': '20/400',\n",
       " '20/400 push': '20/400',\n",
       " '20/400 searching': '20/400',\n",
       " '20/400, goes in and out': '20/400',\n",
       " '20/400-searching': '20/400',\n",
       " '20/400tilts head upward': '20/400',\n",
       " '20/40eccentric': '20/40',\n",
       " '20/40slowly': '20/40',\n",
       " '20/50': '20/50',\n",
       " '20/50 +': '20/50',\n",
       " '20/50 -': '20/50',\n",
       " '20/50 -1': '20/50',\n",
       " '20/50 -2': '20/50',\n",
       " '20/50 blurry': '20/50',\n",
       " '20/50 double': '20/50',\n",
       " '20/50 forgot glasses': '20/50',\n",
       " '20/50 mono vision': '20/50',\n",
       " '20/50 picking': '20/50',\n",
       " '20/50 searching': '20/50',\n",
       " '20/50 slow': '20/50',\n",
       " '20/50+': '20/50',\n",
       " '20/50+1': '20/50',\n",
       " '20/50+2': '20/50',\n",
       " '20/50-': '20/50',\n",
       " '20/50- mono': '20/50',\n",
       " '20/50- shadows': '20/50',\n",
       " '20/50- slow': '20/50',\n",
       " '20/50-1': '20/50',\n",
       " '20/50-2': '20/50',\n",
       " '20/50-2+2': '20/50',\n",
       " '20/50/Double': '20/50',\n",
       " '20/500': '20/500',\n",
       " '20/500 BCL': '20/500',\n",
       " '20/500 eccentric': '20/500',\n",
       " '20/500 peripheral': '20/500',\n",
       " '20/500 peripherally': '20/500',\n",
       " '20/50looks to right': '20/50',\n",
       " '20/50misses center of line': '20/50',\n",
       " '20/60': '20/60',\n",
       " '20/60 \"jumping letters\"': '20/60',\n",
       " '20/60 -': '20/60',\n",
       " '20/60 - seeing only the last letter on each line': '20/60',\n",
       " '20/60 Crooked lines': '20/60',\n",
       " '20/60 mono': '20/60',\n",
       " '20/60 searching': '20/60',\n",
       " '20/60+': '20/60',\n",
       " '20/60+1': '20/60',\n",
       " '20/60+2': '20/60',\n",
       " '20/60+2 mono': '20/60',\n",
       " '20/60-': '20/60',\n",
       " '20/60-+': '20/60',\n",
       " '20/60-1': '20/60',\n",
       " '20/60-2': '20/60',\n",
       " '20/600': '20/600',\n",
       " '20/600 (SHADOWS)': '20/600',\n",
       " '20/600 (intermittent)': '20/600',\n",
       " '20/63': '20/63',\n",
       " '20/70': '20/70',\n",
       " '20/70 +': '20/70',\n",
       " '20/70 -1': '20/70',\n",
       " '20/70 -2': '20/70',\n",
       " '20/70 Push': '20/70',\n",
       " '20/70 blurry': '20/70',\n",
       " '20/70 eccentric': '20/70',\n",
       " '20/70 first letter only the rest is clumped together': '20/70',\n",
       " '20/70 mono': '20/70',\n",
       " '20/70+': '20/70',\n",
       " '20/70+1': '20/70',\n",
       " '20/70+2': '20/70',\n",
       " '20/70-': '20/70',\n",
       " '20/70-1': '20/70',\n",
       " '20/70-2': '20/70',\n",
       " '20/70-2 with eccentric fixation': '20/70',\n",
       " '20/70-2+1': '20/70',\n",
       " '20/80': '20/80',\n",
       " '20/80 blurry and shadowy': '20/80',\n",
       " '20/80 eccentric': '20/80',\n",
       " '20/80 peripherally': '20/80',\n",
       " '20/80 squinting': '20/80',\n",
       " '20/80+': '20/80',\n",
       " '20/80+1': '20/80',\n",
       " '20/80+2': '20/80',\n",
       " '20/80-': '20/80',\n",
       " '20/80-1': '20/80',\n",
       " '20/800': '20/800',\n",
       " '20/80double': '20/80',\n",
       " '20/CF': 'Count fingers',\n",
       " \"20/CF 2.5'\": 'Count fingers',\n",
       " \"20/CF 3'\": 'Count fingers',\n",
       " '20/LP': 'Light perception',\n",
       " '20/NLP': 'No light perception',\n",
       " '200 E 2.5 ft': 'Count fingers',\n",
       " '200 E 4 ft': 'Count fingers',\n",
       " '200 E 7 ft': 'Count fingers',\n",
       " \"200 E @ 6'\": 'Count fingers',\n",
       " '200 E @ face': 'Count fingers',\n",
       " '200 E @3 ft': 'Count fingers',\n",
       " '200 E @7 ft': 'Count fingers',\n",
       " '200 E about 3 ft': 'Count fingers',\n",
       " \"200 E at 4'\": 'Count fingers',\n",
       " \"200 E at 5'\": 'Count fingers',\n",
       " '200 E at face': 'Count fingers',\n",
       " '200/3 E': 'Count fingers',\n",
       " '200E @ 5ft': 'Count fingers',\n",
       " \"200E @5'\": 'Count fingers',\n",
       " \"200E at 2'\": 'Count fingers',\n",
       " \"3'/200\": 'Count fingers',\n",
       " '3/200': 'Count fingers',\n",
       " '3/200 eccentric': 'Count fingers',\n",
       " \"30M @ 5' eccentrically\": 'Replace with blank',\n",
       " '4ft 200 E': 'Count fingers',\n",
       " '5/140': 'Count fingers',\n",
       " '5/160': 'Count fingers',\n",
       " '5/200': 'Count fingers',\n",
       " '5/225': 'Replace with blank',\n",
       " '5/400': 'Count fingers',\n",
       " '5/600': 'Replace with blank',\n",
       " '5/700': 'Replace with blank',\n",
       " '6/200': 'Count fingers',\n",
       " \"61 M @5'\": 'Replace with blank',\n",
       " '7/200': 'Count Fingers',\n",
       " '8ft 200 E': 'Count fingers',\n",
       " '?cf/hm': 'Count fingers',\n",
       " 'Amblyopic': 'Replace with blank',\n",
       " 'Bare CF': 'Count fingers',\n",
       " 'Bare LP': 'Light perception',\n",
       " 'Barely': 'Replace with blank',\n",
       " 'Brought glasses today': 'Replace with blank',\n",
       " 'CF': 'Count fingers',\n",
       " \"CF  1'\": 'Count fingers',\n",
       " \"CF  @ 3'\": 'Count fingers',\n",
       " 'CF 1 @ Periphery': 'Count fingers',\n",
       " \"CF 1'\": 'Count fingers',\n",
       " 'CF 1.5 ft': 'Count fingers',\n",
       " 'CF 2': 'Count fingers',\n",
       " 'CF 2 ft': 'Count fingers',\n",
       " 'CF 2 inches from face': 'Count fingers',\n",
       " \"CF 2'\": 'Count fingers',\n",
       " 'CF 3 ft peripherally': 'Count fingers',\n",
       " \"CF 3'\": 'Count fingers',\n",
       " \"CF 3' peripherally\": 'Count fingers',\n",
       " 'CF 3-4 ft': 'Count fingers',\n",
       " \"CF 4'\": 'Count fingers',\n",
       " 'CF 4.5 ft': 'Count fingers',\n",
       " 'CF 5 ft': 'Count fingers',\n",
       " \"CF 5'\": 'Count fingers',\n",
       " \"CF 6'\": 'Count fingers',\n",
       " \"CF 6' peripherally\": 'Count fingers',\n",
       " 'CF >6 inches away': 'Count fingers',\n",
       " 'CF @ 1 ft': 'Count fingers',\n",
       " 'CF @ 1 ft eccentric': 'Count fingers',\n",
       " 'CF @ 1\"': 'Count fingers',\n",
       " \"CF @ 1'\": 'Count fingers',\n",
       " \"CF @ 1' eccentric\": 'Count fingers',\n",
       " 'CF @ 10 ft': 'Count fingers',\n",
       " 'CF @ 12\" ECC': 'Count fingers',\n",
       " 'CF @ 12\" ecc': 'Count fingers',\n",
       " 'CF @ 1ft': 'Count fingers',\n",
       " 'CF @ 1ft peripherally': 'Count fingers',\n",
       " 'CF @ 2 feet': 'Count fingers',\n",
       " 'CF @ 2 ft': 'Count fingers',\n",
       " 'CF @ 2\"': 'Count fingers',\n",
       " \"CF @ 2'\": 'Count fingers',\n",
       " \"CF @ 2' ecc\": 'Count fingers',\n",
       " \"CF @ 2' periph\": 'Count fingers',\n",
       " \"CF @ 2' peripheral\": 'Count fingers',\n",
       " 'CF @ 2FT': 'Count fingers',\n",
       " 'CF @ 2ft': 'Count fingers',\n",
       " 'CF @ 3': 'Count fingers',\n",
       " 'CF @ 3 feet': 'Count fingers',\n",
       " 'CF @ 3 ft': 'Count fingers',\n",
       " 'CF @ 3 ft eccentric': 'Count fingers',\n",
       " \"CF @ 3'\": 'Count fingers',\n",
       " \"CF @ 3' peripherally\": 'Count fingers',\n",
       " 'CF @ 3ft': 'Count fingers',\n",
       " 'CF @ 4 ft': 'Count fingers',\n",
       " 'CF @ 4 ft eccentric': 'Count fingers',\n",
       " \"CF @ 4'\": 'Count fingers',\n",
       " 'CF @ 5\"': 'Count fingers',\n",
       " \"CF @ 5'\": 'Count fingers',\n",
       " 'CF @ 6 ft': 'Count fingers',\n",
       " 'CF @ 6\"': 'Count fingers',\n",
       " 'CF @ 7 ft eccentric': 'Count fingers',\n",
       " 'CF @ 8ft': 'Count fingers',\n",
       " \"CF @ 9'\": 'Count fingers',\n",
       " 'CF @ Face': 'Count fingers',\n",
       " 'CF @ Face Eccentric': 'Count fingers',\n",
       " 'CF @ face': 'Count fingers',\n",
       " 'CF @ face peripherally': 'Count fingers',\n",
       " 'CF @ face, peripherally': 'Count fingers',\n",
       " 'CF @ face, very eccentric': 'Count fingers',\n",
       " 'CF @1 ft peripherally': 'Count fingers',\n",
       " 'CF @1ft': 'Count fingers',\n",
       " \"CF @2'\": 'Count fingers',\n",
       " 'CF @2ft': 'Count fingers',\n",
       " 'CF @3ft': 'Count fingers',\n",
       " \"CF @5'\": 'Count fingers',\n",
       " 'CF @5ft': 'Count fingers',\n",
       " 'CF @face': 'Count fingers',\n",
       " \"CF at '\": 'Count fingers',\n",
       " 'CF at 1': 'Count fingers',\n",
       " 'CF at 1 foot': 'Count fingers',\n",
       " \"CF at 1'\": 'Count fingers',\n",
       " \"CF at 1' eccentri\": 'Count fingers',\n",
       " \"CF at 1' eccentric\": 'Count fingers',\n",
       " \"CF at 1' peripherally\": 'Count fingers',\n",
       " \"CF at 1''\": 'Count fingers',\n",
       " \"CF at 1-2'\": 'Count fingers',\n",
       " \"CF at 10'\": 'Count fingers',\n",
       " \"CF at 15'\": 'Count fingers',\n",
       " 'CF at 2': 'Count fingers',\n",
       " \"CF at 2'\": 'Count fingers',\n",
       " \"CF at 2' (peripheral)\": 'Count fingers',\n",
       " \"CF at 2' peripheral\": 'Count fingers',\n",
       " \"CF at 2' searching\": 'Count fingers',\n",
       " 'CF at 2FT': 'Count fingers',\n",
       " 'CF at 2ft': 'Count fingers',\n",
       " 'CF at 3\"': 'Count fingers',\n",
       " \"CF at 3'\": 'Count fingers',\n",
       " \"CF at 3' (peripheral)\": 'Count fingers',\n",
       " \"CF at 3' (peripherallly)\": 'Count fingers',\n",
       " \"CF at 3' (peripherally)\": 'Count fingers',\n",
       " \"CF at 3' at face\": 'Count fingers',\n",
       " \"CF at 3' eccentric\": 'Count fingers',\n",
       " \"CF at 3' peripheral\": 'Count fingers',\n",
       " \"CF at 3' peripherally\": 'Count fingers',\n",
       " \"CF at 3' searching\": 'Count fingers',\n",
       " \"CF at 3' w/ bcl, 20/500 w/o bcl\": 'Count fingers',\n",
       " \"CF at 4'\": 'Count fingers',\n",
       " \"CF at 4-5'\": 'Count fingers',\n",
       " 'CF at 4.5': 'Count fingers',\n",
       " 'CF at 5': 'Count fingers',\n",
       " 'CF at 5 feet': 'Count fingers',\n",
       " \"CF at 5'\": 'Count fingers',\n",
       " \"CF at 5' eccentric\": 'Count fingers',\n",
       " \"CF at 5' searching\": 'Count fingers',\n",
       " 'CF at 5FT': 'Count fingers',\n",
       " 'CF at 6': 'Count fingers',\n",
       " 'CF at 6 feet': 'Count fingers',\n",
       " 'CF at 6\"': 'Count fingers',\n",
       " \"CF at 6'\": 'Count fingers',\n",
       " \"CF at 6ft'\": 'Count fingers',\n",
       " 'CF at 6in': 'Count fingers',\n",
       " 'CF at 7 ft': 'Count fingers',\n",
       " \"CF at 7'\": 'Count fingers',\n",
       " \"CF at 8'\": 'Count fingers',\n",
       " 'CF at @ face': 'Count fingers',\n",
       " 'CF at Face': 'Count fingers',\n",
       " 'CF at face': 'Count fingers',\n",
       " 'CF at face temporal': 'Count fingers',\n",
       " \"CF at face'\": 'Count fingers',\n",
       " 'CF at wall': 'Count fingers',\n",
       " \"CF at wall'\": 'Count fingers',\n",
       " 'CF eccentric': 'Count fingers',\n",
       " 'CF face': 'Count fingers',\n",
       " 'CF moving': 'Count fingers',\n",
       " 'CF peripheral': 'Count fingers',\n",
       " 'CF peripheral only': 'Count fingers',\n",
       " 'CF temp': 'Count fingers',\n",
       " \"CF/E@3'\": 'Count fingers',\n",
       " \"CF1'\": 'Count fingers',\n",
       " \"CF2'\": 'Count fingers',\n",
       " \"CF3'\": 'Count fingers',\n",
       " 'CF@ 1 FT': 'Count fingers',\n",
       " 'CF@ 1 ft': 'Count fingers',\n",
       " 'CF@ 12\"': 'Count fingers',\n",
       " \"CF@ 2'\": 'Count fingers',\n",
       " \"CF@ 6'\": 'Count fingers',\n",
       " \"CF@1'\": 'Count fingers',\n",
       " \"CF@1' (x2 quadrants)\": 'Count fingers',\n",
       " 'CF@1FT': 'Count fingers',\n",
       " 'CF@1ft': 'Count fingers',\n",
       " 'CF@2FT': 'Count fingers',\n",
       " 'CF@2ft': 'Count fingers',\n",
       " 'CF@3FT': 'Count fingers',\n",
       " 'CF@3ft': 'Count fingers',\n",
       " \"CF@4'\": 'Count fingers',\n",
       " 'CF@5ft': 'Count fingers',\n",
       " 'CF@face': 'Count fingers',\n",
       " 'Cf @ face': 'Count fingers',\n",
       " \"Cf at 5'\": 'Count fingers',\n",
       " \"Cf at 6'\": 'Count fingers',\n",
       " \"E @ 2'\": 'Count fingers',\n",
       " 'E @ 7\"': 'Count fingers',\n",
       " \"E @2'\": 'Count fingers',\n",
       " 'E card @ 3 ft': 'Count fingers',\n",
       " 'E card @ 8 ft eccentric': 'Count fingers',\n",
       " 'E card @ face': 'Count fingers',\n",
       " 'E card at face': 'Count fingers',\n",
       " 'E200@ 6 inches from face': 'Count fingers',\n",
       " 'Eccentric  20/150': '20/150',\n",
       " 'Fix and follow': 'Replace with blank',\n",
       " 'HM': 'Hand motions',\n",
       " 'HM - barely': 'Hand motions',\n",
       " \"HM 6'\": 'Hand motions',\n",
       " 'HM @ 2': 'Hand motions',\n",
       " 'HM @ 2 FT': 'Hand motions',\n",
       " \"HM @ 2'\": 'Hand motions',\n",
       " \"HM @ 3'\": 'Hand motions',\n",
       " 'HM @ 4\"': 'Hand motions',\n",
       " \"HM @ 4'\": 'Hand motions',\n",
       " \"HM @ 5'\": 'Hand motions',\n",
       " 'HM @ Face': 'Hand motions',\n",
       " 'HM @ face': 'Hand motions',\n",
       " \"HM at 3'\": 'Hand motions',\n",
       " 'HM at face': 'Hand motions',\n",
       " 'HM at face only': 'Hand motions',\n",
       " 'HM ecc': 'Hand motions',\n",
       " 'HM peripherral': 'Hand motions',\n",
       " 'HM with projection': 'Hand motions',\n",
       " 'HM/ LP': 'Hand motions',\n",
       " 'HM/LP': 'Hand motions',\n",
       " 'HM/Vague': 'Hand motions',\n",
       " 'HM@ face vague': 'Hand motions',\n",
       " 'LP': 'Light perception',\n",
       " 'LP vs HM': 'Hand motions',\n",
       " 'LP w/ Proj': 'Light perception',\n",
       " 'Moving': 'Replace with blank',\n",
       " 'NLP': 'No light perception',\n",
       " 'NLP pros': 'No light perception',\n",
       " 'NT': 'Replace with blank',\n",
       " 'New glasses Rx': 'Replace with blank',\n",
       " 'Not sure of reliability': 'Replace with blank',\n",
       " 'Periphery': 'Replace with blank',\n",
       " 'Prostetic': 'Replace with blank',\n",
       " 'Prosthesis': 'Replace with blank',\n",
       " 'Prothesis': 'Replace with blank',\n",
       " 'Retested x 3': 'Replace with blank',\n",
       " 'UTO': 'Replace with blank',\n",
       " 'Vague HM / LP': 'Hand motions',\n",
       " 'Vague LP': 'Light perception',\n",
       " 'Very inconsistent': 'Replace with blank',\n",
       " 'X': 'Replace with blank',\n",
       " '`20/200': '20/200',\n",
       " 'cf': 'Count fingers',\n",
       " \"cf 2'\": 'Count fingers',\n",
       " 'cf 3 ft': 'Count fingers',\n",
       " 'cf 5 ft': 'Count fingers',\n",
       " 'cf @ 1 ft': 'Count fingers',\n",
       " 'cf @ 2 ft': 'Count fingers',\n",
       " 'cf @ 3 ft': 'Count fingers',\n",
       " 'cf @ FACE': 'Count fingers',\n",
       " 'cf at face': 'Count fingers',\n",
       " 'cf peripherally': 'Count fingers',\n",
       " \"cf@1'\": 'Count fingers',\n",
       " \"cf@2'\": 'Count fingers',\n",
       " 'defers': 'Replace with blank',\n",
       " 'hm': 'Hand motions',\n",
       " 'hm @ face': 'Hand motions',\n",
       " 'nan': 'Replace with blank',\n",
       " 'nlp': 'No light perception',\n",
       " 'prosthesis': 'Replace with blank',\n",
       " 'prosthetic': 'Replace with blank',\n",
       " 'pt defers': 'Replace with blank',\n",
       " 'pt is confused today': 'Replace with blank',\n",
       " 'quick blue light when light was flashed in': 'Light perception',\n",
       " 'see refraction': 'Replace with blank',\n",
       " 'unable': 'Replace with blank'}"
      ]
     },
     "execution_count": 44,
     "metadata": {},
     "output_type": "execute_result"
    }
   ],
   "source": [
    "rules"
   ]
  },
  {
   "cell_type": "code",
   "execution_count": 40,
   "metadata": {},
   "outputs": [
    {
     "data": {
      "text/plain": [
       "new\n",
       "20/30      2574\n",
       "20/25      2488\n",
       "20/40      2448\n",
       "20/20      1997\n",
       "20/50      1702\n",
       "20/60      1146\n",
       "20/70       738\n",
       "20/100      609\n",
       "20/200      561\n",
       "20/80       510\n",
       "20/150      417\n",
       "20/400      365\n",
       "20/125      302\n",
       "20/300      153\n",
       "20/500      151\n",
       "20/250      100\n",
       "20/15        24\n",
       "20/600       16\n",
       "20/800       11\n",
       "20/1000      10\n",
       "20/16         4\n",
       "20/32         2\n",
       "20/160        2\n",
       "20/63         2\n",
       "20/120        1\n",
       "20/320        1\n",
       "Name: count, dtype: int64"
      ]
     },
     "execution_count": 40,
     "metadata": {},
     "output_type": "execute_result"
    }
   ],
   "source": [
    "old_new[(old_new[\"old\"] == old_new[\"new\"])][\"new\"].value_counts()"
   ]
  },
  {
   "cell_type": "code",
   "execution_count": 38,
   "metadata": {},
   "outputs": [
    {
     "data": {
      "text/html": [
       "<div>\n",
       "<style scoped>\n",
       "    .dataframe tbody tr th:only-of-type {\n",
       "        vertical-align: middle;\n",
       "    }\n",
       "\n",
       "    .dataframe tbody tr th {\n",
       "        vertical-align: top;\n",
       "    }\n",
       "\n",
       "    .dataframe thead th {\n",
       "        text-align: right;\n",
       "    }\n",
       "</style>\n",
       "<table border=\"1\" class=\"dataframe\">\n",
       "  <thead>\n",
       "    <tr style=\"text-align: right;\">\n",
       "      <th></th>\n",
       "      <th>old</th>\n",
       "      <th>new</th>\n",
       "    </tr>\n",
       "  </thead>\n",
       "  <tbody>\n",
       "    <tr>\n",
       "      <th>9</th>\n",
       "      <td>20/800</td>\n",
       "      <td>20/800</td>\n",
       "    </tr>\n",
       "    <tr>\n",
       "      <th>15</th>\n",
       "      <td>20/40</td>\n",
       "      <td>20/40</td>\n",
       "    </tr>\n",
       "    <tr>\n",
       "      <th>17</th>\n",
       "      <td>20/60</td>\n",
       "      <td>20/60</td>\n",
       "    </tr>\n",
       "    <tr>\n",
       "      <th>18</th>\n",
       "      <td>20/70</td>\n",
       "      <td>20/70</td>\n",
       "    </tr>\n",
       "    <tr>\n",
       "      <th>29</th>\n",
       "      <td>20/30</td>\n",
       "      <td>20/30</td>\n",
       "    </tr>\n",
       "    <tr>\n",
       "      <th>...</th>\n",
       "      <td>...</td>\n",
       "      <td>...</td>\n",
       "    </tr>\n",
       "    <tr>\n",
       "      <th>108329</th>\n",
       "      <td>20/60</td>\n",
       "      <td>20/60</td>\n",
       "    </tr>\n",
       "    <tr>\n",
       "      <th>108350</th>\n",
       "      <td>20/30</td>\n",
       "      <td>20/30</td>\n",
       "    </tr>\n",
       "    <tr>\n",
       "      <th>108351</th>\n",
       "      <td>20/25</td>\n",
       "      <td>20/25</td>\n",
       "    </tr>\n",
       "    <tr>\n",
       "      <th>108353</th>\n",
       "      <td>20/40</td>\n",
       "      <td>20/40</td>\n",
       "    </tr>\n",
       "    <tr>\n",
       "      <th>108355</th>\n",
       "      <td>20/30</td>\n",
       "      <td>20/30</td>\n",
       "    </tr>\n",
       "  </tbody>\n",
       "</table>\n",
       "<p>34654 rows × 2 columns</p>\n",
       "</div>"
      ],
      "text/plain": [
       "           old     new\n",
       "9       20/800  20/800\n",
       "15       20/40   20/40\n",
       "17       20/60   20/60\n",
       "18       20/70   20/70\n",
       "29       20/30   20/30\n",
       "...        ...     ...\n",
       "108329   20/60   20/60\n",
       "108350   20/30   20/30\n",
       "108351   20/25   20/25\n",
       "108353   20/40   20/40\n",
       "108355   20/30   20/30\n",
       "\n",
       "[34654 rows x 2 columns]"
      ]
     },
     "execution_count": 38,
     "metadata": {},
     "output_type": "execute_result"
    }
   ],
   "source": [
    "old_new[~old_new[\"old\"].isna() & (old_new[\"old\"] == old_new[\"new\"])]"
   ]
  },
  {
   "cell_type": "code",
   "execution_count": 46,
   "metadata": {},
   "outputs": [
    {
     "data": {
      "text/html": [
       "<div>\n",
       "<style scoped>\n",
       "    .dataframe tbody tr th:only-of-type {\n",
       "        vertical-align: middle;\n",
       "    }\n",
       "\n",
       "    .dataframe tbody tr th {\n",
       "        vertical-align: top;\n",
       "    }\n",
       "\n",
       "    .dataframe thead th {\n",
       "        text-align: right;\n",
       "    }\n",
       "</style>\n",
       "<table border=\"1\" class=\"dataframe\">\n",
       "  <thead>\n",
       "    <tr style=\"text-align: right;\">\n",
       "      <th></th>\n",
       "      <th>old</th>\n",
       "      <th>new</th>\n",
       "    </tr>\n",
       "  </thead>\n",
       "  <tbody>\n",
       "  </tbody>\n",
       "</table>\n",
       "</div>"
      ],
      "text/plain": [
       "Empty DataFrame\n",
       "Columns: [old, new]\n",
       "Index: []"
      ]
     },
     "execution_count": 46,
     "metadata": {},
     "output_type": "execute_result"
    }
   ],
   "source": [
    "old_new[~old_new[\"new\"].isna() & old_new[\"old\"].str.contains(\"73\")]"
   ]
  },
  {
   "cell_type": "code",
   "execution_count": 47,
   "metadata": {},
   "outputs": [
    {
     "data": {
      "text/html": [
       "<div>\n",
       "<style scoped>\n",
       "    .dataframe tbody tr th:only-of-type {\n",
       "        vertical-align: middle;\n",
       "    }\n",
       "\n",
       "    .dataframe tbody tr th {\n",
       "        vertical-align: top;\n",
       "    }\n",
       "\n",
       "    .dataframe thead th {\n",
       "        text-align: right;\n",
       "    }\n",
       "</style>\n",
       "<table border=\"1\" class=\"dataframe\">\n",
       "  <thead>\n",
       "    <tr style=\"text-align: right;\">\n",
       "      <th></th>\n",
       "      <th>old</th>\n",
       "      <th>new</th>\n",
       "    </tr>\n",
       "  </thead>\n",
       "  <tbody>\n",
       "  </tbody>\n",
       "</table>\n",
       "</div>"
      ],
      "text/plain": [
       "Empty DataFrame\n",
       "Columns: [old, new]\n",
       "Index: []"
      ]
     },
     "execution_count": 47,
     "metadata": {},
     "output_type": "execute_result"
    }
   ],
   "source": [
    "old_new[old_new[\"old\"] ==73]"
   ]
  },
  {
   "cell_type": "code",
   "execution_count": 26,
   "metadata": {},
   "outputs": [
    {
     "data": {
      "text/html": [
       "<div>\n",
       "<style scoped>\n",
       "    .dataframe tbody tr th:only-of-type {\n",
       "        vertical-align: middle;\n",
       "    }\n",
       "\n",
       "    .dataframe tbody tr th {\n",
       "        vertical-align: top;\n",
       "    }\n",
       "\n",
       "    .dataframe thead th {\n",
       "        text-align: right;\n",
       "    }\n",
       "</style>\n",
       "<table border=\"1\" class=\"dataframe\">\n",
       "  <thead>\n",
       "    <tr style=\"text-align: right;\">\n",
       "      <th></th>\n",
       "      <th>old</th>\n",
       "      <th>new</th>\n",
       "    </tr>\n",
       "  </thead>\n",
       "  <tbody>\n",
       "    <tr>\n",
       "      <th>20</th>\n",
       "      <td>20/70</td>\n",
       "      <td>20/70</td>\n",
       "    </tr>\n",
       "    <tr>\n",
       "      <th>21</th>\n",
       "      <td>20/70</td>\n",
       "      <td>20/70</td>\n",
       "    </tr>\n",
       "    <tr>\n",
       "      <th>120</th>\n",
       "      <td>20/60</td>\n",
       "      <td>20/60</td>\n",
       "    </tr>\n",
       "    <tr>\n",
       "      <th>121</th>\n",
       "      <td>20/20</td>\n",
       "      <td>20/20</td>\n",
       "    </tr>\n",
       "    <tr>\n",
       "      <th>122</th>\n",
       "      <td>20/25</td>\n",
       "      <td>20/25</td>\n",
       "    </tr>\n",
       "    <tr>\n",
       "      <th>...</th>\n",
       "      <td>...</td>\n",
       "      <td>...</td>\n",
       "    </tr>\n",
       "    <tr>\n",
       "      <th>108360</th>\n",
       "      <td>20/60</td>\n",
       "      <td>20/60</td>\n",
       "    </tr>\n",
       "    <tr>\n",
       "      <th>108361</th>\n",
       "      <td>20/60</td>\n",
       "      <td>20/60</td>\n",
       "    </tr>\n",
       "    <tr>\n",
       "      <th>108362</th>\n",
       "      <td>20/50</td>\n",
       "      <td>20/50</td>\n",
       "    </tr>\n",
       "    <tr>\n",
       "      <th>108363</th>\n",
       "      <td>20/70</td>\n",
       "      <td>20/70</td>\n",
       "    </tr>\n",
       "    <tr>\n",
       "      <th>108364</th>\n",
       "      <td>20/200</td>\n",
       "      <td>20/200</td>\n",
       "    </tr>\n",
       "  </tbody>\n",
       "</table>\n",
       "<p>16334 rows × 2 columns</p>\n",
       "</div>"
      ],
      "text/plain": [
       "           old     new\n",
       "20       20/70   20/70\n",
       "21       20/70   20/70\n",
       "120      20/60   20/60\n",
       "121      20/20   20/20\n",
       "122      20/25   20/25\n",
       "...        ...     ...\n",
       "108360   20/60   20/60\n",
       "108361   20/60   20/60\n",
       "108362   20/50   20/50\n",
       "108363   20/70   20/70\n",
       "108364  20/200  20/200\n",
       "\n",
       "[16334 rows x 2 columns]"
      ]
     },
     "execution_count": 26,
     "metadata": {},
     "output_type": "execute_result"
    }
   ],
   "source": [
    "old_new[~old_new[\"old\"].isna() & (old_new[\"old\"] == old_new[\"new\"])]"
   ]
  },
  {
   "cell_type": "code",
   "execution_count": 15,
   "metadata": {},
   "outputs": [],
   "source": [
    "rules = get_occs(ins[\"args\"])"
   ]
  },
  {
   "cell_type": "code",
   "execution_count": 16,
   "metadata": {},
   "outputs": [],
   "source": [
    "rules = pd.DataFrame(rules.groupby([\"Value\", \"Rule (to be defined by CCF team)\"])[\"Occurences\"].sum()).reset_index()"
   ]
  },
  {
   "cell_type": "code",
   "execution_count": 17,
   "metadata": {},
   "outputs": [],
   "source": [
    "def mod_expected(df, col_name, rules, expected):\n",
    "    rules_merge = pd.merge(rules, df[[col_name]], left_on=[\"Value\"], right_on=[col_name], how=\"left\")\n",
    "    rules_merge[\"actual_occurences\"] = rules_merge.groupby(col_name)[col_name].transform(\"size\")\n",
    "    mis_match = rules_merge[rules_merge[\"Occurences\"] != rules_merge[\"actual_occurences\"]]\n",
    "    dups_dropped = mis_match.drop_duplicates(subset=[\"Value\"])\n",
    "    nan_count = sum(dups_dropped[dups_dropped[\"Value\"].isnull()][\"Occurences\"])\n",
    "    occ_diff = dups_dropped[~dups_dropped[\"Value\"].isnull()]\n",
    "    act_minus_exp = sum(occ_diff[\"actual_occurences\"]) - sum(occ_diff[\"Occurences\"])\n",
    "\n",
    "    return expected - nan_count + act_minus_exp\n",
    "    \n",
    "\n",
    "\n"
   ]
  },
  {
   "cell_type": "code",
   "execution_count": 18,
   "metadata": {},
   "outputs": [],
   "source": [
    "rules_merge = pd.merge(rules, df[[col_name]], left_on=[\"Value\"], right_on=[col_name], how=\"left\")"
   ]
  },
  {
   "cell_type": "code",
   "execution_count": 25,
   "metadata": {},
   "outputs": [
    {
     "data": {
      "text/html": [
       "<div>\n",
       "<style scoped>\n",
       "    .dataframe tbody tr th:only-of-type {\n",
       "        vertical-align: middle;\n",
       "    }\n",
       "\n",
       "    .dataframe tbody tr th {\n",
       "        vertical-align: top;\n",
       "    }\n",
       "\n",
       "    .dataframe thead th {\n",
       "        text-align: right;\n",
       "    }\n",
       "</style>\n",
       "<table border=\"1\" class=\"dataframe\">\n",
       "  <thead>\n",
       "    <tr style=\"text-align: right;\">\n",
       "      <th></th>\n",
       "      <th>Value</th>\n",
       "      <th>Rule (to be defined by CCF team)</th>\n",
       "      <th>Occurences</th>\n",
       "      <th>VA_Right_Pressure</th>\n",
       "      <th>actual_occurences</th>\n",
       "    </tr>\n",
       "  </thead>\n",
       "  <tbody>\n",
       "    <tr>\n",
       "      <th>0</th>\n",
       "      <td>-</td>\n",
       "      <td>Replace with blank</td>\n",
       "      <td>2</td>\n",
       "      <td>-</td>\n",
       "      <td>2</td>\n",
       "    </tr>\n",
       "    <tr>\n",
       "      <th>1</th>\n",
       "      <td>-</td>\n",
       "      <td>Replace with blank</td>\n",
       "      <td>2</td>\n",
       "      <td>-</td>\n",
       "      <td>2</td>\n",
       "    </tr>\n",
       "    <tr>\n",
       "      <th>2</th>\n",
       "      <td>--</td>\n",
       "      <td>Replace with blank</td>\n",
       "      <td>10</td>\n",
       "      <td>--</td>\n",
       "      <td>10</td>\n",
       "    </tr>\n",
       "    <tr>\n",
       "      <th>3</th>\n",
       "      <td>--</td>\n",
       "      <td>Replace with blank</td>\n",
       "      <td>10</td>\n",
       "      <td>--</td>\n",
       "      <td>10</td>\n",
       "    </tr>\n",
       "    <tr>\n",
       "      <th>4</th>\n",
       "      <td>--</td>\n",
       "      <td>Replace with blank</td>\n",
       "      <td>10</td>\n",
       "      <td>--</td>\n",
       "      <td>10</td>\n",
       "    </tr>\n",
       "    <tr>\n",
       "      <th>...</th>\n",
       "      <td>...</td>\n",
       "      <td>...</td>\n",
       "      <td>...</td>\n",
       "      <td>...</td>\n",
       "      <td>...</td>\n",
       "    </tr>\n",
       "    <tr>\n",
       "      <th>127</th>\n",
       "      <td>x</td>\n",
       "      <td>Replace with blank</td>\n",
       "      <td>9</td>\n",
       "      <td>x</td>\n",
       "      <td>9</td>\n",
       "    </tr>\n",
       "    <tr>\n",
       "      <th>128</th>\n",
       "      <td>x</td>\n",
       "      <td>Replace with blank</td>\n",
       "      <td>9</td>\n",
       "      <td>x</td>\n",
       "      <td>9</td>\n",
       "    </tr>\n",
       "    <tr>\n",
       "      <th>129</th>\n",
       "      <td>x</td>\n",
       "      <td>Replace with blank</td>\n",
       "      <td>9</td>\n",
       "      <td>x</td>\n",
       "      <td>9</td>\n",
       "    </tr>\n",
       "    <tr>\n",
       "      <th>130</th>\n",
       "      <td>x</td>\n",
       "      <td>Replace with blank</td>\n",
       "      <td>9</td>\n",
       "      <td>x</td>\n",
       "      <td>9</td>\n",
       "    </tr>\n",
       "    <tr>\n",
       "      <th>131</th>\n",
       "      <td>x</td>\n",
       "      <td>Replace with blank</td>\n",
       "      <td>9</td>\n",
       "      <td>x</td>\n",
       "      <td>9</td>\n",
       "    </tr>\n",
       "  </tbody>\n",
       "</table>\n",
       "<p>132 rows × 5 columns</p>\n",
       "</div>"
      ],
      "text/plain": [
       "    Value Rule (to be defined by CCF team)  Occurences VA_Right_Pressure  \\\n",
       "0       -               Replace with blank           2                 -   \n",
       "1       -               Replace with blank           2                 -   \n",
       "2      --               Replace with blank          10                --   \n",
       "3      --               Replace with blank          10                --   \n",
       "4      --               Replace with blank          10                --   \n",
       "..    ...                              ...         ...               ...   \n",
       "127     x               Replace with blank           9                 x   \n",
       "128     x               Replace with blank           9                 x   \n",
       "129     x               Replace with blank           9                 x   \n",
       "130     x               Replace with blank           9                 x   \n",
       "131     x               Replace with blank           9                 x   \n",
       "\n",
       "     actual_occurences  \n",
       "0                    2  \n",
       "1                    2  \n",
       "2                   10  \n",
       "3                   10  \n",
       "4                   10  \n",
       "..                 ...  \n",
       "127                  9  \n",
       "128                  9  \n",
       "129                  9  \n",
       "130                  9  \n",
       "131                  9  \n",
       "\n",
       "[132 rows x 5 columns]"
      ]
     },
     "execution_count": 25,
     "metadata": {},
     "output_type": "execute_result"
    }
   ],
   "source": [
    "rules_merge"
   ]
  },
  {
   "cell_type": "code",
   "execution_count": 19,
   "metadata": {},
   "outputs": [],
   "source": [
    "rules_merge[\"actual_occurences\"] = rules_merge.groupby(col_name)[col_name].transform(\"size\")"
   ]
  },
  {
   "cell_type": "code",
   "execution_count": 41,
   "metadata": {},
   "outputs": [
    {
     "data": {
      "text/html": [
       "<div>\n",
       "<style scoped>\n",
       "    .dataframe tbody tr th:only-of-type {\n",
       "        vertical-align: middle;\n",
       "    }\n",
       "\n",
       "    .dataframe tbody tr th {\n",
       "        vertical-align: top;\n",
       "    }\n",
       "\n",
       "    .dataframe thead th {\n",
       "        text-align: right;\n",
       "    }\n",
       "</style>\n",
       "<table border=\"1\" class=\"dataframe\">\n",
       "  <thead>\n",
       "    <tr style=\"text-align: right;\">\n",
       "      <th></th>\n",
       "      <th>Value</th>\n",
       "      <th>Rule (to be defined by CCF team)</th>\n",
       "      <th>Occurences</th>\n",
       "      <th>VA_Right_Pressure</th>\n",
       "      <th>actual_occurences</th>\n",
       "    </tr>\n",
       "  </thead>\n",
       "  <tbody>\n",
       "    <tr>\n",
       "      <th>0</th>\n",
       "      <td>-</td>\n",
       "      <td>Replace with blank</td>\n",
       "      <td>2</td>\n",
       "      <td>-</td>\n",
       "      <td>2</td>\n",
       "    </tr>\n",
       "    <tr>\n",
       "      <th>1</th>\n",
       "      <td>-</td>\n",
       "      <td>Replace with blank</td>\n",
       "      <td>2</td>\n",
       "      <td>-</td>\n",
       "      <td>2</td>\n",
       "    </tr>\n",
       "    <tr>\n",
       "      <th>2</th>\n",
       "      <td>--</td>\n",
       "      <td>Replace with blank</td>\n",
       "      <td>10</td>\n",
       "      <td>--</td>\n",
       "      <td>10</td>\n",
       "    </tr>\n",
       "    <tr>\n",
       "      <th>3</th>\n",
       "      <td>--</td>\n",
       "      <td>Replace with blank</td>\n",
       "      <td>10</td>\n",
       "      <td>--</td>\n",
       "      <td>10</td>\n",
       "    </tr>\n",
       "    <tr>\n",
       "      <th>4</th>\n",
       "      <td>--</td>\n",
       "      <td>Replace with blank</td>\n",
       "      <td>10</td>\n",
       "      <td>--</td>\n",
       "      <td>10</td>\n",
       "    </tr>\n",
       "    <tr>\n",
       "      <th>...</th>\n",
       "      <td>...</td>\n",
       "      <td>...</td>\n",
       "      <td>...</td>\n",
       "      <td>...</td>\n",
       "      <td>...</td>\n",
       "    </tr>\n",
       "    <tr>\n",
       "      <th>127</th>\n",
       "      <td>x</td>\n",
       "      <td>Replace with blank</td>\n",
       "      <td>9</td>\n",
       "      <td>x</td>\n",
       "      <td>9</td>\n",
       "    </tr>\n",
       "    <tr>\n",
       "      <th>128</th>\n",
       "      <td>x</td>\n",
       "      <td>Replace with blank</td>\n",
       "      <td>9</td>\n",
       "      <td>x</td>\n",
       "      <td>9</td>\n",
       "    </tr>\n",
       "    <tr>\n",
       "      <th>129</th>\n",
       "      <td>x</td>\n",
       "      <td>Replace with blank</td>\n",
       "      <td>9</td>\n",
       "      <td>x</td>\n",
       "      <td>9</td>\n",
       "    </tr>\n",
       "    <tr>\n",
       "      <th>130</th>\n",
       "      <td>x</td>\n",
       "      <td>Replace with blank</td>\n",
       "      <td>9</td>\n",
       "      <td>x</td>\n",
       "      <td>9</td>\n",
       "    </tr>\n",
       "    <tr>\n",
       "      <th>131</th>\n",
       "      <td>x</td>\n",
       "      <td>Replace with blank</td>\n",
       "      <td>9</td>\n",
       "      <td>x</td>\n",
       "      <td>9</td>\n",
       "    </tr>\n",
       "  </tbody>\n",
       "</table>\n",
       "<p>132 rows × 5 columns</p>\n",
       "</div>"
      ],
      "text/plain": [
       "    Value Rule (to be defined by CCF team)  Occurences VA_Right_Pressure  \\\n",
       "0       -               Replace with blank           2                 -   \n",
       "1       -               Replace with blank           2                 -   \n",
       "2      --               Replace with blank          10                --   \n",
       "3      --               Replace with blank          10                --   \n",
       "4      --               Replace with blank          10                --   \n",
       "..    ...                              ...         ...               ...   \n",
       "127     x               Replace with blank           9                 x   \n",
       "128     x               Replace with blank           9                 x   \n",
       "129     x               Replace with blank           9                 x   \n",
       "130     x               Replace with blank           9                 x   \n",
       "131     x               Replace with blank           9                 x   \n",
       "\n",
       "     actual_occurences  \n",
       "0                    2  \n",
       "1                    2  \n",
       "2                   10  \n",
       "3                   10  \n",
       "4                   10  \n",
       "..                 ...  \n",
       "127                  9  \n",
       "128                  9  \n",
       "129                  9  \n",
       "130                  9  \n",
       "131                  9  \n",
       "\n",
       "[132 rows x 5 columns]"
      ]
     },
     "execution_count": 41,
     "metadata": {},
     "output_type": "execute_result"
    }
   ],
   "source": [
    "rules_merge"
   ]
  },
  {
   "cell_type": "code",
   "execution_count": 42,
   "metadata": {},
   "outputs": [
    {
     "data": {
      "text/html": [
       "<div>\n",
       "<style scoped>\n",
       "    .dataframe tbody tr th:only-of-type {\n",
       "        vertical-align: middle;\n",
       "    }\n",
       "\n",
       "    .dataframe tbody tr th {\n",
       "        vertical-align: top;\n",
       "    }\n",
       "\n",
       "    .dataframe thead th {\n",
       "        text-align: right;\n",
       "    }\n",
       "</style>\n",
       "<table border=\"1\" class=\"dataframe\">\n",
       "  <thead>\n",
       "    <tr style=\"text-align: right;\">\n",
       "      <th></th>\n",
       "      <th>Value</th>\n",
       "      <th>Rule (to be defined by CCF team)</th>\n",
       "      <th>Occurences</th>\n",
       "      <th>VA_Right_Pressure</th>\n",
       "      <th>actual_occurences</th>\n",
       "    </tr>\n",
       "  </thead>\n",
       "  <tbody>\n",
       "  </tbody>\n",
       "</table>\n",
       "</div>"
      ],
      "text/plain": [
       "Empty DataFrame\n",
       "Columns: [Value, Rule (to be defined by CCF team), Occurences, VA_Right_Pressure, actual_occurences]\n",
       "Index: []"
      ]
     },
     "execution_count": 42,
     "metadata": {},
     "output_type": "execute_result"
    }
   ],
   "source": [
    "rules_merge[rules_merge[\"Value\"].isna()]"
   ]
  },
  {
   "cell_type": "code",
   "execution_count": 38,
   "metadata": {},
   "outputs": [],
   "source": [
    "mis_match = rules_merge[rules_merge[\"Occurences\"] != rules_merge[\"actual_occurences\"]]"
   ]
  },
  {
   "cell_type": "code",
   "execution_count": 39,
   "metadata": {},
   "outputs": [
    {
     "data": {
      "text/html": [
       "<div>\n",
       "<style scoped>\n",
       "    .dataframe tbody tr th:only-of-type {\n",
       "        vertical-align: middle;\n",
       "    }\n",
       "\n",
       "    .dataframe tbody tr th {\n",
       "        vertical-align: top;\n",
       "    }\n",
       "\n",
       "    .dataframe thead th {\n",
       "        text-align: right;\n",
       "    }\n",
       "</style>\n",
       "<table border=\"1\" class=\"dataframe\">\n",
       "  <thead>\n",
       "    <tr style=\"text-align: right;\">\n",
       "      <th></th>\n",
       "      <th>Value</th>\n",
       "      <th>Rule (to be defined by CCF team)</th>\n",
       "      <th>Occurences</th>\n",
       "      <th>VA_Right_Pressure</th>\n",
       "      <th>actual_occurences</th>\n",
       "    </tr>\n",
       "  </thead>\n",
       "  <tbody>\n",
       "  </tbody>\n",
       "</table>\n",
       "</div>"
      ],
      "text/plain": [
       "Empty DataFrame\n",
       "Columns: [Value, Rule (to be defined by CCF team), Occurences, VA_Right_Pressure, actual_occurences]\n",
       "Index: []"
      ]
     },
     "execution_count": 39,
     "metadata": {},
     "output_type": "execute_result"
    }
   ],
   "source": [
    "mis_match"
   ]
  },
  {
   "cell_type": "code",
   "execution_count": 27,
   "metadata": {},
   "outputs": [],
   "source": [
    "dups_dropped =mis_match.drop_duplicates(subset=[\"Value\"])"
   ]
  },
  {
   "cell_type": "code",
   "execution_count": 28,
   "metadata": {},
   "outputs": [
    {
     "data": {
      "text/html": [
       "<div>\n",
       "<style scoped>\n",
       "    .dataframe tbody tr th:only-of-type {\n",
       "        vertical-align: middle;\n",
       "    }\n",
       "\n",
       "    .dataframe tbody tr th {\n",
       "        vertical-align: top;\n",
       "    }\n",
       "\n",
       "    .dataframe thead th {\n",
       "        text-align: right;\n",
       "    }\n",
       "</style>\n",
       "<table border=\"1\" class=\"dataframe\">\n",
       "  <thead>\n",
       "    <tr style=\"text-align: right;\">\n",
       "      <th></th>\n",
       "      <th>Value</th>\n",
       "      <th>Rule (to be defined by CCF team)</th>\n",
       "      <th>Occurences</th>\n",
       "      <th>VA_Right_Pressure</th>\n",
       "      <th>actual_occurences</th>\n",
       "    </tr>\n",
       "  </thead>\n",
       "  <tbody>\n",
       "  </tbody>\n",
       "</table>\n",
       "</div>"
      ],
      "text/plain": [
       "Empty DataFrame\n",
       "Columns: [Value, Rule (to be defined by CCF team), Occurences, VA_Right_Pressure, actual_occurences]\n",
       "Index: []"
      ]
     },
     "execution_count": 28,
     "metadata": {},
     "output_type": "execute_result"
    }
   ],
   "source": [
    "dups_dropped"
   ]
  },
  {
   "cell_type": "code",
   "execution_count": 29,
   "metadata": {},
   "outputs": [],
   "source": [
    "nan_count = sum(dups_dropped[dups_dropped[\"Value\"].isnull()][\"Occurences\"])"
   ]
  },
  {
   "cell_type": "code",
   "execution_count": 30,
   "metadata": {},
   "outputs": [
    {
     "data": {
      "text/plain": [
       "0"
      ]
     },
     "execution_count": 30,
     "metadata": {},
     "output_type": "execute_result"
    }
   ],
   "source": [
    "nan_count"
   ]
  },
  {
   "cell_type": "code",
   "execution_count": 31,
   "metadata": {},
   "outputs": [],
   "source": [
    "occ_diff = dups_dropped[~dups_dropped[\"Value\"].isnull() & ~dups_dropped['actual_occurences'].isnull()]"
   ]
  },
  {
   "cell_type": "code",
   "execution_count": 33,
   "metadata": {},
   "outputs": [
    {
     "ename": "NameError",
     "evalue": "name 'cc_diff' is not defined",
     "output_type": "error",
     "traceback": [
      "\u001b[1;31m---------------------------------------------------------------------------\u001b[0m",
      "\u001b[1;31mNameError\u001b[0m                                 Traceback (most recent call last)",
      "Cell \u001b[1;32mIn[33], line 1\u001b[0m\n\u001b[1;32m----> 1\u001b[0m \u001b[43mcc_diff\u001b[49m\n",
      "\u001b[1;31mNameError\u001b[0m: name 'cc_diff' is not defined"
     ]
    }
   ],
   "source": [
    "cc_diff"
   ]
  },
  {
   "cell_type": "code",
   "execution_count": 32,
   "metadata": {},
   "outputs": [
    {
     "data": {
      "text/html": [
       "<div>\n",
       "<style scoped>\n",
       "    .dataframe tbody tr th:only-of-type {\n",
       "        vertical-align: middle;\n",
       "    }\n",
       "\n",
       "    .dataframe tbody tr th {\n",
       "        vertical-align: top;\n",
       "    }\n",
       "\n",
       "    .dataframe thead th {\n",
       "        text-align: right;\n",
       "    }\n",
       "</style>\n",
       "<table border=\"1\" class=\"dataframe\">\n",
       "  <thead>\n",
       "    <tr style=\"text-align: right;\">\n",
       "      <th></th>\n",
       "      <th>Value</th>\n",
       "      <th>Rule (to be defined by CCF team)</th>\n",
       "      <th>Occurences</th>\n",
       "      <th>VA_Right_Pressure</th>\n",
       "      <th>actual_occurences</th>\n",
       "    </tr>\n",
       "  </thead>\n",
       "  <tbody>\n",
       "  </tbody>\n",
       "</table>\n",
       "</div>"
      ],
      "text/plain": [
       "Empty DataFrame\n",
       "Columns: [Value, Rule (to be defined by CCF team), Occurences, VA_Right_Pressure, actual_occurences]\n",
       "Index: []"
      ]
     },
     "execution_count": 32,
     "metadata": {},
     "output_type": "execute_result"
    }
   ],
   "source": [
    "occ_diff"
   ]
  },
  {
   "cell_type": "code",
   "execution_count": 34,
   "metadata": {},
   "outputs": [
    {
     "data": {
      "text/plain": [
       "0"
      ]
     },
     "execution_count": 34,
     "metadata": {},
     "output_type": "execute_result"
    }
   ],
   "source": [
    "sum(occ_diff[\"actual_occurences\"])"
   ]
  },
  {
   "cell_type": "code",
   "execution_count": 35,
   "metadata": {},
   "outputs": [
    {
     "data": {
      "text/plain": [
       "0"
      ]
     },
     "execution_count": 35,
     "metadata": {},
     "output_type": "execute_result"
    }
   ],
   "source": [
    "sum(occ_diff[\"Occurences\"])"
   ]
  },
  {
   "cell_type": "code",
   "execution_count": 36,
   "metadata": {},
   "outputs": [
    {
     "data": {
      "text/plain": [
       "0"
      ]
     },
     "execution_count": 36,
     "metadata": {},
     "output_type": "execute_result"
    }
   ],
   "source": [
    "sum(occ_diff[\"actual_occurences\"]) - sum(occ_diff[\"Occurences\"])"
   ]
  },
  {
   "cell_type": "markdown",
   "metadata": {},
   "source": [
    "***"
   ]
  },
  {
   "cell_type": "code",
   "execution_count": null,
   "metadata": {},
   "outputs": [],
   "source": [
    "occ_diff = "
   ]
  },
  {
   "cell_type": "code",
   "execution_count": 46,
   "metadata": {},
   "outputs": [
    {
     "data": {
      "text/plain": [
       "Value\n",
       "--              20\n",
       "x               13\n",
       "soft            12\n",
       "UTO             11\n",
       "X                9\n",
       "---              8\n",
       "uto              6\n",
       "CL               6\n",
       "dfr              5\n",
       "unab             4\n",
       "defe             4\n",
       "NT               4\n",
       "Soft             3\n",
       "sft              3\n",
       "Pros             2\n",
       "Dfr              2\n",
       "Prosthetic       1\n",
       "nl               1\n",
       "Unable           1\n",
       "pros             1\n",
       "16?              1\n",
       "STP              1\n",
       "20?              1\n",
       "18-1             1\n",
       "`18              1\n",
       "21-2             1\n",
       "stp              1\n",
       "22, 24           1\n",
       "BCL in place     1\n",
       "BCL              1\n",
       "DEF              1\n",
       "-                1\n",
       "err              1\n",
       "0-10             1\n",
       "<5               1\n",
       "DFR              1\n",
       "NTT              1\n",
       "Name: count, dtype: int64"
      ]
     },
     "execution_count": 46,
     "metadata": {},
     "output_type": "execute_result"
    }
   ],
   "source": [
    "rules_merge[\"Value\"].value_counts()"
   ]
  },
  {
   "cell_type": "code",
   "execution_count": 59,
   "metadata": {},
   "outputs": [],
   "source": [
    "str_rule_count = str_rules.rules[\"Occurences\"]\n"
   ]
  },
  {
   "cell_type": "code",
   "execution_count": 61,
   "metadata": {},
   "outputs": [],
   "source": [
    "str_rule_count.name = \"Occurences\""
   ]
  },
  {
   "cell_type": "code",
   "execution_count": 64,
   "metadata": {},
   "outputs": [
    {
     "data": {
      "text/plain": [
       "0     20\n",
       "1     13\n",
       "2     12\n",
       "3     11\n",
       "4      9\n",
       "5      8\n",
       "6      6\n",
       "7      5\n",
       "8      4\n",
       "9      4\n",
       "10     4\n",
       "11     3\n",
       "12     3\n",
       "13     3\n",
       "14     2\n",
       "15     2\n",
       "16     1\n",
       "17     1\n",
       "18     1\n",
       "19     1\n",
       "20     1\n",
       "21     1\n",
       "22     1\n",
       "23     1\n",
       "24     1\n",
       "25     1\n",
       "26     1\n",
       "27     1\n",
       "28     1\n",
       "29     1\n",
       "30     1\n",
       "31     1\n",
       "32     1\n",
       "33     1\n",
       "34     1\n",
       "35     1\n",
       "36     1\n",
       "37     1\n",
       "38     1\n",
       "39     1\n",
       "Name: Occurences, dtype: int64"
      ]
     },
     "execution_count": 64,
     "metadata": {},
     "output_type": "execute_result"
    }
   ],
   "source": [
    "str_rule_count"
   ]
  },
  {
   "cell_type": "code",
   "execution_count": 65,
   "metadata": {},
   "outputs": [
    {
     "data": {
      "text/plain": [
       "0     20\n",
       "1     13\n",
       "2     12\n",
       "3     11\n",
       "4      9\n",
       "5      8\n",
       "6      6\n",
       "7      6\n",
       "8      5\n",
       "9      4\n",
       "10     4\n",
       "11     4\n",
       "12     3\n",
       "13     3\n",
       "14     2\n",
       "15     2\n",
       "16     1\n",
       "17     1\n",
       "18     1\n",
       "19     1\n",
       "20     1\n",
       "21     1\n",
       "22     1\n",
       "23     1\n",
       "24     1\n",
       "25     1\n",
       "26     1\n",
       "27     1\n",
       "28     1\n",
       "29     1\n",
       "30     1\n",
       "31     1\n",
       "32     1\n",
       "33     1\n",
       "34     1\n",
       "35     1\n",
       "36     1\n",
       "Name: Occurences, dtype: int64"
      ]
     },
     "execution_count": 65,
     "metadata": {},
     "output_type": "execute_result"
    }
   ],
   "source": [
    "pd.Series(rules_merge[\"Value\"].value_counts().values, name=\"Occurences\")"
   ]
  },
  {
   "cell_type": "code",
   "execution_count": null,
   "metadata": {},
   "outputs": [],
   "source": [
    "from etls.sheets.va_cols import VARuleReader\n",
    "\n",
    "\n",
    "rules= VARuleReader()"
   ]
  },
  {
   "cell_type": "code",
   "execution_count": 23,
   "metadata": {},
   "outputs": [
    {
     "data": {
      "text/html": [
       "<div>\n",
       "<style scoped>\n",
       "    .dataframe tbody tr th:only-of-type {\n",
       "        vertical-align: middle;\n",
       "    }\n",
       "\n",
       "    .dataframe tbody tr th {\n",
       "        vertical-align: top;\n",
       "    }\n",
       "\n",
       "    .dataframe thead th {\n",
       "        text-align: right;\n",
       "    }\n",
       "</style>\n",
       "<table border=\"1\" class=\"dataframe\">\n",
       "  <thead>\n",
       "    <tr style=\"text-align: right;\">\n",
       "      <th></th>\n",
       "      <th>old_VA_Left_Pressure</th>\n",
       "      <th>VA_Left_Pressure</th>\n",
       "    </tr>\n",
       "  </thead>\n",
       "  <tbody>\n",
       "    <tr>\n",
       "      <th>2679</th>\n",
       "      <td>soft</td>\n",
       "      <td>NaN</td>\n",
       "    </tr>\n",
       "    <tr>\n",
       "      <th>2680</th>\n",
       "      <td>soft</td>\n",
       "      <td>NaN</td>\n",
       "    </tr>\n",
       "    <tr>\n",
       "      <th>2689</th>\n",
       "      <td>X</td>\n",
       "      <td>NaN</td>\n",
       "    </tr>\n",
       "    <tr>\n",
       "      <th>5004</th>\n",
       "      <td>--</td>\n",
       "      <td>NaN</td>\n",
       "    </tr>\n",
       "    <tr>\n",
       "      <th>6277</th>\n",
       "      <td>Soft</td>\n",
       "      <td>NaN</td>\n",
       "    </tr>\n",
       "    <tr>\n",
       "      <th>...</th>\n",
       "      <td>...</td>\n",
       "      <td>...</td>\n",
       "    </tr>\n",
       "    <tr>\n",
       "      <th>105684</th>\n",
       "      <td>UTO</td>\n",
       "      <td>NaN</td>\n",
       "    </tr>\n",
       "    <tr>\n",
       "      <th>105685</th>\n",
       "      <td>UTO</td>\n",
       "      <td>NaN</td>\n",
       "    </tr>\n",
       "    <tr>\n",
       "      <th>105861</th>\n",
       "      <td>---</td>\n",
       "      <td>NaN</td>\n",
       "    </tr>\n",
       "    <tr>\n",
       "      <th>107253</th>\n",
       "      <td>defe</td>\n",
       "      <td>NaN</td>\n",
       "    </tr>\n",
       "    <tr>\n",
       "      <th>108011</th>\n",
       "      <td>x</td>\n",
       "      <td>NaN</td>\n",
       "    </tr>\n",
       "  </tbody>\n",
       "</table>\n",
       "<p>129 rows × 2 columns</p>\n",
       "</div>"
      ],
      "text/plain": [
       "       old_VA_Left_Pressure VA_Left_Pressure\n",
       "2679                   soft              NaN\n",
       "2680                   soft              NaN\n",
       "2689                      X              NaN\n",
       "5004                     --              NaN\n",
       "6277                   Soft              NaN\n",
       "...                     ...              ...\n",
       "105684                  UTO              NaN\n",
       "105685                  UTO              NaN\n",
       "105861                  ---              NaN\n",
       "107253                 defe              NaN\n",
       "108011                    x              NaN\n",
       "\n",
       "[129 rows x 2 columns]"
      ]
     },
     "execution_count": 23,
     "metadata": {},
     "output_type": "execute_result"
    }
   ],
   "source": [
    "display_check(result)"
   ]
  },
  {
   "cell_type": "code",
   "execution_count": 19,
   "metadata": {},
   "outputs": [
    {
     "data": {
      "text/plain": [
       "4"
      ]
     },
     "execution_count": 19,
     "metadata": {},
     "output_type": "execute_result"
    }
   ],
   "source": [
    "133-129"
   ]
  },
  {
   "cell_type": "code",
   "execution_count": 13,
   "metadata": {},
   "outputs": [
    {
     "data": {
      "text/plain": [
       "0         NaN\n",
       "1         NaN\n",
       "2          19\n",
       "3          15\n",
       "4         NaN\n",
       "         ... \n",
       "108369    NaN\n",
       "108370     17\n",
       "108371     16\n",
       "108372    NaN\n",
       "108373    NaN\n",
       "Name: VA_Left_Pressure, Length: 108374, dtype: object"
      ]
     },
     "execution_count": 13,
     "metadata": {},
     "output_type": "execute_result"
    }
   ],
   "source": [
    "orig"
   ]
  },
  {
   "cell_type": "code",
   "execution_count": 14,
   "metadata": {},
   "outputs": [
    {
     "data": {
      "text/plain": [
       "[0         NaN\n",
       " 1         NaN\n",
       " 2          19\n",
       " 3          15\n",
       " 4         NaN\n",
       "          ... \n",
       " 108369    NaN\n",
       " 108370     17\n",
       " 108371     16\n",
       " 108372    NaN\n",
       " 108373    NaN\n",
       " Name: VA_Left_Pressure, Length: 108374, dtype: object]"
      ]
     },
     "execution_count": 14,
     "metadata": {},
     "output_type": "execute_result"
    }
   ],
   "source": [
    "ammend"
   ]
  },
  {
   "cell_type": "code",
   "execution_count": null,
   "metadata": {},
   "outputs": [],
   "source": []
  }
 ],
 "metadata": {
  "kernelspec": {
   "display_name": ".venv",
   "language": "python",
   "name": "python3"
  },
  "language_info": {
   "codemirror_mode": {
    "name": "ipython",
    "version": 3
   },
   "file_extension": ".py",
   "mimetype": "text/x-python",
   "name": "python",
   "nbconvert_exporter": "python",
   "pygments_lexer": "ipython3",
   "version": "3.11.6"
  }
 },
 "nbformat": 4,
 "nbformat_minor": 2
}
