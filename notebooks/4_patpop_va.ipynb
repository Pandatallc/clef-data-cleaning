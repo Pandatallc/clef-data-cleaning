{
 "cells": [
  {
   "cell_type": "code",
   "execution_count": 1,
   "metadata": {},
   "outputs": [],
   "source": [
    "# environment\n",
    "import os\n",
    "import sys\n",
    "root_path = os.path.abspath(\"../\")\n",
    "sys.path.append(root_path)"
   ]
  },
  {
   "cell_type": "code",
   "execution_count": 2,
   "metadata": {},
   "outputs": [],
   "source": [
    "from pathlib import Path\n",
    "import pandas as pd\n",
    "import numpy as np\n",
    "from datetime import datetime\n",
    "from xlwt.Workbook import *\n",
    "from pandas import ExcelWriter"
   ]
  },
  {
   "cell_type": "code",
   "execution_count": 3,
   "metadata": {},
   "outputs": [],
   "source": [
    "# pull in only relevant data for development.\n",
    "raw = pd.read_excel(\"../data/raw/MASTER FILE.xlsx\", \n",
    "sheet_name=\"PAT_POP\", \n",
    "index_col=0,\n",
    "header=0)\n",
    "raw.dropna(how=\"all\", axis=1, inplace=True)"
   ]
  },
  {
   "cell_type": "code",
   "execution_count": 4,
   "metadata": {},
   "outputs": [],
   "source": [
    "raw.dropna(how=\"all\", axis=1, inplace=True)"
   ]
  },
  {
   "cell_type": "code",
   "execution_count": 5,
   "metadata": {},
   "outputs": [
    {
     "data": {
      "text/plain": [
       "Index(['SexName', 'RaceName', 'EthnicGroupName', 'HispanicOrNot', 'Age',\n",
       "       'FirstDXDate', 'IncludedEye', 'OCT_DATE', 'Sub-RPE 5mm OD',\n",
       "       'dist_fovea_OD', 'cst_OD', 'questionable_OD', 'Sub-RPE 5mm OS',\n",
       "       'dist_fovea_OS', 'cst_OS', 'questionable_OS', 'Age_at_first_DXDate',\n",
       "       'FirstDXName', 'FirstICD9Codes', 'FirstICD10Codes',\n",
       "       'FirstDepartmentName', 'FirstVisitProvider', 'FirstBillingProvider',\n",
       "       '1st FAF Date 2 months before or 2 months after FirstDXDate',\n",
       "       '1st FAF CPTCode 2 months before or 2 months after FirstDXDate',\n",
       "       '1st FAF ProcName 2 months before or 2 months after FirstDXDate',\n",
       "       'Last FAF Date 2 months before or 2 months after FirstDXDate',\n",
       "       'Last FAF CPTCode 2 months before or 2 months after FirstDXDate',\n",
       "       'Last FAF ProcName 2 months before or 2 months after FirstDXDate',\n",
       "       '1st OCT Date 2 months before or 2 months after FirstDXDate',\n",
       "       '1st OCT CPTCode 2 months before or 2 months after FirstDXDate',\n",
       "       '1st OCT ProcName 2 months before or 2 months after FirstDXDate',\n",
       "       'Last OCT Date 2 months before or 2 months after FirstDXDate',\n",
       "       'Last OCT CPTCode 2 months before or 2 months after FirstDXDate',\n",
       "       'Last OCT ProcName 2 months before or 2 months after FirstDXDate',\n",
       "       'BMI_Date_at_FirstDXDate', 'BMI_Result_at_FirstDXDate',\n",
       "       'ALCOHOL_OZ_PER_WK', 'ALCOHOL_COMMENT',\n",
       "       'Smoking_status_last_on_or_at_FirstDXDate',\n",
       "       'Chronic kidney disease DXDate before FirstDXDate',\n",
       "       'Chronic kidney disease DXName before FirstDXDate',\n",
       "       'Chronic kidney disease ICD9Code before FirstDXDate',\n",
       "       'Chronic kidney disease ICD10Code before FirstDXDate',\n",
       "       'Coronary artery disease DXDate before FirstDXDate',\n",
       "       'Coronary artery disease DXName before FirstDXDate',\n",
       "       'Coronary artery disease ICD9Code before FirstDXDate',\n",
       "       'Coronary artery disease ICD10Code before FirstDXDate',\n",
       "       'Diabetes DXDate before FirstDXDate',\n",
       "       'Diabetes DXName before FirstDXDate',\n",
       "       'Diabetes ICD9Code before FirstDXDate',\n",
       "       'Diabetes ICD10Code before FirstDXDate',\n",
       "       'Hyperlipidemia DXDate before FirstDXDate',\n",
       "       'Hyperlipidemia DXName before FirstDXDate',\n",
       "       'Hyperlipidemia ICD9Code before FirstDXDate',\n",
       "       'Hyperlipidemia ICD10Code before FirstDXDate',\n",
       "       'Hypertension DXDate before FirstDXDate',\n",
       "       'Hypertension DXName before FirstDXDate',\n",
       "       'Hypertension ICD9Code before FirstDXDate',\n",
       "       'Hypertension ICD10Code before FirstDXDate', 'VA_Right_Distance_SC',\n",
       "       'VA_Left_Distance_SC', 'VA_Right_Distance_CC', 'VA_Left_Distance_CC',\n",
       "       'VA_Right_Pressure', 'VA_Left_Pressure', 'VA_Right_LENS',\n",
       "       'VA_Left_LENS', 'BUN date 30 days after FirstDxDate',\n",
       "       'BUN result 30 days after FirstDxDate',\n",
       "       'C-reactive protein date 30 days after FirstDxDate',\n",
       "       'C-reactive protein result 30 days after FirstDxDate',\n",
       "       'Chloride date 30 days after FirstDxDate',\n",
       "       'Chloride result 30 days after FirstDxDate',\n",
       "       'Estimated GFR date 30 days after FirstDxDate',\n",
       "       'Estimated GFR result 30 days after FirstDxDate',\n",
       "       'Glucose date 30 days after FirstDxDate',\n",
       "       'Glucose result 30 days after FirstDxDate',\n",
       "       'HDL date 30 days after FirstDxDate',\n",
       "       'HDL result 30 days after FirstDxDate',\n",
       "       'Hemoglobin a1c date 30 days after FirstDxDate',\n",
       "       'Hemoglobin a1c result 30 days after FirstDxDate',\n",
       "       'LDL date 30 days after FirstDxDate',\n",
       "       'LDL result 30 days after FirstDxDate',\n",
       "       'Potassium date 30 days after FirstDxDate',\n",
       "       'Potassium result 30 days after FirstDxDate',\n",
       "       'Serum Creatinine date 30 days after FirstDxDate',\n",
       "       'Serum Creatinine result 30 days after FirstDxDate',\n",
       "       'Sodium date 30 days after FirstDxDate',\n",
       "       'Sodium result 30 days after FirstDxDate',\n",
       "       'Total cholesterol date 30 days after FirstDxDate',\n",
       "       'Total cholesterol result 30 days after FirstDxDate'],\n",
       "      dtype='object')"
      ]
     },
     "execution_count": 5,
     "metadata": {},
     "output_type": "execute_result"
    }
   ],
   "source": [
    "raw.columns"
   ]
  },
  {
   "cell_type": "code",
   "execution_count": 10,
   "metadata": {},
   "outputs": [],
   "source": [
    "with ExcelWriter(Path(\"..\", \"data\", \"interim\", \"PAT_POP_val_counts.xlsx\")) as writer:\n",
    "    for col in raw.columns:\n",
    "        s = pd.DataFrame(raw[col].value_counts()).reset_index()\n",
    "        s.columns = [\"values\", \"counts\"]\n",
    "        sheet_name=f\"PAT_POP_{col}\"\n",
    "        s.to_excel(writer, sheet_name=sheet_name[:31], index=False)"
   ]
  },
  {
   "cell_type": "code",
   "execution_count": 16,
   "metadata": {},
   "outputs": [
    {
     "data": {
      "text/plain": [
       "array([nan, '20/50', '20/40', '20/300', '20/25', '20/150', '20/60',\n",
       "       '20/30', \"CF at 3'\", '20/200', '20/20', 'HM', '20/500', '20/70',\n",
       "       '20/100', '20/400', \"CF at 5'\", '200E @5ft', \"CF at 2'\",\n",
       "       \"CF at 1'\", '20/50-1+2', '20/25-', '20/30+2', 'CF @ 4 FT',\n",
       "       'Cf at face', '20/30 +', '20/80', '20/50-2', '20/250', 'CF @ 4 ft',\n",
       "       \"CF 3'\", '20/125', \"CF at face'\", \"CF at 5''\", '20/CF', '20/1250',\n",
       "       '20/60-', '20/1000', '20/60-1(slow)', \"CF @ 2'\", 'CF @ face ',\n",
       "       \"CF at 6'\", 'CF@3ft', '20/20 push', 'CF', '20/50(eccentric)',\n",
       "       '20/400 eccentric', 'CF @ 12\"', '20/70-2', '20/600', 'NLP',\n",
       "       'Peripheral only', 'defer'], dtype=object)"
      ]
     },
     "execution_count": 16,
     "metadata": {},
     "output_type": "execute_result"
    }
   ],
   "source": [
    "raw[\"VA_Right_Distance_SC\"].unique()"
   ]
  },
  {
   "cell_type": "code",
   "execution_count": 12,
   "metadata": {},
   "outputs": [],
   "source": [
    "pa_va_cols = ['VA_Right_Distance_SC',\n",
    "       'VA_Left_Distance_SC', 'VA_Right_Distance_CC', 'VA_Left_Distance_CC',\n",
    "       'VA_Right_Pressure', 'VA_Left_Pressure', 'VA_Right_LENS',\n",
    "       'VA_Left_LENS']"
   ]
  },
  {
   "cell_type": "code",
   "execution_count": 13,
   "metadata": {},
   "outputs": [],
   "source": [
    "pat_pop_va = raw[pa_va_cols]"
   ]
  },
  {
   "cell_type": "code",
   "execution_count": 19,
   "metadata": {},
   "outputs": [
    {
     "ename": "ValueError",
     "evalue": "operands could not be broadcast together with shapes (53,) (62,) ",
     "output_type": "error",
     "traceback": [
      "\u001b[1;31m---------------------------------------------------------------------------\u001b[0m",
      "\u001b[1;31mValueError\u001b[0m                                Traceback (most recent call last)",
      "Cell \u001b[1;32mIn[19], line 7\u001b[0m\n\u001b[0;32m      5\u001b[0m deduped_pp_vals \u001b[38;5;241m=\u001b[39m []\n\u001b[0;32m      6\u001b[0m \u001b[38;5;28;01mfor\u001b[39;00m val \u001b[38;5;129;01min\u001b[39;00m pp_vals:\n\u001b[1;32m----> 7\u001b[0m     \u001b[38;5;28;01mif\u001b[39;00m \u001b[43mval\u001b[49m\u001b[43m \u001b[49m\u001b[38;5;129;43;01mnot\u001b[39;49;00m\u001b[43m \u001b[49m\u001b[38;5;129;43;01min\u001b[39;49;00m\u001b[43m \u001b[49m\u001b[43mdeduped_pp_vals\u001b[49m:\n\u001b[0;32m      8\u001b[0m         deduped_pp_vals\u001b[38;5;241m.\u001b[39mappend(val)\n",
      "\u001b[1;31mValueError\u001b[0m: operands could not be broadcast together with shapes (53,) (62,) "
     ]
    }
   ],
   "source": [
    "pp_vals = []\n",
    "for col in pa_va_cols:\n",
    "    pp_vals.append(raw[col].unique())\n",
    "\n",
    "deduped_pp_vals = []\n",
    "for val in pp_vals:\n",
    "    if val not in deduped_pp_vals:\n",
    "        deduped_pp_vals.append(val)"
   ]
  },
  {
   "cell_type": "code",
   "execution_count": 18,
   "metadata": {},
   "outputs": [
    {
     "data": {
      "text/plain": [
       "[]"
      ]
     },
     "execution_count": 18,
     "metadata": {},
     "output_type": "execute_result"
    }
   ],
   "source": [
    "deduped_pp_vals"
   ]
  },
  {
   "cell_type": "markdown",
   "metadata": {},
   "source": [
    "### Are there any values in PatPop VA fields that don't have a mapping?"
   ]
  },
  {
   "cell_type": "code",
   "execution_count": null,
   "metadata": {},
   "outputs": [],
   "source": [
    "for col in "
   ]
  },
  {
   "cell_type": "code",
   "execution_count": 9,
   "metadata": {},
   "outputs": [
    {
     "data": {
      "text/plain": [
       "array([nan, '20/50', '20/40', '20/300', '20/25', '20/150', '20/60',\n",
       "       '20/30', \"CF at 3'\", '20/200', '20/20', 'HM', '20/500', '20/70',\n",
       "       '20/100', '20/400', \"CF at 5'\", '200E @5ft', \"CF at 2'\",\n",
       "       \"CF at 1'\", '20/50-1+2', '20/25-', '20/30+2', 'CF @ 4 FT',\n",
       "       'Cf at face', '20/30 +', '20/80', '20/50-2', '20/250', 'CF @ 4 ft',\n",
       "       \"CF 3'\", '20/125', \"CF at face'\", \"CF at 5''\", '20/CF', '20/1250',\n",
       "       '20/60-', '20/1000', '20/60-1(slow)', \"CF @ 2'\", 'CF @ face ',\n",
       "       \"CF at 6'\", 'CF@3ft', '20/20 push', 'CF', '20/50(eccentric)',\n",
       "       '20/400 eccentric', 'CF @ 12\"', '20/70-2', '20/600', 'NLP',\n",
       "       'Peripheral only', 'defer'], dtype=object)"
      ]
     },
     "execution_count": 9,
     "metadata": {},
     "output_type": "execute_result"
    }
   ],
   "source": [
    "pat_pop_va[\"VA_Right_Distance_SC\"].unique()"
   ]
  },
  {
   "cell_type": "code",
   "execution_count": null,
   "metadata": {},
   "outputs": [],
   "source": [
    "pat_pop_va"
   ]
  },
  {
   "cell_type": "code",
   "execution_count": 7,
   "metadata": {},
   "outputs": [
    {
     "data": {
      "text/html": [
       "<div>\n",
       "<style scoped>\n",
       "    .dataframe tbody tr th:only-of-type {\n",
       "        vertical-align: middle;\n",
       "    }\n",
       "\n",
       "    .dataframe tbody tr th {\n",
       "        vertical-align: top;\n",
       "    }\n",
       "\n",
       "    .dataframe thead th {\n",
       "        text-align: right;\n",
       "    }\n",
       "</style>\n",
       "<table border=\"1\" class=\"dataframe\">\n",
       "  <thead>\n",
       "    <tr style=\"text-align: right;\">\n",
       "      <th></th>\n",
       "      <th>VA_Right_Distance_SC</th>\n",
       "      <th>VA_Left_Distance_SC</th>\n",
       "      <th>VA_Right_Distance_CC</th>\n",
       "      <th>VA_Left_Distance_CC</th>\n",
       "      <th>VA_Right_Pressure</th>\n",
       "      <th>VA_Left_Pressure</th>\n",
       "      <th>VA_Right_LENS</th>\n",
       "      <th>VA_Left_LENS</th>\n",
       "    </tr>\n",
       "    <tr>\n",
       "      <th>MRN</th>\n",
       "      <th></th>\n",
       "      <th></th>\n",
       "      <th></th>\n",
       "      <th></th>\n",
       "      <th></th>\n",
       "      <th></th>\n",
       "      <th></th>\n",
       "      <th></th>\n",
       "    </tr>\n",
       "  </thead>\n",
       "  <tbody>\n",
       "    <tr>\n",
       "      <th>7402708</th>\n",
       "      <td>20/50</td>\n",
       "      <td>20/60</td>\n",
       "      <td>NaN</td>\n",
       "      <td>NaN</td>\n",
       "      <td>15</td>\n",
       "      <td>13</td>\n",
       "      <td>Posterior chamber intraocular lens</td>\n",
       "      <td>Posterior chamber intraocular lens</td>\n",
       "    </tr>\n",
       "    <tr>\n",
       "      <th>7530609</th>\n",
       "      <td>20/50</td>\n",
       "      <td>CF at 3'</td>\n",
       "      <td>NaN</td>\n",
       "      <td>NaN</td>\n",
       "      <td>10</td>\n",
       "      <td>10</td>\n",
       "      <td>Posterior chamber intraocular lens, trace Post...</td>\n",
       "      <td>Posterior chamber intraocular lens, trace Post...</td>\n",
       "    </tr>\n",
       "    <tr>\n",
       "      <th>8016615</th>\n",
       "      <td>20/40</td>\n",
       "      <td>prothesisi</td>\n",
       "      <td>NaN</td>\n",
       "      <td>NaN</td>\n",
       "      <td>17</td>\n",
       "      <td>NaN</td>\n",
       "      <td>Posterior chamber intraocular lens. Significan...</td>\n",
       "      <td>NaN</td>\n",
       "    </tr>\n",
       "    <tr>\n",
       "      <th>8301514</th>\n",
       "      <td>20/300</td>\n",
       "      <td>20/400</td>\n",
       "      <td>NaN</td>\n",
       "      <td>NaN</td>\n",
       "      <td>12</td>\n",
       "      <td>10</td>\n",
       "      <td>PCIOL, s/p YAG</td>\n",
       "      <td>PCIOL</td>\n",
       "    </tr>\n",
       "    <tr>\n",
       "      <th>8375453</th>\n",
       "      <td>20/25</td>\n",
       "      <td>20/20</td>\n",
       "      <td>NaN</td>\n",
       "      <td>NaN</td>\n",
       "      <td>21</td>\n",
       "      <td>21</td>\n",
       "      <td>Centered posterior chamber intraocular lens</td>\n",
       "      <td>Centered posterior chamber intraocular lens</td>\n",
       "    </tr>\n",
       "    <tr>\n",
       "      <th>...</th>\n",
       "      <td>...</td>\n",
       "      <td>...</td>\n",
       "      <td>...</td>\n",
       "      <td>...</td>\n",
       "      <td>...</td>\n",
       "      <td>...</td>\n",
       "      <td>...</td>\n",
       "      <td>...</td>\n",
       "    </tr>\n",
       "    <tr>\n",
       "      <th>87757266</th>\n",
       "      <td>20/150</td>\n",
       "      <td>20/40</td>\n",
       "      <td>NaN</td>\n",
       "      <td>NaN</td>\n",
       "      <td>12</td>\n",
       "      <td>12</td>\n",
       "      <td>Posterior chamber intraocular lens</td>\n",
       "      <td>Posterior chamber intraocular lens</td>\n",
       "    </tr>\n",
       "    <tr>\n",
       "      <th>88222816</th>\n",
       "      <td>CF at 3'</td>\n",
       "      <td>CF at 3'</td>\n",
       "      <td>NaN</td>\n",
       "      <td>NaN</td>\n",
       "      <td>17</td>\n",
       "      <td>17</td>\n",
       "      <td>Posterior chamber intraocular lens</td>\n",
       "      <td>Posterior chamber intraocular lens, 1+ Posteri...</td>\n",
       "    </tr>\n",
       "    <tr>\n",
       "      <th>88360666</th>\n",
       "      <td>CF at 3'</td>\n",
       "      <td>20/40</td>\n",
       "      <td>NaN</td>\n",
       "      <td>NaN</td>\n",
       "      <td>16</td>\n",
       "      <td>13</td>\n",
       "      <td>1+ NS, trace CC</td>\n",
       "      <td>1+ NS, trace CC</td>\n",
       "    </tr>\n",
       "    <tr>\n",
       "      <th>88376392</th>\n",
       "      <td>20/125</td>\n",
       "      <td>CF at 2'</td>\n",
       "      <td>NaN</td>\n",
       "      <td>NaN</td>\n",
       "      <td>11</td>\n",
       "      <td>11</td>\n",
       "      <td>3+ Nuclear sclerotic cataract, 1+ Cortical cat...</td>\n",
       "      <td>3+ Nuclear sclerotic cataract, 1+ Cortical cat...</td>\n",
       "    </tr>\n",
       "    <tr>\n",
       "      <th>88388885</th>\n",
       "      <td>20/40</td>\n",
       "      <td>CF at 6'</td>\n",
       "      <td>NaN</td>\n",
       "      <td>NaN</td>\n",
       "      <td>14</td>\n",
       "      <td>9</td>\n",
       "      <td>Posterior chamber intraocular lens</td>\n",
       "      <td>Posterior chamber intraocular lens, 1+ Posteri...</td>\n",
       "    </tr>\n",
       "  </tbody>\n",
       "</table>\n",
       "<p>367 rows × 8 columns</p>\n",
       "</div>"
      ],
      "text/plain": [
       "         VA_Right_Distance_SC VA_Left_Distance_SC VA_Right_Distance_CC  \\\n",
       "MRN                                                                      \n",
       "7402708                 20/50               20/60                  NaN   \n",
       "7530609                 20/50            CF at 3'                  NaN   \n",
       "8016615                 20/40          prothesisi                  NaN   \n",
       "8301514                20/300              20/400                  NaN   \n",
       "8375453                 20/25               20/20                  NaN   \n",
       "...                       ...                 ...                  ...   \n",
       "87757266               20/150               20/40                  NaN   \n",
       "88222816             CF at 3'            CF at 3'                  NaN   \n",
       "88360666             CF at 3'               20/40                  NaN   \n",
       "88376392               20/125            CF at 2'                  NaN   \n",
       "88388885                20/40            CF at 6'                  NaN   \n",
       "\n",
       "         VA_Left_Distance_CC VA_Right_Pressure VA_Left_Pressure  \\\n",
       "MRN                                                               \n",
       "7402708                  NaN                15               13   \n",
       "7530609                  NaN                10               10   \n",
       "8016615                  NaN                17              NaN   \n",
       "8301514                  NaN                12               10   \n",
       "8375453                  NaN                21               21   \n",
       "...                      ...               ...              ...   \n",
       "87757266                 NaN                12               12   \n",
       "88222816                 NaN                17               17   \n",
       "88360666                 NaN                16               13   \n",
       "88376392                 NaN                11               11   \n",
       "88388885                 NaN                14                9   \n",
       "\n",
       "                                              VA_Right_LENS  \\\n",
       "MRN                                                           \n",
       "7402708                  Posterior chamber intraocular lens   \n",
       "7530609   Posterior chamber intraocular lens, trace Post...   \n",
       "8016615   Posterior chamber intraocular lens. Significan...   \n",
       "8301514                                      PCIOL, s/p YAG   \n",
       "8375453         Centered posterior chamber intraocular lens   \n",
       "...                                                     ...   \n",
       "87757266                 Posterior chamber intraocular lens   \n",
       "88222816                 Posterior chamber intraocular lens   \n",
       "88360666                                   1+ NS, trace CC    \n",
       "88376392  3+ Nuclear sclerotic cataract, 1+ Cortical cat...   \n",
       "88388885                 Posterior chamber intraocular lens   \n",
       "\n",
       "                                               VA_Left_LENS  \n",
       "MRN                                                          \n",
       "7402708                  Posterior chamber intraocular lens  \n",
       "7530609   Posterior chamber intraocular lens, trace Post...  \n",
       "8016615                                                 NaN  \n",
       "8301514                                               PCIOL  \n",
       "8375453         Centered posterior chamber intraocular lens  \n",
       "...                                                     ...  \n",
       "87757266                 Posterior chamber intraocular lens  \n",
       "88222816  Posterior chamber intraocular lens, 1+ Posteri...  \n",
       "88360666                                   1+ NS, trace CC   \n",
       "88376392  3+ Nuclear sclerotic cataract, 1+ Cortical cat...  \n",
       "88388885  Posterior chamber intraocular lens, 1+ Posteri...  \n",
       "\n",
       "[367 rows x 8 columns]"
      ]
     },
     "execution_count": 7,
     "metadata": {},
     "output_type": "execute_result"
    }
   ],
   "source": [
    "raw[['VA_Right_Distance_SC',\n",
    "       'VA_Left_Distance_SC', 'VA_Right_Distance_CC', 'VA_Left_Distance_CC',\n",
    "       'VA_Right_Pressure', 'VA_Left_Pressure', 'VA_Right_LENS',\n",
    "       'VA_Left_LENS']][~raw[\"VA_Right_Distance_SC\"].isna()]"
   ]
  },
  {
   "cell_type": "code",
   "execution_count": null,
   "metadata": {},
   "outputs": [],
   "source": []
  }
 ],
 "metadata": {
  "kernelspec": {
   "display_name": ".venv",
   "language": "python",
   "name": "python3"
  },
  "language_info": {
   "codemirror_mode": {
    "name": "ipython",
    "version": 3
   },
   "file_extension": ".py",
   "mimetype": "text/x-python",
   "name": "python",
   "nbconvert_exporter": "python",
   "pygments_lexer": "ipython3",
   "version": "3.11.6"
  }
 },
 "nbformat": 4,
 "nbformat_minor": 2
}
