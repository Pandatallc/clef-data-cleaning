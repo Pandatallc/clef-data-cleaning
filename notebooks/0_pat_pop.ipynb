{
 "cells": [
  {
   "cell_type": "code",
   "execution_count": 1,
   "metadata": {},
   "outputs": [],
   "source": [
    "import pandas as pd\n",
    "import numpy as np\n",
    "from datetime import datetime\n",
    "from typing import Sequence, List, Tuple"
   ]
  },
  {
   "cell_type": "code",
   "execution_count": 2,
   "metadata": {},
   "outputs": [],
   "source": [
    "# pull in only relevant data for development.\n",
    "raw = pd.read_excel(\"../data/raw/MASTER FILE.xlsx\", \n",
    "sheet_name=\"PAT_POP\", \n",
    "index_col=0,\n",
    "usecols=[0]+ [x for x in range(2,95)], # will ammend later\n",
    "header=0)"
   ]
  },
  {
   "cell_type": "code",
   "execution_count": 3,
   "metadata": {},
   "outputs": [],
   "source": [
    "raw.reset_index().to_csv(\"../data/interim/pat_pop.csv\", index=False)"
   ]
  },
  {
   "cell_type": "code",
   "execution_count": 9,
   "metadata": {},
   "outputs": [],
   "source": [
    "df = pd.read_csv(\"../data/interim/pat_pop.csv\", index_col =0)"
   ]
  },
  {
   "cell_type": "code",
   "execution_count": 10,
   "metadata": {},
   "outputs": [],
   "source": [
    "df.reset_index(inplace=True)"
   ]
  },
  {
   "cell_type": "code",
   "execution_count": 16,
   "metadata": {},
   "outputs": [
    {
     "data": {
      "text/plain": [
       "nan"
      ]
     },
     "execution_count": 16,
     "metadata": {},
     "output_type": "execute_result"
    }
   ],
   "source": [
    "df[\"OCT_DATE\"][0]"
   ]
  },
  {
   "cell_type": "code",
   "execution_count": 13,
   "metadata": {},
   "outputs": [
    {
     "data": {
      "text/html": [
       "<div>\n",
       "<style scoped>\n",
       "    .dataframe tbody tr th:only-of-type {\n",
       "        vertical-align: middle;\n",
       "    }\n",
       "\n",
       "    .dataframe tbody tr th {\n",
       "        vertical-align: top;\n",
       "    }\n",
       "\n",
       "    .dataframe thead th {\n",
       "        text-align: right;\n",
       "    }\n",
       "</style>\n",
       "<table border=\"1\" class=\"dataframe\">\n",
       "  <thead>\n",
       "    <tr style=\"text-align: right;\">\n",
       "      <th></th>\n",
       "      <th>MRN</th>\n",
       "      <th>RaceName</th>\n",
       "      <th>EthnicGroupName</th>\n",
       "      <th>HispanicOrNot</th>\n",
       "      <th>Age</th>\n",
       "      <th>FirstDXDate</th>\n",
       "      <th>IncludedEye</th>\n",
       "      <th>OCT_DATE</th>\n",
       "      <th>Sub-RPE 5mm OD</th>\n",
       "      <th>dist_fovea_OD</th>\n",
       "      <th>...</th>\n",
       "      <th>LDL date 30 days after FirstDxDate</th>\n",
       "      <th>LDL result 30 days after FirstDxDate</th>\n",
       "      <th>Potassium date 30 days after FirstDxDate</th>\n",
       "      <th>Potassium result 30 days after FirstDxDate</th>\n",
       "      <th>Serum Creatinine date 30 days after FirstDxDate</th>\n",
       "      <th>Serum Creatinine result 30 days after FirstDxDate</th>\n",
       "      <th>Sodium date 30 days after FirstDxDate</th>\n",
       "      <th>Sodium result 30 days after FirstDxDate</th>\n",
       "      <th>Total cholesterol date 30 days after FirstDxDate</th>\n",
       "      <th>Total cholesterol result 30 days after FirstDxDate</th>\n",
       "    </tr>\n",
       "  </thead>\n",
       "  <tbody>\n",
       "    <tr>\n",
       "      <th>11</th>\n",
       "      <td>6616941</td>\n",
       "      <td>White</td>\n",
       "      <td>Caucasian</td>\n",
       "      <td>Not Hispanic</td>\n",
       "      <td>99.233401</td>\n",
       "      <td>2019-09-16</td>\n",
       "      <td>OU</td>\n",
       "      <td>2019-08-28 00:00:00</td>\n",
       "      <td>11.7</td>\n",
       "      <td>0</td>\n",
       "      <td>...</td>\n",
       "      <td>NaN</td>\n",
       "      <td>NaN</td>\n",
       "      <td>NaN</td>\n",
       "      <td>NaN</td>\n",
       "      <td>NaN</td>\n",
       "      <td>NaN</td>\n",
       "      <td>NaN</td>\n",
       "      <td>NaN</td>\n",
       "      <td>NaN</td>\n",
       "      <td>NaN</td>\n",
       "    </tr>\n",
       "    <tr>\n",
       "      <th>44</th>\n",
       "      <td>9560483</td>\n",
       "      <td>White</td>\n",
       "      <td>Caucasian</td>\n",
       "      <td>Not Hispanic</td>\n",
       "      <td>86.721423</td>\n",
       "      <td>2020-09-09</td>\n",
       "      <td>OU</td>\n",
       "      <td>2020-08-13 00:00:00</td>\n",
       "      <td>1.1</td>\n",
       "      <td>0.2</td>\n",
       "      <td>...</td>\n",
       "      <td>NaN</td>\n",
       "      <td>NaN</td>\n",
       "      <td>NaN</td>\n",
       "      <td>NaN</td>\n",
       "      <td>NaN</td>\n",
       "      <td>NaN</td>\n",
       "      <td>NaN</td>\n",
       "      <td>NaN</td>\n",
       "      <td>NaN</td>\n",
       "      <td>NaN</td>\n",
       "    </tr>\n",
       "    <tr>\n",
       "      <th>46</th>\n",
       "      <td>9644075</td>\n",
       "      <td>White</td>\n",
       "      <td>Caucasian</td>\n",
       "      <td>Not Hispanic</td>\n",
       "      <td>98.546201</td>\n",
       "      <td>2018-03-20</td>\n",
       "      <td>OU</td>\n",
       "      <td>2018-04-05 00:00:00</td>\n",
       "      <td>1.9</td>\n",
       "      <td>0</td>\n",
       "      <td>...</td>\n",
       "      <td>NaN</td>\n",
       "      <td>NaN</td>\n",
       "      <td>2018-04-11 11:46:00</td>\n",
       "      <td>3.8</td>\n",
       "      <td>2018-04-11 11:46:00</td>\n",
       "      <td>1.3</td>\n",
       "      <td>2018-04-11 11:46:00</td>\n",
       "      <td>134.0</td>\n",
       "      <td>NaN</td>\n",
       "      <td>NaN</td>\n",
       "    </tr>\n",
       "    <tr>\n",
       "      <th>49</th>\n",
       "      <td>9826424</td>\n",
       "      <td>White</td>\n",
       "      <td>Caucasian</td>\n",
       "      <td>Not Hispanic</td>\n",
       "      <td>90.234086</td>\n",
       "      <td>2018-08-06</td>\n",
       "      <td>OU</td>\n",
       "      <td>2018-08-07 00:00:00</td>\n",
       "      <td>0</td>\n",
       "      <td>NaN</td>\n",
       "      <td>...</td>\n",
       "      <td>NaN</td>\n",
       "      <td>NaN</td>\n",
       "      <td>NaN</td>\n",
       "      <td>NaN</td>\n",
       "      <td>NaN</td>\n",
       "      <td>NaN</td>\n",
       "      <td>NaN</td>\n",
       "      <td>NaN</td>\n",
       "      <td>NaN</td>\n",
       "      <td>NaN</td>\n",
       "    </tr>\n",
       "    <tr>\n",
       "      <th>54</th>\n",
       "      <td>9976515</td>\n",
       "      <td>White</td>\n",
       "      <td>Caucasian</td>\n",
       "      <td>Not Hispanic</td>\n",
       "      <td>95.501711</td>\n",
       "      <td>2017-05-16</td>\n",
       "      <td>OU</td>\n",
       "      <td>2017-05-11 00:00:00</td>\n",
       "      <td>1.3</td>\n",
       "      <td>0.4</td>\n",
       "      <td>...</td>\n",
       "      <td>NaN</td>\n",
       "      <td>NaN</td>\n",
       "      <td>NaN</td>\n",
       "      <td>NaN</td>\n",
       "      <td>NaN</td>\n",
       "      <td>NaN</td>\n",
       "      <td>NaN</td>\n",
       "      <td>NaN</td>\n",
       "      <td>NaN</td>\n",
       "      <td>NaN</td>\n",
       "    </tr>\n",
       "    <tr>\n",
       "      <th>...</th>\n",
       "      <td>...</td>\n",
       "      <td>...</td>\n",
       "      <td>...</td>\n",
       "      <td>...</td>\n",
       "      <td>...</td>\n",
       "      <td>...</td>\n",
       "      <td>...</td>\n",
       "      <td>...</td>\n",
       "      <td>...</td>\n",
       "      <td>...</td>\n",
       "      <td>...</td>\n",
       "      <td>...</td>\n",
       "      <td>...</td>\n",
       "      <td>...</td>\n",
       "      <td>...</td>\n",
       "      <td>...</td>\n",
       "      <td>...</td>\n",
       "      <td>...</td>\n",
       "      <td>...</td>\n",
       "      <td>...</td>\n",
       "      <td>...</td>\n",
       "    </tr>\n",
       "    <tr>\n",
       "      <th>1293</th>\n",
       "      <td>80013353</td>\n",
       "      <td>White</td>\n",
       "      <td>Caucasian</td>\n",
       "      <td>Not Hispanic</td>\n",
       "      <td>93.122518</td>\n",
       "      <td>2017-02-28</td>\n",
       "      <td>OU</td>\n",
       "      <td>2017-02-08 00:00:00</td>\n",
       "      <td>0.8</td>\n",
       "      <td>0.3</td>\n",
       "      <td>...</td>\n",
       "      <td>NaN</td>\n",
       "      <td>NaN</td>\n",
       "      <td>NaN</td>\n",
       "      <td>NaN</td>\n",
       "      <td>NaN</td>\n",
       "      <td>NaN</td>\n",
       "      <td>NaN</td>\n",
       "      <td>NaN</td>\n",
       "      <td>NaN</td>\n",
       "      <td>NaN</td>\n",
       "    </tr>\n",
       "    <tr>\n",
       "      <th>1370</th>\n",
       "      <td>84127618</td>\n",
       "      <td>White</td>\n",
       "      <td>Caucasian</td>\n",
       "      <td>Not Hispanic</td>\n",
       "      <td>84.257357</td>\n",
       "      <td>2017-07-24</td>\n",
       "      <td>OD</td>\n",
       "      <td>OD CONVERTS TO WET</td>\n",
       "      <td>0.9</td>\n",
       "      <td>0</td>\n",
       "      <td>...</td>\n",
       "      <td>NaN</td>\n",
       "      <td>NaN</td>\n",
       "      <td>NaN</td>\n",
       "      <td>NaN</td>\n",
       "      <td>NaN</td>\n",
       "      <td>NaN</td>\n",
       "      <td>NaN</td>\n",
       "      <td>NaN</td>\n",
       "      <td>NaN</td>\n",
       "      <td>NaN</td>\n",
       "    </tr>\n",
       "    <tr>\n",
       "      <th>1379</th>\n",
       "      <td>84772339</td>\n",
       "      <td>White</td>\n",
       "      <td>Caucasian</td>\n",
       "      <td>Not Hispanic</td>\n",
       "      <td>99.419575</td>\n",
       "      <td>2021-07-06</td>\n",
       "      <td>OS</td>\n",
       "      <td>2021-08-05 00:00:00</td>\n",
       "      <td>WET AMD</td>\n",
       "      <td>NaN</td>\n",
       "      <td>...</td>\n",
       "      <td>NaN</td>\n",
       "      <td>NaN</td>\n",
       "      <td>NaN</td>\n",
       "      <td>NaN</td>\n",
       "      <td>NaN</td>\n",
       "      <td>NaN</td>\n",
       "      <td>NaN</td>\n",
       "      <td>NaN</td>\n",
       "      <td>NaN</td>\n",
       "      <td>NaN</td>\n",
       "    </tr>\n",
       "    <tr>\n",
       "      <th>1402</th>\n",
       "      <td>86024396</td>\n",
       "      <td>White</td>\n",
       "      <td>Caucasian</td>\n",
       "      <td>Not Hispanic</td>\n",
       "      <td>79.753593</td>\n",
       "      <td>2020-02-03</td>\n",
       "      <td>NaN</td>\n",
       "      <td>2020-04-30 00:00:00</td>\n",
       "      <td>WET AMD</td>\n",
       "      <td>NaN</td>\n",
       "      <td>...</td>\n",
       "      <td>NaN</td>\n",
       "      <td>NaN</td>\n",
       "      <td>NaN</td>\n",
       "      <td>NaN</td>\n",
       "      <td>NaN</td>\n",
       "      <td>NaN</td>\n",
       "      <td>NaN</td>\n",
       "      <td>NaN</td>\n",
       "      <td>NaN</td>\n",
       "      <td>NaN</td>\n",
       "    </tr>\n",
       "    <tr>\n",
       "      <th>1451</th>\n",
       "      <td>87546083</td>\n",
       "      <td>White</td>\n",
       "      <td>Caucasian</td>\n",
       "      <td>Not Hispanic</td>\n",
       "      <td>89.864476</td>\n",
       "      <td>2020-03-02</td>\n",
       "      <td>OS</td>\n",
       "      <td>2020-02-05 00:00:00</td>\n",
       "      <td>WET AMD</td>\n",
       "      <td>NaN</td>\n",
       "      <td>...</td>\n",
       "      <td>NaN</td>\n",
       "      <td>NaN</td>\n",
       "      <td>NaN</td>\n",
       "      <td>NaN</td>\n",
       "      <td>NaN</td>\n",
       "      <td>NaN</td>\n",
       "      <td>NaN</td>\n",
       "      <td>NaN</td>\n",
       "      <td>NaN</td>\n",
       "      <td>NaN</td>\n",
       "    </tr>\n",
       "  </tbody>\n",
       "</table>\n",
       "<p>71 rows × 93 columns</p>\n",
       "</div>"
      ],
      "text/plain": [
       "           MRN RaceName EthnicGroupName HispanicOrNot        Age FirstDXDate  \\\n",
       "11     6616941    White       Caucasian  Not Hispanic  99.233401  2019-09-16   \n",
       "44     9560483    White       Caucasian  Not Hispanic  86.721423  2020-09-09   \n",
       "46     9644075    White       Caucasian  Not Hispanic  98.546201  2018-03-20   \n",
       "49     9826424    White       Caucasian  Not Hispanic  90.234086  2018-08-06   \n",
       "54     9976515    White       Caucasian  Not Hispanic  95.501711  2017-05-16   \n",
       "...        ...      ...             ...           ...        ...         ...   \n",
       "1293  80013353    White       Caucasian  Not Hispanic  93.122518  2017-02-28   \n",
       "1370  84127618    White       Caucasian  Not Hispanic  84.257357  2017-07-24   \n",
       "1379  84772339    White       Caucasian  Not Hispanic  99.419575  2021-07-06   \n",
       "1402  86024396    White       Caucasian  Not Hispanic  79.753593  2020-02-03   \n",
       "1451  87546083    White       Caucasian  Not Hispanic  89.864476  2020-03-02   \n",
       "\n",
       "     IncludedEye             OCT_DATE Sub-RPE 5mm OD dist_fovea_OD  ...  \\\n",
       "11            OU  2019-08-28 00:00:00           11.7             0  ...   \n",
       "44            OU  2020-08-13 00:00:00            1.1           0.2  ...   \n",
       "46            OU  2018-04-05 00:00:00            1.9             0  ...   \n",
       "49            OU  2018-08-07 00:00:00              0           NaN  ...   \n",
       "54            OU  2017-05-11 00:00:00            1.3           0.4  ...   \n",
       "...          ...                  ...            ...           ...  ...   \n",
       "1293          OU  2017-02-08 00:00:00            0.8           0.3  ...   \n",
       "1370          OD   OD CONVERTS TO WET            0.9             0  ...   \n",
       "1379          OS  2021-08-05 00:00:00        WET AMD           NaN  ...   \n",
       "1402         NaN  2020-04-30 00:00:00        WET AMD           NaN  ...   \n",
       "1451          OS  2020-02-05 00:00:00        WET AMD           NaN  ...   \n",
       "\n",
       "     LDL date 30 days after FirstDxDate  LDL result 30 days after FirstDxDate  \\\n",
       "11                                  NaN                                   NaN   \n",
       "44                                  NaN                                   NaN   \n",
       "46                                  NaN                                   NaN   \n",
       "49                                  NaN                                   NaN   \n",
       "54                                  NaN                                   NaN   \n",
       "...                                 ...                                   ...   \n",
       "1293                                NaN                                   NaN   \n",
       "1370                                NaN                                   NaN   \n",
       "1379                                NaN                                   NaN   \n",
       "1402                                NaN                                   NaN   \n",
       "1451                                NaN                                   NaN   \n",
       "\n",
       "     Potassium date 30 days after FirstDxDate  \\\n",
       "11                                        NaN   \n",
       "44                                        NaN   \n",
       "46                        2018-04-11 11:46:00   \n",
       "49                                        NaN   \n",
       "54                                        NaN   \n",
       "...                                       ...   \n",
       "1293                                      NaN   \n",
       "1370                                      NaN   \n",
       "1379                                      NaN   \n",
       "1402                                      NaN   \n",
       "1451                                      NaN   \n",
       "\n",
       "      Potassium result 30 days after FirstDxDate  \\\n",
       "11                                           NaN   \n",
       "44                                           NaN   \n",
       "46                                           3.8   \n",
       "49                                           NaN   \n",
       "54                                           NaN   \n",
       "...                                          ...   \n",
       "1293                                         NaN   \n",
       "1370                                         NaN   \n",
       "1379                                         NaN   \n",
       "1402                                         NaN   \n",
       "1451                                         NaN   \n",
       "\n",
       "      Serum Creatinine date 30 days after FirstDxDate  \\\n",
       "11                                                NaN   \n",
       "44                                                NaN   \n",
       "46                                2018-04-11 11:46:00   \n",
       "49                                                NaN   \n",
       "54                                                NaN   \n",
       "...                                               ...   \n",
       "1293                                              NaN   \n",
       "1370                                              NaN   \n",
       "1379                                              NaN   \n",
       "1402                                              NaN   \n",
       "1451                                              NaN   \n",
       "\n",
       "     Serum Creatinine result 30 days after FirstDxDate  \\\n",
       "11                                                 NaN   \n",
       "44                                                 NaN   \n",
       "46                                                 1.3   \n",
       "49                                                 NaN   \n",
       "54                                                 NaN   \n",
       "...                                                ...   \n",
       "1293                                               NaN   \n",
       "1370                                               NaN   \n",
       "1379                                               NaN   \n",
       "1402                                               NaN   \n",
       "1451                                               NaN   \n",
       "\n",
       "      Sodium date 30 days after FirstDxDate  \\\n",
       "11                                      NaN   \n",
       "44                                      NaN   \n",
       "46                      2018-04-11 11:46:00   \n",
       "49                                      NaN   \n",
       "54                                      NaN   \n",
       "...                                     ...   \n",
       "1293                                    NaN   \n",
       "1370                                    NaN   \n",
       "1379                                    NaN   \n",
       "1402                                    NaN   \n",
       "1451                                    NaN   \n",
       "\n",
       "     Sodium result 30 days after FirstDxDate  \\\n",
       "11                                       NaN   \n",
       "44                                       NaN   \n",
       "46                                     134.0   \n",
       "49                                       NaN   \n",
       "54                                       NaN   \n",
       "...                                      ...   \n",
       "1293                                     NaN   \n",
       "1370                                     NaN   \n",
       "1379                                     NaN   \n",
       "1402                                     NaN   \n",
       "1451                                     NaN   \n",
       "\n",
       "      Total cholesterol date 30 days after FirstDxDate  \\\n",
       "11                                                 NaN   \n",
       "44                                                 NaN   \n",
       "46                                                 NaN   \n",
       "49                                                 NaN   \n",
       "54                                                 NaN   \n",
       "...                                                ...   \n",
       "1293                                               NaN   \n",
       "1370                                               NaN   \n",
       "1379                                               NaN   \n",
       "1402                                               NaN   \n",
       "1451                                               NaN   \n",
       "\n",
       "     Total cholesterol result 30 days after FirstDxDate  \n",
       "11                                                  NaN  \n",
       "44                                                  NaN  \n",
       "46                                                  NaN  \n",
       "49                                                  NaN  \n",
       "54                                                  NaN  \n",
       "...                                                 ...  \n",
       "1293                                                NaN  \n",
       "1370                                                NaN  \n",
       "1379                                                NaN  \n",
       "1402                                                NaN  \n",
       "1451                                                NaN  \n",
       "\n",
       "[71 rows x 93 columns]"
      ]
     },
     "execution_count": 13,
     "metadata": {},
     "output_type": "execute_result"
    }
   ],
   "source": [
    "df[df[\"OCT_DATE\"].notnull()]"
   ]
  },
  {
   "cell_type": "code",
   "execution_count": 1,
   "metadata": {},
   "outputs": [],
   "source": [
    "def try_str_to_date(val):\n",
    "    try:\n",
    "        return datetime.strptime(val, \"%Y-%m-%d %H:%M:%S\").date()\n",
    "    except:\n",
    "        return val"
   ]
  },
  {
   "cell_type": "code",
   "execution_count": 15,
   "metadata": {},
   "outputs": [
    {
     "data": {
      "text/plain": [
       "datetime.date(2019, 8, 28)"
      ]
     },
     "execution_count": 15,
     "metadata": {},
     "output_type": "execute_result"
    }
   ],
   "source": [
    "datetime.strptime(\"2019-08-28 00:00:00\", \"%Y-%m-%d %H:%M:%S\").date()"
   ]
  },
  {
   "cell_type": "code",
   "execution_count": 5,
   "metadata": {},
   "outputs": [
    {
     "data": {
      "text/plain": [
       "'3/18/2021 12:00:00'"
      ]
     },
     "execution_count": 5,
     "metadata": {},
     "output_type": "execute_result"
    }
   ],
   "source": [
    "try_str_to_date(\"3/18/2021 12:00:00\")"
   ]
  },
  {
   "cell_type": "code",
   "execution_count": 18,
   "metadata": {},
   "outputs": [],
   "source": [
    "def try_str_to_float(val):\n",
    "    try:\n",
    "        return float(val)\n",
    "    except:\n",
    "        return val"
   ]
  },
  {
   "cell_type": "code",
   "execution_count": 37,
   "metadata": {},
   "outputs": [
    {
     "data": {
      "text/plain": [
       "float"
      ]
     },
     "execution_count": 37,
     "metadata": {},
     "output_type": "execute_result"
    }
   ],
   "source": [
    "try_str_to_float(NaN)"
   ]
  },
  {
   "cell_type": "code",
   "execution_count": 38,
   "metadata": {},
   "outputs": [
    {
     "data": {
      "text/plain": [
       "0    2019-08-28 00:00:00\n",
       "1                    NaN\n",
       "2                    NaN\n",
       "3                    4.6\n",
       "dtype: object"
      ]
     },
     "execution_count": 38,
     "metadata": {},
     "output_type": "execute_result"
    }
   ],
   "source": [
    "string_to_blank_save_date(pd.Series([\"2019-08-28 00:00:00\", \"\", \"4.6\", 4.6]))"
   ]
  },
  {
   "cell_type": "code",
   "execution_count": 17,
   "metadata": {},
   "outputs": [],
   "source": [
    "def string_to_blank_save_numeric(col: Sequence) -> Sequence:\n",
    "    \"\"\"Converts all values of type str to NaN. Keeps numeric strings.\"\"\"\n",
    "    result = [np.nan if type(try_str_to_float(x)) == str else x for x in col]\n",
    "    return pd.Series(result, name=col.name)\n",
    "\n",
    "def string_to_blank_save_date(col: Sequence) -> Sequence:\n",
    "    \"\"\"Converts all values of type str to NaN. Keeps dates strings.\"\"\"\n",
    "    result = [np.nan if type(try_str_to_date(x)) == str else x for x in col]\n",
    "    return pd.Series(result, name=col.name)\n",
    "\n",
    "# def comma_split(df: pd.DataFrame, col_name: str, col: Sequence) -> pd.DataFrame:\n",
    "#     \"\"\"comma separates values into new columns\"\"\"\n",
    "#     result = pd.DataFrame([x.split(',') for x in df[col_name].tolist()])\n",
    "#     return result\n",
    "\n",
    "# def string_to_flag_col(df, col_name):\n",
    "#     df[f\"col_name_notes\"] = df.apply(lambda x: 1 if type(x[col_name]) == str else np.nan, axis =1)\n",
    "#     second_col = [1 for x in df[col_name] if type(x)==str]\n",
    "#     first_col = string_to_blank(df[\"col_name\"])\n",
    "\n",
    "# def value_to_notes_col(df, col_name: str, vals_to_notes: List):\n",
    "#     new_col_name=f\"{col_name}_notes\"\n",
    "#     notes_col = [x if x in vals_to_notes else x for x in df[col_name]]\n",
    "#     amended_col = string_to_blank(df[col_name])\n",
    "#     return df[col_name], [amended_col, notes_col]\n",
    "\n",
    "    "
   ]
  },
  {
   "cell_type": "code",
   "execution_count": 23,
   "metadata": {},
   "outputs": [],
   "source": [
    "val = pd.Series([\"hi\", \"\", \"4.6\", 4.6])\n",
    "s = string_to_blank_save_numeric(val)"
   ]
  },
  {
   "cell_type": "code",
   "execution_count": 24,
   "metadata": {},
   "outputs": [
    {
     "data": {
      "text/plain": [
       "0    NaN\n",
       "1    NaN\n",
       "2    4.6\n",
       "3    4.6\n",
       "dtype: object"
      ]
     },
     "execution_count": 24,
     "metadata": {},
     "output_type": "execute_result"
    }
   ],
   "source": [
    "s"
   ]
  },
  {
   "cell_type": "code",
   "execution_count": null,
   "metadata": {},
   "outputs": [],
   "source": []
  },
  {
   "cell_type": "code",
   "execution_count": 30,
   "metadata": {},
   "outputs": [
    {
     "data": {
      "text/plain": [
       "0"
      ]
     },
     "execution_count": 30,
     "metadata": {},
     "output_type": "execute_result"
    }
   ],
   "source": [
    "from numpy import NaN\n",
    "len(s.compare(pd.Series([NaN, NaN, \"4.6\", 4.6])))"
   ]
  },
  {
   "cell_type": "code",
   "execution_count": null,
   "metadata": {},
   "outputs": [],
   "source": [
    "{\n",
    "    \"OCT_DATE\": {\"format\": \"date\", \"string_intention\": \"mixed\", \"vals_to_notes\" = [\"NO ATROPHY\", \"OD CONVERTS TO WET\"]},\n",
    "    \"Sub-RPE 5mm OD\": {\"format\": \"numeric\", \"string_intention\": \"notes\"},\n",
    "    \"dist_fovea_OD\": {\"format\": \"numeric\", \"string_intention\": \"blank\"},\n",
    "    \"cst_OD\": {\"format\": \"numeric\", \"string_intention\":\"notes\"},\n",
    "    \"Sub-RPE 5mm OS\": {\"format\": \"numeric\", \"string_intention\": \"notes\"},\n",
    "    \"questionable_OS\": {\"format\": \"numeric\", \"string_intention\": \"blank\"}\n",
    "\n",
    "}"
   ]
  },
  {
   "cell_type": "code",
   "execution_count": 255,
   "metadata": {},
   "outputs": [],
   "source": [
    "def display_check(result):\n",
    "    old_col = result[0]\n",
    "    new_cols = result[1]\n",
    "    diff = old_col.compare(new_cols[0], result_names=(old_col.name, new_cols[0].name))\n",
    "    if len(new_cols)>1:\n",
    "        idx = list(diff.index) \n",
    "        cols = [old_col]+new_cols\n",
    "        return pd.DataFrame(cols).T.loc[idx]\n",
    "    return diff"
   ]
  },
  {
   "cell_type": "code",
   "execution_count": null,
   "metadata": {},
   "outputs": [],
   "source": [
    "class PatpopScrub:\n",
    "    def __init__(col: Sequence, instructions: Mapping):\n",
    "        self.format = instructions[\"format\"]\n",
    "        self.string_intention = instructions[\"string_intention\"]\n",
    "        self.old_col = col.copy()\n",
    "        self.notes_col_name = f\"{col.name}_notes\" if instructions[\"string_intention\"] != \"blank\" else None\n",
    "        self.old_col_name = f\"old_{col.name}\"\n",
    "        self.notes = self._get_notes()\n",
    "\n",
    "    def _get_notes(self):\n",
    "        if self.string_intention == \"mixed\":\n",
    "            if self.format == \"date\"\n",
    "                return pd.Series([x if x in self.instructions[\"vals_to_notes\"] else np.nan for x in old_col], name=self.notes_col_name)\n",
    "            else:\n",
    "                raise(ValueError(f\"Cannot have string_intention 'mixed' with format {self.format}\"))\n",
    "        if self.string_intention == \"notes\":\n",
    "            if self.format == \"numeric\":\n",
    "                return pd.Series([x if type(try_str_to_float(x)) == str else np.nan for x in old_col])\n",
    "            else:\n",
    "                raise(ValueError(f\"Cannot have string_intention 'notes' with format {self.format}\"))\n",
    "        if self.string_intention == \"blank\":\n",
    "            return None\n",
    "\n",
    "    def clean():\n",
    "        if self.format == \"numeric\":\n",
    "            ammended_col = string_to_blank_save_numeric(old_col)\n",
    "        if self.format == \"date\":\n",
    "            ammended_col = string_to_blank_save_date(col)\n",
    "        if self.notes:\n",
    "            return Tuple(self.old_col, [ammended_col, self.notes])\n",
    "        else:\n",
    "            return Tuple(self.old_col, [ammended_col])\n",
    "\n",
    "\n"
   ]
  },
  {
   "cell_type": "code",
   "execution_count": 256,
   "metadata": {},
   "outputs": [],
   "source": [
    "def pat_pop_date_str2mixed(col: Sequence, vals_to_notes: List[str]) -> Tuple[Sequence, List[Sequence]]:\n",
    "    \"\"\"applied to date column, some strings to blank, some to notes column\"\"\"\n",
    "    old_col = col.copy()\n",
    "    new_col_name = f\"{col.name}_notes\"\n",
    "    old_col.name = f\"old_{col.name}\"\n",
    "    notes_col = [x if x in vals_to_notes else np.nan for x in old_col]\n",
    "    amended_col = string_to_blank_save_date(col)\n",
    "    return (old_col, [amended_col, pd.Series(notes_col, name=new_col_name)])\n"
   ]
  },
  {
   "cell_type": "code",
   "execution_count": 277,
   "metadata": {},
   "outputs": [],
   "source": [
    "def pat_pop_numeric_str2notes(col: Sequence) -> Tuple[Sequence, List[Sequence]]:\n",
    "    \"\"\"applied to a numeric column, strings to notes column\n",
    "    Applied to Sub-RPE_5mm_OD, CST_OD, Sub-RPE_5mm_OS\"\"\"\n",
    "    old_col = col.copy()\n",
    "    new_col_name= f\"{col.name}_notes\"\n",
    "    old_col.name=f\"old_{col.name}\"\n",
    "    amended_col = string_to_blank_save_numeric(col)\n",
    "    notes_col = [x if type(try_str_to_float(x)) == str else np.nan for x in old_col]\n",
    "    return (old_col, [pd.Series(amended_col, name=col.name), pd.Series(notes_col, name=new_col_name)])\n",
    "\n"
   ]
  },
  {
   "cell_type": "code",
   "execution_count": 281,
   "metadata": {},
   "outputs": [],
   "source": [
    "def pat_pop_numeric_str2blank(col: Sequence) -> Tuple[Sequence, List[Sequence]]:\n",
    "    \"\"\"applied to numeric column, strings to blank\n",
    "    applied to dist_fovea_OD and questionable_OS\"\"\"\n",
    "    old_col = col.copy()\n",
    "    old_col.name=f\"old_{col.name}\"\n",
    "    new_col = string_to_blank_save_numeric(col)\n",
    "    return (old_col, [pd.Series(new_col, name=col.name)])"
   ]
  },
  {
   "cell_type": "code",
   "execution_count": 283,
   "metadata": {},
   "outputs": [],
   "source": [
    "res = pat_pop_numeric_str2blank(df[\"questionable_OS\"])"
   ]
  },
  {
   "cell_type": "code",
   "execution_count": 237,
   "metadata": {},
   "outputs": [
    {
     "data": {
      "text/plain": [
       "1472"
      ]
     },
     "execution_count": 237,
     "metadata": {},
     "output_type": "execute_result"
    }
   ],
   "source": [
    "len(cols)"
   ]
  },
  {
   "cell_type": "code",
   "execution_count": 233,
   "metadata": {},
   "outputs": [
    {
     "data": {
      "text/plain": [
       "[75, 357, 495, 1144, 1149, 1370]"
      ]
     },
     "execution_count": 233,
     "metadata": {},
     "output_type": "execute_result"
    }
   ],
   "source": [
    "list(res[0].compare(res[1][0], result_names=(res[0].name, res[1][0].name)).index)"
   ]
  },
  {
   "cell_type": "code",
   "execution_count": 204,
   "metadata": {},
   "outputs": [],
   "source": [
    "idx = res[0].compare(res[1][0], result_names=(res[0].name, res[1][0].name)).index"
   ]
  },
  {
   "cell_type": "code",
   "execution_count": 205,
   "metadata": {},
   "outputs": [],
   "source": [
    "ilist = list(idx)"
   ]
  }
 ],
 "metadata": {
  "kernelspec": {
   "display_name": ".venv",
   "language": "python",
   "name": "python3"
  },
  "language_info": {
   "codemirror_mode": {
    "name": "ipython",
    "version": 3
   },
   "file_extension": ".py",
   "mimetype": "text/x-python",
   "name": "python",
   "nbconvert_exporter": "python",
   "pygments_lexer": "ipython3",
   "version": "3.11.6"
  }
 },
 "nbformat": 4,
 "nbformat_minor": 2
}
