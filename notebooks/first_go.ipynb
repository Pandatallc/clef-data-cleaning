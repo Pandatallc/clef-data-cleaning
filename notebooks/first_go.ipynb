{
 "cells": [
  {
   "cell_type": "code",
   "execution_count": 3,
   "metadata": {},
   "outputs": [],
   "source": [
    "import pandas as pd\n",
    "import numpy as np"
   ]
  },
  {
   "cell_type": "code",
   "execution_count": 28,
   "metadata": {},
   "outputs": [],
   "source": [
    "# pull in only relevant data for development.\n",
    "raw = pd.read_excel(\"../data/raw/MASTER FILE.xlsx\", \n",
    "sheet_name=\"PAT_POP\", \n",
    "index_col=0,\n",
    "usecols=[0]+ [x for x in range(3,95)], # will ammend later\n",
    "header=0)"
   ]
  },
  {
   "cell_type": "code",
   "execution_count": 33,
   "metadata": {},
   "outputs": [],
   "source": [
    "raw.reset_index().to_csv(\"../data/interim/pat_pop.csv\", index=False)"
   ]
  },
  {
   "cell_type": "code",
   "execution_count": null,
   "metadata": {},
   "outputs": [],
   "source": [
    "def string_to_blank(col: Series) -> Series:\n",
    "    \"\"\"Converts all values of type str to NaN\"\"\"\n",
    "    result = [np.nan if type(x) == str else x for x in col]\n",
    "    return result\n",
    "\n",
    "def comma_split(df: pd.DataFrame, col_name: str, col: Series) -> pd.DataFrame:\n",
    "    \"\"\"comma separates values into new columns\"\"\"\n",
    "    result = pd.DataFrame([x.split(',') for x in df[col_name].tolist()])\n",
    "    return result\n",
    "\n",
    "def string_to_notes_col(df, col_name):\n",
    "    df[f\"col_name_notes\"] = df.apply(lambda x: 1 if type(x[col_name]) == str else np.nan, axis =1)\n",
    "    second_col = [1 for x in df[col_name] if type(x)==str]\n",
    "    first_col = string_to_blank(df[\"col_name\"])"
   ]
  },
  {
   "cell_type": "code",
   "execution_count": null,
   "metadata": {},
   "outputs": [],
   "source": [
    "\n",
    "\n",
    "{\n",
    "    \"sheet_name_column_name\": [cleaning_fxn1, cleaning_fx2, cleaning_fx3],\n",
    "    \"sheet_name_column_name_2\": [],\n",
    "    \"sheet_name_column_name_3\": []\n",
    "}"
   ]
  },
  {
   "cell_type": "code",
   "execution_count": null,
   "metadata": {},
   "outputs": [],
   "source": []
  }
 ],
 "metadata": {
  "kernelspec": {
   "display_name": ".venv",
   "language": "python",
   "name": "python3"
  },
  "language_info": {
   "codemirror_mode": {
    "name": "ipython",
    "version": 3
   },
   "file_extension": ".py",
   "mimetype": "text/x-python",
   "name": "python",
   "nbconvert_exporter": "python",
   "pygments_lexer": "ipython3",
   "version": "3.11.6"
  }
 },
 "nbformat": 4,
 "nbformat_minor": 2
}
