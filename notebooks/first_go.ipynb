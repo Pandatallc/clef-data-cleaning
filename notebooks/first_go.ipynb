{
 "cells": [
  {
   "cell_type": "code",
   "execution_count": 121,
   "metadata": {},
   "outputs": [],
   "source": [
    "import pandas as pd\n",
    "import numpy as np\n",
    "from typing import Sequence, List, Tuple"
   ]
  },
  {
   "cell_type": "code",
   "execution_count": 28,
   "metadata": {},
   "outputs": [],
   "source": [
    "# pull in only relevant data for development.\n",
    "raw = pd.read_excel(\"../data/raw/MASTER FILE.xlsx\", \n",
    "sheet_name=\"PAT_POP\", \n",
    "index_col=0,\n",
    "usecols=[0]+ [x for x in range(3,95)], # will ammend later\n",
    "header=0)"
   ]
  },
  {
   "cell_type": "code",
   "execution_count": 33,
   "metadata": {},
   "outputs": [],
   "source": [
    "raw.reset_index().to_csv(\"../data/interim/pat_pop.csv\", index=False)"
   ]
  },
  {
   "cell_type": "code",
   "execution_count": 176,
   "metadata": {},
   "outputs": [],
   "source": [
    "df = pd.read_csv(\"../data/interim/pat_pop.csv\", index_col =0)"
   ]
  },
  {
   "cell_type": "code",
   "execution_count": 177,
   "metadata": {},
   "outputs": [],
   "source": [
    "df.reset_index(inplace=True)"
   ]
  },
  {
   "cell_type": "code",
   "execution_count": 252,
   "metadata": {},
   "outputs": [],
   "source": [
    "def try_str_to_date(val):\n",
    "    try:\n",
    "        return datetime.strptime(val, \"%Y-%m-%d %H:%M:%S\").date()\n",
    "    except:\n",
    "        return val"
   ]
  },
  {
   "cell_type": "code",
   "execution_count": 253,
   "metadata": {},
   "outputs": [],
   "source": [
    "def try_str_to_float(val):\n",
    "    try:\n",
    "        return float(val)\n",
    "    except:\n",
    "        return val"
   ]
  },
  {
   "cell_type": "code",
   "execution_count": 254,
   "metadata": {},
   "outputs": [],
   "source": [
    "def string_to_blank_save_numeric(col: Sequence) -> Sequence:\n",
    "    \"\"\"Converts all values of type str to NaN. Keeps numeric strings.\"\"\"\n",
    "    result = [np.nan if type(try_str_to_float(x)) == str else x for x in col]\n",
    "    return pd.Series(result, name=col.name)\n",
    "\n",
    "def string_to_blank_save_date(col: Sequence) -> Sequence:\n",
    "    \"\"\"Converts all values of type str to NaN. Keeps dates strings.\"\"\"\n",
    "    result = [np.nan if type(try_str_to_date(x)) == str else x for x in col]\n",
    "    return pd.Series(result, name=col.name)\n",
    "\n",
    "# def comma_split(df: pd.DataFrame, col_name: str, col: Sequence) -> pd.DataFrame:\n",
    "#     \"\"\"comma separates values into new columns\"\"\"\n",
    "#     result = pd.DataFrame([x.split(',') for x in df[col_name].tolist()])\n",
    "#     return result\n",
    "\n",
    "# def string_to_flag_col(df, col_name):\n",
    "#     df[f\"col_name_notes\"] = df.apply(lambda x: 1 if type(x[col_name]) == str else np.nan, axis =1)\n",
    "#     second_col = [1 for x in df[col_name] if type(x)==str]\n",
    "#     first_col = string_to_blank(df[\"col_name\"])\n",
    "\n",
    "# def value_to_notes_col(df, col_name: str, vals_to_notes: List):\n",
    "#     new_col_name=f\"{col_name}_notes\"\n",
    "#     notes_col = [x if x in vals_to_notes else x for x in df[col_name]]\n",
    "#     amended_col = string_to_blank(df[col_name])\n",
    "#     return df[col_name], [amended_col, notes_col]\n",
    "\n",
    "    "
   ]
  },
  {
   "cell_type": "code",
   "execution_count": null,
   "metadata": {},
   "outputs": [],
   "source": [
    "{\n",
    "    \"OCT_DATE\": {\"format\": \"date\", \"string_intention\": \"mixed\", \"vals_to_notes\" = [\"NO ATROPHY\", \"OD CONVERTS TO WET\"]},\n",
    "    \"Sub-RPE 5mm OD\": {\"format\": \"numeric\", \"string_intention\": \"notes\"},\n",
    "    \"dist_fovea_OD\": {\"format\": \"numeric\", \"string_intention\": \"blank\"},\n",
    "    \"cst_OD\": {\"format\": \"numeric\", \"string_intention\":\"notes\"},\n",
    "    \"Sub-RPE 5mm OS\": {\"format\": \"numeric\", \"string_intention\": \"notes\"},\n",
    "    \"questionable_OS\": {\"format\": \"numeric\", \"string_intention\": \"blank\"}\n",
    "\n",
    "}"
   ]
  },
  {
   "cell_type": "code",
   "execution_count": 255,
   "metadata": {},
   "outputs": [],
   "source": [
    "def display_check(result):\n",
    "    old_col = result[0]\n",
    "    new_cols = result[1]\n",
    "    diff = old_col.compare(new_cols[0], result_names=(old_col.name, new_cols[0].name))\n",
    "    if len(new_cols)>1:\n",
    "        idx = list(diff.index) \n",
    "        cols = [old_col]+new_cols\n",
    "        return pd.DataFrame(cols).T.loc[idx]\n",
    "    return diff"
   ]
  },
  {
   "cell_type": "code",
   "execution_count": null,
   "metadata": {},
   "outputs": [],
   "source": [
    "class PatpopScrub:\n",
    "    def __init__(col: Sequence, instructions: Mapping):\n",
    "        self.format = instructions[\"format\"]\n",
    "        self.string_intention = instructions[\"string_intention\"]\n",
    "        self.old_col = col.copy()\n",
    "        self.notes_col_name = f\"{col.name}_notes\" if instructions[\"string_intention\"] != \"blank\" else None\n",
    "        self.old_col_name = f\"old_{col.name}\"\n",
    "        self.notes = self._get_notes()\n",
    "\n",
    "    def _get_notes(self):\n",
    "        if self.string_intention == \"mixed\":\n",
    "            if self.format == \"date\"\n",
    "                return pd.Series([x if x in self.instructions[\"vals_to_notes\"] else np.nan for x in old_col], name=self.notes_col_name)\n",
    "            else:\n",
    "                raise(ValueError(f\"Cannot have string_intention 'mixed' with format {self.format}\"))\n",
    "        if self.string_intention == \"notes\":\n",
    "            if self.format == \"numeric\":\n",
    "                return pd.Series([x if type(try_str_to_float(x)) == str else np.nan for x in old_col])\n",
    "            else:\n",
    "                raise(ValueError(f\"Cannot have string_intention 'notes' with format {self.format}\"))\n",
    "        if self.string_intention == \"blank\":\n",
    "            return None\n",
    "\n",
    "    def clean():\n",
    "        if self.format == \"numeric\":\n",
    "            ammended_col = string_to_blank_save_numeric(old_col)\n",
    "        if self.format == \"date\":\n",
    "            ammended_col = string_to_blank_save_date(col)\n",
    "        if self.notes:\n",
    "            return Tuple(self.old_col, [ammended_col, self.notes])\n",
    "        else:\n",
    "            return Tuple(self.old_col, [ammended_col])\n",
    "\n",
    "\n"
   ]
  },
  {
   "cell_type": "code",
   "execution_count": 256,
   "metadata": {},
   "outputs": [],
   "source": [
    "def pat_pop_date_str2mixed(col: Sequence, vals_to_notes: List[str]) -> Tuple[Sequence, List[Sequence]]:\n",
    "    \"\"\"applied to date column, some strings to blank, some to notes column\"\"\"\n",
    "    old_col = col.copy()\n",
    "    new_col_name = f\"{col.name}_notes\"\n",
    "    old_col.name = f\"old_{col.name}\"\n",
    "    notes_col = [x if x in vals_to_notes else np.nan for x in old_col]\n",
    "    amended_col = string_to_blank_save_date(col)\n",
    "    return (old_col, [amended_col, pd.Series(notes_col, name=new_col_name)])\n"
   ]
  },
  {
   "cell_type": "code",
   "execution_count": 277,
   "metadata": {},
   "outputs": [],
   "source": [
    "def pat_pop_numeric_str2notes(col: Sequence) -> Tuple[Sequence, List[Sequence]]:\n",
    "    \"\"\"applied to a numeric column, strings to notes column\n",
    "    Applied to Sub-RPE_5mm_OD, CST_OD, Sub-RPE_5mm_OS\"\"\"\n",
    "    old_col = col.copy()\n",
    "    new_col_name= f\"{col.name}_notes\"\n",
    "    old_col.name=f\"old_{col.name}\"\n",
    "    amended_col = string_to_blank_save_numeric(col)\n",
    "    notes_col = [x if type(try_str_to_float(x)) == str else np.nan for x in old_col]\n",
    "    return (old_col, [pd.Series(amended_col, name=col.name), pd.Series(notes_col, name=new_col_name)])\n",
    "\n"
   ]
  },
  {
   "cell_type": "code",
   "execution_count": 281,
   "metadata": {},
   "outputs": [],
   "source": [
    "def pat_pop_numeric_str2blank(col: Sequence) -> Tuple[Sequence, List[Sequence]]:\n",
    "    \"\"\"applied to numeric column, strings to blank\n",
    "    applied to dist_fovea_OD and questionable_OS\"\"\"\n",
    "    old_col = col.copy()\n",
    "    old_col.name=f\"old_{col.name}\"\n",
    "    new_col = string_to_blank_save_numeric(col)\n",
    "    return (old_col, [pd.Series(new_col, name=col.name)])"
   ]
  },
  {
   "cell_type": "code",
   "execution_count": 283,
   "metadata": {},
   "outputs": [],
   "source": [
    "res = pat_pop_numeric_str2blank(df[\"questionable_OS\"])"
   ]
  },
  {
   "cell_type": "code",
   "execution_count": 237,
   "metadata": {},
   "outputs": [
    {
     "data": {
      "text/plain": [
       "1472"
      ]
     },
     "execution_count": 237,
     "metadata": {},
     "output_type": "execute_result"
    }
   ],
   "source": [
    "len(cols)"
   ]
  },
  {
   "cell_type": "code",
   "execution_count": 233,
   "metadata": {},
   "outputs": [
    {
     "data": {
      "text/plain": [
       "[75, 357, 495, 1144, 1149, 1370]"
      ]
     },
     "execution_count": 233,
     "metadata": {},
     "output_type": "execute_result"
    }
   ],
   "source": [
    "list(res[0].compare(res[1][0], result_names=(res[0].name, res[1][0].name)).index)"
   ]
  },
  {
   "cell_type": "code",
   "execution_count": 204,
   "metadata": {},
   "outputs": [],
   "source": [
    "idx = res[0].compare(res[1][0], result_names=(res[0].name, res[1][0].name)).index"
   ]
  },
  {
   "cell_type": "code",
   "execution_count": 205,
   "metadata": {},
   "outputs": [],
   "source": [
    "ilist = list(idx)"
   ]
  }
 ],
 "metadata": {
  "kernelspec": {
   "display_name": ".venv",
   "language": "python",
   "name": "python3"
  },
  "language_info": {
   "codemirror_mode": {
    "name": "ipython",
    "version": 3
   },
   "file_extension": ".py",
   "mimetype": "text/x-python",
   "name": "python",
   "nbconvert_exporter": "python",
   "pygments_lexer": "ipython3",
   "version": "3.11.6"
  }
 },
 "nbformat": 4,
 "nbformat_minor": 2
}
